{
 "cells": [
  {
   "cell_type": "markdown",
   "id": "3bcfc2fc",
   "metadata": {
    "papermill": {
     "duration": 0.087426,
     "end_time": "2021-09-20T01:49:39.738672",
     "exception": false,
     "start_time": "2021-09-20T01:49:39.651246",
     "status": "completed"
    },
    "tags": []
   },
   "source": [
    "# Appstore games: Project by Humberto Mundo"
   ]
  },
  {
   "cell_type": "markdown",
   "id": "17d50793",
   "metadata": {
    "papermill": {
     "duration": 0.075287,
     "end_time": "2021-09-20T01:49:39.903017",
     "exception": false,
     "start_time": "2021-09-20T01:49:39.827730",
     "status": "completed"
    },
    "tags": []
   },
   "source": [
    "### Today we will explore the appstore games dataset from kaggle: \n",
    "https://www.kaggle.com/tristan581/17k-apple-app-store-strategy-games?select=appstore_games.csv\n",
    "\n",
    "### We will clean the data, provide visualizations, answer some questions regarding the results we found and finally we will build a ML model. \n",
    "### Tasks:\n",
    "#### 1. Answer specific questions such as: \n",
    "\n",
    "* In-app purchase games vs paid games vs free to play\n",
    "* What genre and subgenres are the most popular?\n",
    "* Which developers rack the highest/lowest average ratings?\n",
    "* What are the most common words used in app descriptions?\n",
    "* Change in Price, Size, and User rating count throughout the years.\n",
    "* Top 5 apps with the perfect rating and highest rating count.\n",
    "* What variable seems to have the most effect on a high rating?\n",
    "\n",
    "#### 2. Build a model that predicts the rating of a game\n",
    "\n",
    "### Table of Contents:\n",
    "1. [Packages and data preparation](#1.-Packages-and-data-preparation)\n",
    "2. [Quick glance at data](#2.-Quick-glance-at-data)\n",
    "3. [Clean data pt.1](#3.-Clean-data-pt.1)\n",
    "4. [Clean data pt.2](#4.-Clean-data-pt.2)\n",
    "5. [Pre-EDA](#5.-Pre-EDA)\n",
    "6. [EDA](#6.-EDA)\n",
    "7. [Model preparation](#7.-Model-preparation)\n",
    "8. [Model validation](#8.-Model-validation)\n",
    "9. [Final model build](#9.-Final-model-build)\n",
    "10. [Conclusion](#10.-Conclusion)"
   ]
  },
  {
   "cell_type": "markdown",
   "id": "41088b16",
   "metadata": {
    "papermill": {
     "duration": 0.080764,
     "end_time": "2021-09-20T01:49:40.063974",
     "exception": false,
     "start_time": "2021-09-20T01:49:39.983210",
     "status": "completed"
    },
    "tags": []
   },
   "source": [
    "## 1. Packages and data preparation"
   ]
  },
  {
   "cell_type": "code",
   "execution_count": 1,
   "id": "0679ba76",
   "metadata": {
    "execution": {
     "iopub.execute_input": "2021-09-20T01:49:40.231631Z",
     "iopub.status.busy": "2021-09-20T01:49:40.220807Z",
     "iopub.status.idle": "2021-09-20T01:49:43.992950Z",
     "shell.execute_reply": "2021-09-20T01:49:43.992263Z",
     "shell.execute_reply.started": "2021-09-20T01:35:40.401048Z"
    },
    "papermill": {
     "duration": 3.853633,
     "end_time": "2021-09-20T01:49:43.993164",
     "exception": false,
     "start_time": "2021-09-20T01:49:40.139531",
     "status": "completed"
    },
    "tags": []
   },
   "outputs": [
    {
     "data": {
      "text/html": [
       "<style type='text/css'>\n",
       ".datatable table.frame { margin-bottom: 0; }\n",
       ".datatable table.frame thead { border-bottom: none; }\n",
       ".datatable table.frame tr.coltypes td {  color: #FFFFFF;  line-height: 6px;  padding: 0 0.5em;}\n",
       ".datatable .bool    { background: #DDDD99; }\n",
       ".datatable .object  { background: #565656; }\n",
       ".datatable .int     { background: #5D9E5D; }\n",
       ".datatable .float   { background: #4040CC; }\n",
       ".datatable .str     { background: #CC4040; }\n",
       ".datatable .time    { background: #40CC40; }\n",
       ".datatable .row_index {  background: var(--jp-border-color3);  border-right: 1px solid var(--jp-border-color0);  color: var(--jp-ui-font-color3);  font-size: 9px;}\n",
       ".datatable .frame tbody td { text-align: left; }\n",
       ".datatable .frame tr.coltypes .row_index {  background: var(--jp-border-color0);}\n",
       ".datatable th:nth-child(2) { padding-left: 12px; }\n",
       ".datatable .hellipsis {  color: var(--jp-cell-editor-border-color);}\n",
       ".datatable .vellipsis {  background: var(--jp-layout-color0);  color: var(--jp-cell-editor-border-color);}\n",
       ".datatable .na {  color: var(--jp-cell-editor-border-color);  font-size: 80%;}\n",
       ".datatable .sp {  opacity: 0.25;}\n",
       ".datatable .footer { font-size: 9px; }\n",
       ".datatable .frame_dimensions {  background: var(--jp-border-color3);  border-top: 1px solid var(--jp-border-color0);  color: var(--jp-ui-font-color3);  display: inline-block;  opacity: 0.6;  padding: 1px 10px 1px 5px;}\n",
       "</style>\n"
      ],
      "text/plain": [
       "<IPython.core.display.HTML object>"
      ]
     },
     "metadata": {},
     "output_type": "display_data"
    }
   ],
   "source": [
    "# data analysis\n",
    "import pandas as pd\n",
    "import numpy as np\n",
    "import random as rnd\n",
    "import math\n",
    "from scipy import stats\n",
    "from scipy.stats import norm, skew, mode\n",
    "from scipy.special import boxcox1p\n",
    "\n",
    "# visualization\n",
    "import seaborn as sns\n",
    "import matplotlib.pyplot as plt\n",
    "from statsmodels.graphics.gofplots import qqplot\n",
    "import statsmodels.api as sm\n",
    "import plotly.express as px\n",
    "import plotly.graph_objects as go\n",
    "from wordcloud import WordCloud\n",
    "%matplotlib inline\n",
    "\n",
    "# machine learning\n",
    "from joblib import parallel_backend\n",
    "import eli5\n",
    "from eli5.sklearn import PermutationImportance\n",
    "from sklearn.model_selection import train_test_split\n",
    "from sklearn.pipeline import make_pipeline, Pipeline, FeatureUnion\n",
    "from sklearn import preprocessing\n",
    "from sklearn.preprocessing import RobustScaler, LabelEncoder, OneHotEncoder, StandardScaler, MinMaxScaler\n",
    "from sklearn.preprocessing import LabelBinarizer\n",
    "from sklearn.compose import ColumnTransformer\n",
    "from sklearn.base import BaseEstimator, TransformerMixin\n",
    "from sklearn.metrics import confusion_matrix, accuracy_score \n",
    "from sklearn.metrics import precision_score,f1_score\n",
    "\n",
    "import xgboost as xgb\n",
    "import lightgbm as lgb\n",
    "\n",
    "from sklearn.ensemble import RandomForestClassifier\n",
    "from sklearn.linear_model import LinearRegression\n",
    "from sklearn.neighbors import KNeighborsClassifier\n",
    "from sklearn.tree import DecisionTreeClassifier\n",
    "from catboost import CatBoostClassifier,Pool\n",
    "\n",
    "import warnings\n",
    "warnings.filterwarnings('ignore')"
   ]
  },
  {
   "cell_type": "code",
   "execution_count": 2,
   "id": "cd495d40",
   "metadata": {
    "execution": {
     "iopub.execute_input": "2021-09-20T01:49:44.152282Z",
     "iopub.status.busy": "2021-09-20T01:49:44.151648Z",
     "iopub.status.idle": "2021-09-20T01:49:45.005263Z",
     "shell.execute_reply": "2021-09-20T01:49:45.004708Z",
     "shell.execute_reply.started": "2021-09-20T01:35:40.438408Z"
    },
    "papermill": {
     "duration": 0.933824,
     "end_time": "2021-09-20T01:49:45.005417",
     "exception": false,
     "start_time": "2021-09-20T01:49:44.071593",
     "status": "completed"
    },
    "tags": []
   },
   "outputs": [
    {
     "data": {
      "text/html": [
       "<div>\n",
       "<style scoped>\n",
       "    .dataframe tbody tr th:only-of-type {\n",
       "        vertical-align: middle;\n",
       "    }\n",
       "\n",
       "    .dataframe tbody tr th {\n",
       "        vertical-align: top;\n",
       "    }\n",
       "\n",
       "    .dataframe thead th {\n",
       "        text-align: right;\n",
       "    }\n",
       "</style>\n",
       "<table border=\"1\" class=\"dataframe\">\n",
       "  <thead>\n",
       "    <tr style=\"text-align: right;\">\n",
       "      <th></th>\n",
       "      <th>URL</th>\n",
       "      <th>ID</th>\n",
       "      <th>Name</th>\n",
       "      <th>Subtitle</th>\n",
       "      <th>Icon URL</th>\n",
       "      <th>Average User Rating</th>\n",
       "      <th>User Rating Count</th>\n",
       "      <th>Price</th>\n",
       "      <th>In-app Purchases</th>\n",
       "      <th>Description</th>\n",
       "      <th>Developer</th>\n",
       "      <th>Age Rating</th>\n",
       "      <th>Languages</th>\n",
       "      <th>Size</th>\n",
       "      <th>Primary Genre</th>\n",
       "      <th>Genres</th>\n",
       "      <th>Original Release Date</th>\n",
       "      <th>Current Version Release Date</th>\n",
       "    </tr>\n",
       "  </thead>\n",
       "  <tbody>\n",
       "    <tr>\n",
       "      <th>0</th>\n",
       "      <td>https://apps.apple.com/us/app/sudoku/id284921427</td>\n",
       "      <td>284921427</td>\n",
       "      <td>Sudoku</td>\n",
       "      <td>NaN</td>\n",
       "      <td>https://is2-ssl.mzstatic.com/image/thumb/Purpl...</td>\n",
       "      <td>4.0</td>\n",
       "      <td>3553.0</td>\n",
       "      <td>2.99</td>\n",
       "      <td>NaN</td>\n",
       "      <td>Join over 21,000,000 of our fans and download ...</td>\n",
       "      <td>Mighty Mighty Good Games</td>\n",
       "      <td>4+</td>\n",
       "      <td>DA, NL, EN, FI, FR, DE, IT, JA, KO, NB, PL, PT...</td>\n",
       "      <td>15853568.0</td>\n",
       "      <td>Games</td>\n",
       "      <td>Games, Strategy, Puzzle</td>\n",
       "      <td>11/07/2008</td>\n",
       "      <td>30/05/2017</td>\n",
       "    </tr>\n",
       "    <tr>\n",
       "      <th>1</th>\n",
       "      <td>https://apps.apple.com/us/app/reversi/id284926400</td>\n",
       "      <td>284926400</td>\n",
       "      <td>Reversi</td>\n",
       "      <td>NaN</td>\n",
       "      <td>https://is4-ssl.mzstatic.com/image/thumb/Purpl...</td>\n",
       "      <td>3.5</td>\n",
       "      <td>284.0</td>\n",
       "      <td>1.99</td>\n",
       "      <td>NaN</td>\n",
       "      <td>The classic game of Reversi, also known as Oth...</td>\n",
       "      <td>Kiss The Machine</td>\n",
       "      <td>4+</td>\n",
       "      <td>EN</td>\n",
       "      <td>12328960.0</td>\n",
       "      <td>Games</td>\n",
       "      <td>Games, Strategy, Board</td>\n",
       "      <td>11/07/2008</td>\n",
       "      <td>17/05/2018</td>\n",
       "    </tr>\n",
       "    <tr>\n",
       "      <th>2</th>\n",
       "      <td>https://apps.apple.com/us/app/morocco/id284946595</td>\n",
       "      <td>284946595</td>\n",
       "      <td>Morocco</td>\n",
       "      <td>NaN</td>\n",
       "      <td>https://is5-ssl.mzstatic.com/image/thumb/Purpl...</td>\n",
       "      <td>3.0</td>\n",
       "      <td>8376.0</td>\n",
       "      <td>0.00</td>\n",
       "      <td>NaN</td>\n",
       "      <td>Play the classic strategy game Othello (also k...</td>\n",
       "      <td>Bayou Games</td>\n",
       "      <td>4+</td>\n",
       "      <td>EN</td>\n",
       "      <td>674816.0</td>\n",
       "      <td>Games</td>\n",
       "      <td>Games, Board, Strategy</td>\n",
       "      <td>11/07/2008</td>\n",
       "      <td>5/09/2017</td>\n",
       "    </tr>\n",
       "  </tbody>\n",
       "</table>\n",
       "</div>"
      ],
      "text/plain": [
       "                                                 URL         ID     Name  \\\n",
       "0   https://apps.apple.com/us/app/sudoku/id284921427  284921427   Sudoku   \n",
       "1  https://apps.apple.com/us/app/reversi/id284926400  284926400  Reversi   \n",
       "2  https://apps.apple.com/us/app/morocco/id284946595  284946595  Morocco   \n",
       "\n",
       "  Subtitle                                           Icon URL  \\\n",
       "0      NaN  https://is2-ssl.mzstatic.com/image/thumb/Purpl...   \n",
       "1      NaN  https://is4-ssl.mzstatic.com/image/thumb/Purpl...   \n",
       "2      NaN  https://is5-ssl.mzstatic.com/image/thumb/Purpl...   \n",
       "\n",
       "   Average User Rating  User Rating Count  Price In-app Purchases  \\\n",
       "0                  4.0             3553.0   2.99              NaN   \n",
       "1                  3.5              284.0   1.99              NaN   \n",
       "2                  3.0             8376.0   0.00              NaN   \n",
       "\n",
       "                                         Description  \\\n",
       "0  Join over 21,000,000 of our fans and download ...   \n",
       "1  The classic game of Reversi, also known as Oth...   \n",
       "2  Play the classic strategy game Othello (also k...   \n",
       "\n",
       "                  Developer Age Rating  \\\n",
       "0  Mighty Mighty Good Games         4+   \n",
       "1          Kiss The Machine         4+   \n",
       "2               Bayou Games         4+   \n",
       "\n",
       "                                           Languages        Size  \\\n",
       "0  DA, NL, EN, FI, FR, DE, IT, JA, KO, NB, PL, PT...  15853568.0   \n",
       "1                                                 EN  12328960.0   \n",
       "2                                                 EN    674816.0   \n",
       "\n",
       "  Primary Genre                   Genres Original Release Date  \\\n",
       "0         Games  Games, Strategy, Puzzle            11/07/2008   \n",
       "1         Games   Games, Strategy, Board            11/07/2008   \n",
       "2         Games   Games, Board, Strategy            11/07/2008   \n",
       "\n",
       "  Current Version Release Date  \n",
       "0                   30/05/2017  \n",
       "1                   17/05/2018  \n",
       "2                    5/09/2017  "
      ]
     },
     "execution_count": 2,
     "metadata": {},
     "output_type": "execute_result"
    }
   ],
   "source": [
    "#games = pd.read_csv('appstore_games.csv')\n",
    "games=pd.read_csv('../input/17k-apple-app-store-strategy-games/appstore_games.csv')\n",
    "games.head(3)"
   ]
  },
  {
   "cell_type": "code",
   "execution_count": 3,
   "id": "8c337ac6",
   "metadata": {
    "execution": {
     "iopub.execute_input": "2021-09-20T01:49:45.167451Z",
     "iopub.status.busy": "2021-09-20T01:49:45.166750Z",
     "iopub.status.idle": "2021-09-20T01:49:45.169083Z",
     "shell.execute_reply": "2021-09-20T01:49:45.169559Z",
     "shell.execute_reply.started": "2021-09-20T01:35:40.811992Z"
    },
    "papermill": {
     "duration": 0.08677,
     "end_time": "2021-09-20T01:49:45.169719",
     "exception": false,
     "start_time": "2021-09-20T01:49:45.082949",
     "status": "completed"
    },
    "tags": []
   },
   "outputs": [],
   "source": [
    "#save icon URl\n",
    "icons = games['Icon URL']\n",
    "descriptions = games['Description']"
   ]
  },
  {
   "cell_type": "markdown",
   "id": "ec43baaa",
   "metadata": {
    "papermill": {
     "duration": 0.077588,
     "end_time": "2021-09-20T01:49:45.325186",
     "exception": false,
     "start_time": "2021-09-20T01:49:45.247598",
     "status": "completed"
    },
    "tags": []
   },
   "source": [
    "## 2. Quick glance at data"
   ]
  },
  {
   "cell_type": "markdown",
   "id": "10dbc009",
   "metadata": {
    "papermill": {
     "duration": 0.076864,
     "end_time": "2021-09-20T01:49:45.478844",
     "exception": false,
     "start_time": "2021-09-20T01:49:45.401980",
     "status": "completed"
    },
    "tags": []
   },
   "source": [
    "##### Dataset info"
   ]
  },
  {
   "cell_type": "code",
   "execution_count": 4,
   "id": "302606b2",
   "metadata": {
    "execution": {
     "iopub.execute_input": "2021-09-20T01:49:45.634399Z",
     "iopub.status.busy": "2021-09-20T01:49:45.633708Z",
     "iopub.status.idle": "2021-09-20T01:49:45.678776Z",
     "shell.execute_reply": "2021-09-20T01:49:45.679287Z",
     "shell.execute_reply.started": "2021-09-20T01:35:40.820111Z"
    },
    "papermill": {
     "duration": 0.124503,
     "end_time": "2021-09-20T01:49:45.679456",
     "exception": false,
     "start_time": "2021-09-20T01:49:45.554953",
     "status": "completed"
    },
    "tags": []
   },
   "outputs": [
    {
     "name": "stdout",
     "output_type": "stream",
     "text": [
      "Number of rows: 17007\n",
      "Number of columns: 18\n",
      "----------------------------------------------------\n",
      "<class 'pandas.core.frame.DataFrame'>\n",
      "RangeIndex: 17007 entries, 0 to 17006\n",
      "Data columns (total 18 columns):\n",
      " #   Column                        Non-Null Count  Dtype  \n",
      "---  ------                        --------------  -----  \n",
      " 0   URL                           17007 non-null  object \n",
      " 1   ID                            17007 non-null  int64  \n",
      " 2   Name                          17007 non-null  object \n",
      " 3   Subtitle                      5261 non-null   object \n",
      " 4   Icon URL                      17007 non-null  object \n",
      " 5   Average User Rating           7561 non-null   float64\n",
      " 6   User Rating Count             7561 non-null   float64\n",
      " 7   Price                         16983 non-null  float64\n",
      " 8   In-app Purchases              7683 non-null   object \n",
      " 9   Description                   17007 non-null  object \n",
      " 10  Developer                     17007 non-null  object \n",
      " 11  Age Rating                    17007 non-null  object \n",
      " 12  Languages                     16947 non-null  object \n",
      " 13  Size                          17006 non-null  float64\n",
      " 14  Primary Genre                 17007 non-null  object \n",
      " 15  Genres                        17007 non-null  object \n",
      " 16  Original Release Date         17007 non-null  object \n",
      " 17  Current Version Release Date  17007 non-null  object \n",
      "dtypes: float64(4), int64(1), object(13)\n",
      "memory usage: 2.3+ MB\n",
      "None\n"
     ]
    }
   ],
   "source": [
    "print(\"Number of rows:\", games.shape[0])\n",
    "print(\"Number of columns:\", games.shape[1])\n",
    "print(\"----------------------------------------------------\")\n",
    "print(games.info())"
   ]
  },
  {
   "cell_type": "code",
   "execution_count": 5,
   "id": "2a485d5b",
   "metadata": {
    "execution": {
     "iopub.execute_input": "2021-09-20T01:49:45.838225Z",
     "iopub.status.busy": "2021-09-20T01:49:45.837609Z",
     "iopub.status.idle": "2021-09-20T01:49:45.867070Z",
     "shell.execute_reply": "2021-09-20T01:49:45.866431Z",
     "shell.execute_reply.started": "2021-09-20T01:35:40.882274Z"
    },
    "papermill": {
     "duration": 0.110057,
     "end_time": "2021-09-20T01:49:45.867207",
     "exception": false,
     "start_time": "2021-09-20T01:49:45.757150",
     "status": "completed"
    },
    "tags": []
   },
   "outputs": [
    {
     "data": {
      "text/html": [
       "<div>\n",
       "<style scoped>\n",
       "    .dataframe tbody tr th:only-of-type {\n",
       "        vertical-align: middle;\n",
       "    }\n",
       "\n",
       "    .dataframe tbody tr th {\n",
       "        vertical-align: top;\n",
       "    }\n",
       "\n",
       "    .dataframe thead th {\n",
       "        text-align: right;\n",
       "    }\n",
       "</style>\n",
       "<table border=\"1\" class=\"dataframe\">\n",
       "  <thead>\n",
       "    <tr style=\"text-align: right;\">\n",
       "      <th></th>\n",
       "      <th>ID</th>\n",
       "      <th>Average User Rating</th>\n",
       "      <th>User Rating Count</th>\n",
       "      <th>Price</th>\n",
       "      <th>Size</th>\n",
       "    </tr>\n",
       "  </thead>\n",
       "  <tbody>\n",
       "    <tr>\n",
       "      <th>count</th>\n",
       "      <td>1.700700e+04</td>\n",
       "      <td>7561.000000</td>\n",
       "      <td>7.561000e+03</td>\n",
       "      <td>16983.000000</td>\n",
       "      <td>1.700600e+04</td>\n",
       "    </tr>\n",
       "    <tr>\n",
       "      <th>mean</th>\n",
       "      <td>1.059614e+09</td>\n",
       "      <td>4.060905</td>\n",
       "      <td>3.306531e+03</td>\n",
       "      <td>0.813419</td>\n",
       "      <td>1.157064e+08</td>\n",
       "    </tr>\n",
       "    <tr>\n",
       "      <th>std</th>\n",
       "      <td>2.999676e+08</td>\n",
       "      <td>0.751428</td>\n",
       "      <td>4.232256e+04</td>\n",
       "      <td>7.835732</td>\n",
       "      <td>2.036477e+08</td>\n",
       "    </tr>\n",
       "    <tr>\n",
       "      <th>min</th>\n",
       "      <td>2.849214e+08</td>\n",
       "      <td>1.000000</td>\n",
       "      <td>5.000000e+00</td>\n",
       "      <td>0.000000</td>\n",
       "      <td>5.132800e+04</td>\n",
       "    </tr>\n",
       "    <tr>\n",
       "      <th>25%</th>\n",
       "      <td>8.996543e+08</td>\n",
       "      <td>3.500000</td>\n",
       "      <td>1.200000e+01</td>\n",
       "      <td>0.000000</td>\n",
       "      <td>2.295014e+07</td>\n",
       "    </tr>\n",
       "    <tr>\n",
       "      <th>50%</th>\n",
       "      <td>1.112286e+09</td>\n",
       "      <td>4.500000</td>\n",
       "      <td>4.600000e+01</td>\n",
       "      <td>0.000000</td>\n",
       "      <td>5.676895e+07</td>\n",
       "    </tr>\n",
       "    <tr>\n",
       "      <th>75%</th>\n",
       "      <td>1.286983e+09</td>\n",
       "      <td>4.500000</td>\n",
       "      <td>3.090000e+02</td>\n",
       "      <td>0.000000</td>\n",
       "      <td>1.330271e+08</td>\n",
       "    </tr>\n",
       "    <tr>\n",
       "      <th>max</th>\n",
       "      <td>1.475077e+09</td>\n",
       "      <td>5.000000</td>\n",
       "      <td>3.032734e+06</td>\n",
       "      <td>179.990000</td>\n",
       "      <td>4.005591e+09</td>\n",
       "    </tr>\n",
       "  </tbody>\n",
       "</table>\n",
       "</div>"
      ],
      "text/plain": [
       "                 ID  Average User Rating  User Rating Count         Price  \\\n",
       "count  1.700700e+04          7561.000000       7.561000e+03  16983.000000   \n",
       "mean   1.059614e+09             4.060905       3.306531e+03      0.813419   \n",
       "std    2.999676e+08             0.751428       4.232256e+04      7.835732   \n",
       "min    2.849214e+08             1.000000       5.000000e+00      0.000000   \n",
       "25%    8.996543e+08             3.500000       1.200000e+01      0.000000   \n",
       "50%    1.112286e+09             4.500000       4.600000e+01      0.000000   \n",
       "75%    1.286983e+09             4.500000       3.090000e+02      0.000000   \n",
       "max    1.475077e+09             5.000000       3.032734e+06    179.990000   \n",
       "\n",
       "               Size  \n",
       "count  1.700600e+04  \n",
       "mean   1.157064e+08  \n",
       "std    2.036477e+08  \n",
       "min    5.132800e+04  \n",
       "25%    2.295014e+07  \n",
       "50%    5.676895e+07  \n",
       "75%    1.330271e+08  \n",
       "max    4.005591e+09  "
      ]
     },
     "execution_count": 5,
     "metadata": {},
     "output_type": "execute_result"
    }
   ],
   "source": [
    "games.describe()"
   ]
  },
  {
   "cell_type": "markdown",
   "id": "fa5d5613",
   "metadata": {
    "papermill": {
     "duration": 0.077103,
     "end_time": "2021-09-20T01:49:46.022819",
     "exception": false,
     "start_time": "2021-09-20T01:49:45.945716",
     "status": "completed"
    },
    "tags": []
   },
   "source": [
    "##### Missing values"
   ]
  },
  {
   "cell_type": "code",
   "execution_count": 6,
   "id": "4c5f5299",
   "metadata": {
    "execution": {
     "iopub.execute_input": "2021-09-20T01:49:46.182671Z",
     "iopub.status.busy": "2021-09-20T01:49:46.182043Z",
     "iopub.status.idle": "2021-09-20T01:49:46.252688Z",
     "shell.execute_reply": "2021-09-20T01:49:46.253209Z",
     "shell.execute_reply.started": "2021-09-20T01:35:40.923105Z"
    },
    "papermill": {
     "duration": 0.151854,
     "end_time": "2021-09-20T01:49:46.253379",
     "exception": false,
     "start_time": "2021-09-20T01:49:46.101525",
     "status": "completed"
    },
    "tags": []
   },
   "outputs": [
    {
     "data": {
      "text/html": [
       "<div>\n",
       "<style scoped>\n",
       "    .dataframe tbody tr th:only-of-type {\n",
       "        vertical-align: middle;\n",
       "    }\n",
       "\n",
       "    .dataframe tbody tr th {\n",
       "        vertical-align: top;\n",
       "    }\n",
       "\n",
       "    .dataframe thead th {\n",
       "        text-align: right;\n",
       "    }\n",
       "</style>\n",
       "<table border=\"1\" class=\"dataframe\">\n",
       "  <thead>\n",
       "    <tr style=\"text-align: right;\">\n",
       "      <th></th>\n",
       "      <th>Total</th>\n",
       "      <th>%</th>\n",
       "      <th>Dtype</th>\n",
       "    </tr>\n",
       "  </thead>\n",
       "  <tbody>\n",
       "    <tr>\n",
       "      <th>Subtitle</th>\n",
       "      <td>11746</td>\n",
       "      <td>69.065679</td>\n",
       "      <td>object</td>\n",
       "    </tr>\n",
       "    <tr>\n",
       "      <th>Average User Rating</th>\n",
       "      <td>9446</td>\n",
       "      <td>55.541836</td>\n",
       "      <td>float64</td>\n",
       "    </tr>\n",
       "    <tr>\n",
       "      <th>User Rating Count</th>\n",
       "      <td>9446</td>\n",
       "      <td>55.541836</td>\n",
       "      <td>float64</td>\n",
       "    </tr>\n",
       "    <tr>\n",
       "      <th>In-app Purchases</th>\n",
       "      <td>9324</td>\n",
       "      <td>54.824484</td>\n",
       "      <td>object</td>\n",
       "    </tr>\n",
       "    <tr>\n",
       "      <th>Languages</th>\n",
       "      <td>60</td>\n",
       "      <td>0.352796</td>\n",
       "      <td>object</td>\n",
       "    </tr>\n",
       "    <tr>\n",
       "      <th>Price</th>\n",
       "      <td>24</td>\n",
       "      <td>0.141118</td>\n",
       "      <td>float64</td>\n",
       "    </tr>\n",
       "    <tr>\n",
       "      <th>Size</th>\n",
       "      <td>1</td>\n",
       "      <td>0.005880</td>\n",
       "      <td>float64</td>\n",
       "    </tr>\n",
       "    <tr>\n",
       "      <th>URL</th>\n",
       "      <td>0</td>\n",
       "      <td>0.000000</td>\n",
       "      <td>object</td>\n",
       "    </tr>\n",
       "    <tr>\n",
       "      <th>Original Release Date</th>\n",
       "      <td>0</td>\n",
       "      <td>0.000000</td>\n",
       "      <td>object</td>\n",
       "    </tr>\n",
       "    <tr>\n",
       "      <th>Genres</th>\n",
       "      <td>0</td>\n",
       "      <td>0.000000</td>\n",
       "      <td>object</td>\n",
       "    </tr>\n",
       "    <tr>\n",
       "      <th>Primary Genre</th>\n",
       "      <td>0</td>\n",
       "      <td>0.000000</td>\n",
       "      <td>object</td>\n",
       "    </tr>\n",
       "    <tr>\n",
       "      <th>Description</th>\n",
       "      <td>0</td>\n",
       "      <td>0.000000</td>\n",
       "      <td>object</td>\n",
       "    </tr>\n",
       "    <tr>\n",
       "      <th>Age Rating</th>\n",
       "      <td>0</td>\n",
       "      <td>0.000000</td>\n",
       "      <td>object</td>\n",
       "    </tr>\n",
       "    <tr>\n",
       "      <th>Developer</th>\n",
       "      <td>0</td>\n",
       "      <td>0.000000</td>\n",
       "      <td>object</td>\n",
       "    </tr>\n",
       "    <tr>\n",
       "      <th>ID</th>\n",
       "      <td>0</td>\n",
       "      <td>0.000000</td>\n",
       "      <td>int64</td>\n",
       "    </tr>\n",
       "    <tr>\n",
       "      <th>Icon URL</th>\n",
       "      <td>0</td>\n",
       "      <td>0.000000</td>\n",
       "      <td>object</td>\n",
       "    </tr>\n",
       "    <tr>\n",
       "      <th>Name</th>\n",
       "      <td>0</td>\n",
       "      <td>0.000000</td>\n",
       "      <td>object</td>\n",
       "    </tr>\n",
       "    <tr>\n",
       "      <th>Current Version Release Date</th>\n",
       "      <td>0</td>\n",
       "      <td>0.000000</td>\n",
       "      <td>object</td>\n",
       "    </tr>\n",
       "  </tbody>\n",
       "</table>\n",
       "</div>"
      ],
      "text/plain": [
       "                              Total          %    Dtype\n",
       "Subtitle                      11746  69.065679   object\n",
       "Average User Rating            9446  55.541836  float64\n",
       "User Rating Count              9446  55.541836  float64\n",
       "In-app Purchases               9324  54.824484   object\n",
       "Languages                        60   0.352796   object\n",
       "Price                            24   0.141118  float64\n",
       "Size                              1   0.005880  float64\n",
       "URL                               0   0.000000   object\n",
       "Original Release Date             0   0.000000   object\n",
       "Genres                            0   0.000000   object\n",
       "Primary Genre                     0   0.000000   object\n",
       "Description                       0   0.000000   object\n",
       "Age Rating                        0   0.000000   object\n",
       "Developer                         0   0.000000   object\n",
       "ID                                0   0.000000    int64\n",
       "Icon URL                          0   0.000000   object\n",
       "Name                              0   0.000000   object\n",
       "Current Version Release Date      0   0.000000   object"
      ]
     },
     "execution_count": 6,
     "metadata": {},
     "output_type": "execute_result"
    }
   ],
   "source": [
    "total = games.isnull().sum().sort_values(ascending=False)\n",
    "percent = (total/games.isnull().count()).sort_values(ascending=False)*100\n",
    "dtype = games.dtypes\n",
    "na_table = pd.concat([total,percent,dtype], axis=1, keys=['Total', '%', 'Dtype'])\n",
    "na_table"
   ]
  },
  {
   "cell_type": "markdown",
   "id": "fbf0ce0d",
   "metadata": {
    "papermill": {
     "duration": 0.078316,
     "end_time": "2021-09-20T01:49:46.410479",
     "exception": false,
     "start_time": "2021-09-20T01:49:46.332163",
     "status": "completed"
    },
    "tags": []
   },
   "source": [
    "#### The columns that contain Null values: Subtitle, Average User Rating, User Rating Count, In-app Purchases, Languages, Price, Size\t"
   ]
  },
  {
   "cell_type": "markdown",
   "id": "46643371",
   "metadata": {
    "papermill": {
     "duration": 0.077726,
     "end_time": "2021-09-20T01:49:46.566858",
     "exception": false,
     "start_time": "2021-09-20T01:49:46.489132",
     "status": "completed"
    },
    "tags": []
   },
   "source": [
    "## 3. Clean data pt.1"
   ]
  },
  {
   "cell_type": "markdown",
   "id": "910ca973",
   "metadata": {
    "papermill": {
     "duration": 0.077551,
     "end_time": "2021-09-20T01:49:46.722796",
     "exception": false,
     "start_time": "2021-09-20T01:49:46.645245",
     "status": "completed"
    },
    "tags": []
   },
   "source": [
    "##### Drop useless columns"
   ]
  },
  {
   "cell_type": "code",
   "execution_count": 7,
   "id": "60a553f1",
   "metadata": {
    "execution": {
     "iopub.execute_input": "2021-09-20T01:49:46.881576Z",
     "iopub.status.busy": "2021-09-20T01:49:46.880938Z",
     "iopub.status.idle": "2021-09-20T01:49:46.887141Z",
     "shell.execute_reply": "2021-09-20T01:49:46.887633Z",
     "shell.execute_reply.started": "2021-09-20T01:35:41.004157Z"
    },
    "papermill": {
     "duration": 0.087059,
     "end_time": "2021-09-20T01:49:46.887819",
     "exception": false,
     "start_time": "2021-09-20T01:49:46.800760",
     "status": "completed"
    },
    "tags": []
   },
   "outputs": [],
   "source": [
    "games = games.drop(['ID','URL','Subtitle','Icon URL','Description'], axis = 1)"
   ]
  },
  {
   "cell_type": "code",
   "execution_count": 8,
   "id": "cd0c09f0",
   "metadata": {
    "execution": {
     "iopub.execute_input": "2021-09-20T01:49:47.067958Z",
     "iopub.status.busy": "2021-09-20T01:49:47.047991Z",
     "iopub.status.idle": "2021-09-20T01:49:47.101375Z",
     "shell.execute_reply": "2021-09-20T01:49:47.100857Z",
     "shell.execute_reply.started": "2021-09-20T01:35:41.015336Z"
    },
    "papermill": {
     "duration": 0.135827,
     "end_time": "2021-09-20T01:49:47.101519",
     "exception": false,
     "start_time": "2021-09-20T01:49:46.965692",
     "status": "completed"
    },
    "tags": []
   },
   "outputs": [
    {
     "data": {
      "text/html": [
       "<div>\n",
       "<style scoped>\n",
       "    .dataframe tbody tr th:only-of-type {\n",
       "        vertical-align: middle;\n",
       "    }\n",
       "\n",
       "    .dataframe tbody tr th {\n",
       "        vertical-align: top;\n",
       "    }\n",
       "\n",
       "    .dataframe thead th {\n",
       "        text-align: right;\n",
       "    }\n",
       "</style>\n",
       "<table border=\"1\" class=\"dataframe\">\n",
       "  <thead>\n",
       "    <tr style=\"text-align: right;\">\n",
       "      <th></th>\n",
       "      <th>Total</th>\n",
       "      <th>%</th>\n",
       "      <th>Dtype</th>\n",
       "    </tr>\n",
       "  </thead>\n",
       "  <tbody>\n",
       "    <tr>\n",
       "      <th>Average User Rating</th>\n",
       "      <td>9446</td>\n",
       "      <td>55.541836</td>\n",
       "      <td>float64</td>\n",
       "    </tr>\n",
       "    <tr>\n",
       "      <th>User Rating Count</th>\n",
       "      <td>9446</td>\n",
       "      <td>55.541836</td>\n",
       "      <td>float64</td>\n",
       "    </tr>\n",
       "    <tr>\n",
       "      <th>In-app Purchases</th>\n",
       "      <td>9324</td>\n",
       "      <td>54.824484</td>\n",
       "      <td>object</td>\n",
       "    </tr>\n",
       "    <tr>\n",
       "      <th>Languages</th>\n",
       "      <td>60</td>\n",
       "      <td>0.352796</td>\n",
       "      <td>object</td>\n",
       "    </tr>\n",
       "    <tr>\n",
       "      <th>Price</th>\n",
       "      <td>24</td>\n",
       "      <td>0.141118</td>\n",
       "      <td>float64</td>\n",
       "    </tr>\n",
       "    <tr>\n",
       "      <th>Size</th>\n",
       "      <td>1</td>\n",
       "      <td>0.005880</td>\n",
       "      <td>float64</td>\n",
       "    </tr>\n",
       "    <tr>\n",
       "      <th>Name</th>\n",
       "      <td>0</td>\n",
       "      <td>0.000000</td>\n",
       "      <td>object</td>\n",
       "    </tr>\n",
       "    <tr>\n",
       "      <th>Developer</th>\n",
       "      <td>0</td>\n",
       "      <td>0.000000</td>\n",
       "      <td>object</td>\n",
       "    </tr>\n",
       "    <tr>\n",
       "      <th>Age Rating</th>\n",
       "      <td>0</td>\n",
       "      <td>0.000000</td>\n",
       "      <td>object</td>\n",
       "    </tr>\n",
       "    <tr>\n",
       "      <th>Primary Genre</th>\n",
       "      <td>0</td>\n",
       "      <td>0.000000</td>\n",
       "      <td>object</td>\n",
       "    </tr>\n",
       "    <tr>\n",
       "      <th>Genres</th>\n",
       "      <td>0</td>\n",
       "      <td>0.000000</td>\n",
       "      <td>object</td>\n",
       "    </tr>\n",
       "    <tr>\n",
       "      <th>Original Release Date</th>\n",
       "      <td>0</td>\n",
       "      <td>0.000000</td>\n",
       "      <td>object</td>\n",
       "    </tr>\n",
       "    <tr>\n",
       "      <th>Current Version Release Date</th>\n",
       "      <td>0</td>\n",
       "      <td>0.000000</td>\n",
       "      <td>object</td>\n",
       "    </tr>\n",
       "  </tbody>\n",
       "</table>\n",
       "</div>"
      ],
      "text/plain": [
       "                              Total          %    Dtype\n",
       "Average User Rating            9446  55.541836  float64\n",
       "User Rating Count              9446  55.541836  float64\n",
       "In-app Purchases               9324  54.824484   object\n",
       "Languages                        60   0.352796   object\n",
       "Price                            24   0.141118  float64\n",
       "Size                              1   0.005880  float64\n",
       "Name                              0   0.000000   object\n",
       "Developer                         0   0.000000   object\n",
       "Age Rating                        0   0.000000   object\n",
       "Primary Genre                     0   0.000000   object\n",
       "Genres                            0   0.000000   object\n",
       "Original Release Date             0   0.000000   object\n",
       "Current Version Release Date      0   0.000000   object"
      ]
     },
     "execution_count": 8,
     "metadata": {},
     "output_type": "execute_result"
    }
   ],
   "source": [
    "total = games.isnull().sum().sort_values(ascending=False)\n",
    "percent = (total/games.isnull().count()).sort_values(ascending=False)*100\n",
    "dtype = games.dtypes\n",
    "na_table = pd.concat([total,percent,dtype], axis=1, keys=['Total', '%', 'Dtype'])\n",
    "na_table"
   ]
  },
  {
   "cell_type": "markdown",
   "id": "4c016466",
   "metadata": {
    "papermill": {
     "duration": 0.078118,
     "end_time": "2021-09-20T01:49:47.258364",
     "exception": false,
     "start_time": "2021-09-20T01:49:47.180246",
     "status": "completed"
    },
    "tags": []
   },
   "source": [
    "#### The remaining columns that contain Null values:  Average User Rating, User Rating Count,\tIn-app Purchases, Languages, Price, Size.\n",
    "#### As we can see the missing values for both rating columns go hand in hand.\n",
    "Let's locate the one missing size"
   ]
  },
  {
   "cell_type": "code",
   "execution_count": 9,
   "id": "df0c7620",
   "metadata": {
    "execution": {
     "iopub.execute_input": "2021-09-20T01:49:47.431614Z",
     "iopub.status.busy": "2021-09-20T01:49:47.430796Z",
     "iopub.status.idle": "2021-09-20T01:49:47.433989Z",
     "shell.execute_reply": "2021-09-20T01:49:47.434501Z",
     "shell.execute_reply.started": "2021-09-20T01:35:41.076168Z"
    },
    "papermill": {
     "duration": 0.097243,
     "end_time": "2021-09-20T01:49:47.434669",
     "exception": false,
     "start_time": "2021-09-20T01:49:47.337426",
     "status": "completed"
    },
    "tags": []
   },
   "outputs": [
    {
     "data": {
      "text/html": [
       "<div>\n",
       "<style scoped>\n",
       "    .dataframe tbody tr th:only-of-type {\n",
       "        vertical-align: middle;\n",
       "    }\n",
       "\n",
       "    .dataframe tbody tr th {\n",
       "        vertical-align: top;\n",
       "    }\n",
       "\n",
       "    .dataframe thead th {\n",
       "        text-align: right;\n",
       "    }\n",
       "</style>\n",
       "<table border=\"1\" class=\"dataframe\">\n",
       "  <thead>\n",
       "    <tr style=\"text-align: right;\">\n",
       "      <th></th>\n",
       "      <th>Name</th>\n",
       "      <th>Average User Rating</th>\n",
       "      <th>User Rating Count</th>\n",
       "      <th>Price</th>\n",
       "      <th>In-app Purchases</th>\n",
       "      <th>Developer</th>\n",
       "      <th>Age Rating</th>\n",
       "      <th>Languages</th>\n",
       "      <th>Size</th>\n",
       "      <th>Primary Genre</th>\n",
       "      <th>Genres</th>\n",
       "      <th>Original Release Date</th>\n",
       "      <th>Current Version Release Date</th>\n",
       "    </tr>\n",
       "  </thead>\n",
       "  <tbody>\n",
       "    <tr>\n",
       "      <th>16782</th>\n",
       "      <td>Idle Mars Colonization</td>\n",
       "      <td>NaN</td>\n",
       "      <td>NaN</td>\n",
       "      <td>NaN</td>\n",
       "      <td>0.99, 1.99, 4.99</td>\n",
       "      <td>mai phuong bui</td>\n",
       "      <td>4+</td>\n",
       "      <td>EN</td>\n",
       "      <td>NaN</td>\n",
       "      <td>Games</td>\n",
       "      <td>Games, Strategy, Simulation</td>\n",
       "      <td>18/08/2019</td>\n",
       "      <td>18/08/2019</td>\n",
       "    </tr>\n",
       "  </tbody>\n",
       "</table>\n",
       "</div>"
      ],
      "text/plain": [
       "                         Name  Average User Rating  User Rating Count  Price  \\\n",
       "16782  Idle Mars Colonization                  NaN                NaN    NaN   \n",
       "\n",
       "       In-app Purchases       Developer Age Rating Languages  Size  \\\n",
       "16782  0.99, 1.99, 4.99  mai phuong bui         4+        EN   NaN   \n",
       "\n",
       "      Primary Genre                       Genres Original Release Date  \\\n",
       "16782         Games  Games, Strategy, Simulation            18/08/2019   \n",
       "\n",
       "      Current Version Release Date  \n",
       "16782                   18/08/2019  "
      ]
     },
     "execution_count": 9,
     "metadata": {},
     "output_type": "execute_result"
    }
   ],
   "source": [
    "games[games['Size'].isnull()]\n",
    "#games.iloc[16782]"
   ]
  },
  {
   "cell_type": "markdown",
   "id": "a8686e1d",
   "metadata": {
    "papermill": {
     "duration": 0.077971,
     "end_time": "2021-09-20T01:49:47.592125",
     "exception": false,
     "start_time": "2021-09-20T01:49:47.514154",
     "status": "completed"
    },
    "tags": []
   },
   "source": [
    "#### Fix NA columns"
   ]
  },
  {
   "cell_type": "code",
   "execution_count": 10,
   "id": "73def761",
   "metadata": {
    "execution": {
     "iopub.execute_input": "2021-09-20T01:49:47.756365Z",
     "iopub.status.busy": "2021-09-20T01:49:47.755722Z",
     "iopub.status.idle": "2021-09-20T01:49:47.758863Z",
     "shell.execute_reply": "2021-09-20T01:49:47.758283Z",
     "shell.execute_reply.started": "2021-09-20T01:35:41.096681Z"
    },
    "papermill": {
     "duration": 0.086886,
     "end_time": "2021-09-20T01:49:47.759005",
     "exception": false,
     "start_time": "2021-09-20T01:49:47.672119",
     "status": "completed"
    },
    "tags": []
   },
   "outputs": [],
   "source": [
    "def na_median(column):\n",
    "    return column.fillna(column.median())"
   ]
  },
  {
   "cell_type": "code",
   "execution_count": 11,
   "id": "7d1caa23",
   "metadata": {
    "execution": {
     "iopub.execute_input": "2021-09-20T01:49:47.923311Z",
     "iopub.status.busy": "2021-09-20T01:49:47.922617Z",
     "iopub.status.idle": "2021-09-20T01:49:47.926480Z",
     "shell.execute_reply": "2021-09-20T01:49:47.927011Z",
     "shell.execute_reply.started": "2021-09-20T01:35:41.109225Z"
    },
    "papermill": {
     "duration": 0.089079,
     "end_time": "2021-09-20T01:49:47.927205",
     "exception": false,
     "start_time": "2021-09-20T01:49:47.838126",
     "status": "completed"
    },
    "tags": []
   },
   "outputs": [],
   "source": [
    "games['Size']=games['Size'].transform(na_median)"
   ]
  },
  {
   "cell_type": "code",
   "execution_count": 12,
   "id": "9f435de1",
   "metadata": {
    "execution": {
     "iopub.execute_input": "2021-09-20T01:49:48.090395Z",
     "iopub.status.busy": "2021-09-20T01:49:48.089733Z",
     "iopub.status.idle": "2021-09-20T01:49:48.095581Z",
     "shell.execute_reply": "2021-09-20T01:49:48.096076Z",
     "shell.execute_reply.started": "2021-09-20T01:35:41.122218Z"
    },
    "papermill": {
     "duration": 0.089772,
     "end_time": "2021-09-20T01:49:48.096246",
     "exception": false,
     "start_time": "2021-09-20T01:49:48.006474",
     "status": "completed"
    },
    "tags": []
   },
   "outputs": [],
   "source": [
    "games['Price']=games['Price'].transform(na_median)"
   ]
  },
  {
   "cell_type": "code",
   "execution_count": 13,
   "id": "58e98c54",
   "metadata": {
    "execution": {
     "iopub.execute_input": "2021-09-20T01:49:48.261258Z",
     "iopub.status.busy": "2021-09-20T01:49:48.260300Z",
     "iopub.status.idle": "2021-09-20T01:49:48.263956Z",
     "shell.execute_reply": "2021-09-20T01:49:48.264415Z",
     "shell.execute_reply.started": "2021-09-20T01:35:41.137777Z"
    },
    "papermill": {
     "duration": 0.089199,
     "end_time": "2021-09-20T01:49:48.264584",
     "exception": false,
     "start_time": "2021-09-20T01:49:48.175385",
     "status": "completed"
    },
    "tags": []
   },
   "outputs": [],
   "source": [
    "games['Average User Rating']=games['Average User Rating'].transform(na_median)"
   ]
  },
  {
   "cell_type": "code",
   "execution_count": 14,
   "id": "01c475d8",
   "metadata": {
    "execution": {
     "iopub.execute_input": "2021-09-20T01:49:48.429609Z",
     "iopub.status.busy": "2021-09-20T01:49:48.428571Z",
     "iopub.status.idle": "2021-09-20T01:49:48.432870Z",
     "shell.execute_reply": "2021-09-20T01:49:48.432354Z",
     "shell.execute_reply.started": "2021-09-20T01:35:41.153407Z"
    },
    "papermill": {
     "duration": 0.089309,
     "end_time": "2021-09-20T01:49:48.433015",
     "exception": false,
     "start_time": "2021-09-20T01:49:48.343706",
     "status": "completed"
    },
    "tags": []
   },
   "outputs": [],
   "source": [
    "games['User Rating Count']=games['User Rating Count'].transform(na_median)"
   ]
  },
  {
   "cell_type": "code",
   "execution_count": 15,
   "id": "1e90d13a",
   "metadata": {
    "execution": {
     "iopub.execute_input": "2021-09-20T01:49:48.613973Z",
     "iopub.status.busy": "2021-09-20T01:49:48.612890Z",
     "iopub.status.idle": "2021-09-20T01:49:48.644293Z",
     "shell.execute_reply": "2021-09-20T01:49:48.644725Z",
     "shell.execute_reply.started": "2021-09-20T01:35:41.166888Z"
    },
    "papermill": {
     "duration": 0.132908,
     "end_time": "2021-09-20T01:49:48.644894",
     "exception": false,
     "start_time": "2021-09-20T01:49:48.511986",
     "status": "completed"
    },
    "tags": []
   },
   "outputs": [
    {
     "data": {
      "text/html": [
       "<div>\n",
       "<style scoped>\n",
       "    .dataframe tbody tr th:only-of-type {\n",
       "        vertical-align: middle;\n",
       "    }\n",
       "\n",
       "    .dataframe tbody tr th {\n",
       "        vertical-align: top;\n",
       "    }\n",
       "\n",
       "    .dataframe thead th {\n",
       "        text-align: right;\n",
       "    }\n",
       "</style>\n",
       "<table border=\"1\" class=\"dataframe\">\n",
       "  <thead>\n",
       "    <tr style=\"text-align: right;\">\n",
       "      <th></th>\n",
       "      <th>Total</th>\n",
       "      <th>%</th>\n",
       "      <th>Dtype</th>\n",
       "    </tr>\n",
       "  </thead>\n",
       "  <tbody>\n",
       "    <tr>\n",
       "      <th>In-app Purchases</th>\n",
       "      <td>9324</td>\n",
       "      <td>54.824484</td>\n",
       "      <td>object</td>\n",
       "    </tr>\n",
       "    <tr>\n",
       "      <th>Languages</th>\n",
       "      <td>60</td>\n",
       "      <td>0.352796</td>\n",
       "      <td>object</td>\n",
       "    </tr>\n",
       "    <tr>\n",
       "      <th>Name</th>\n",
       "      <td>0</td>\n",
       "      <td>0.000000</td>\n",
       "      <td>object</td>\n",
       "    </tr>\n",
       "    <tr>\n",
       "      <th>Average User Rating</th>\n",
       "      <td>0</td>\n",
       "      <td>0.000000</td>\n",
       "      <td>float64</td>\n",
       "    </tr>\n",
       "    <tr>\n",
       "      <th>User Rating Count</th>\n",
       "      <td>0</td>\n",
       "      <td>0.000000</td>\n",
       "      <td>float64</td>\n",
       "    </tr>\n",
       "  </tbody>\n",
       "</table>\n",
       "</div>"
      ],
      "text/plain": [
       "                     Total          %    Dtype\n",
       "In-app Purchases      9324  54.824484   object\n",
       "Languages               60   0.352796   object\n",
       "Name                     0   0.000000   object\n",
       "Average User Rating      0   0.000000  float64\n",
       "User Rating Count        0   0.000000  float64"
      ]
     },
     "execution_count": 15,
     "metadata": {},
     "output_type": "execute_result"
    }
   ],
   "source": [
    "total = games.isnull().sum().sort_values(ascending=False)\n",
    "percent = (total/games.isnull().count()).sort_values(ascending=False)*100\n",
    "dtype = games.dtypes\n",
    "na_table = pd.concat([total,percent,dtype], axis=1, keys=['Total', '%', 'Dtype'])\n",
    "na_table.head()"
   ]
  },
  {
   "cell_type": "markdown",
   "id": "d71f2fbf",
   "metadata": {
    "papermill": {
     "duration": 0.079012,
     "end_time": "2021-09-20T01:49:48.804953",
     "exception": false,
     "start_time": "2021-09-20T01:49:48.725941",
     "status": "completed"
    },
    "tags": []
   },
   "source": [
    "2 more columns need to be filled, due to lack of information we will fill all missing in-app purchases with 0. Then fill the remaining missing languages to english."
   ]
  },
  {
   "cell_type": "code",
   "execution_count": 16,
   "id": "7f173a32",
   "metadata": {
    "execution": {
     "iopub.execute_input": "2021-09-20T01:49:48.966912Z",
     "iopub.status.busy": "2021-09-20T01:49:48.966326Z",
     "iopub.status.idle": "2021-09-20T01:49:48.976684Z",
     "shell.execute_reply": "2021-09-20T01:49:48.976168Z",
     "shell.execute_reply.started": "2021-09-20T01:35:41.226978Z"
    },
    "papermill": {
     "duration": 0.092229,
     "end_time": "2021-09-20T01:49:48.976823",
     "exception": false,
     "start_time": "2021-09-20T01:49:48.884594",
     "status": "completed"
    },
    "tags": []
   },
   "outputs": [],
   "source": [
    "games['Languages'] = games['Languages'].fillna(\"EN\", axis=0)\n",
    "games['In-app Purchases'] = games['In-app Purchases'].fillna(0, axis=0)"
   ]
  },
  {
   "cell_type": "code",
   "execution_count": 17,
   "id": "ff878a7f",
   "metadata": {
    "execution": {
     "iopub.execute_input": "2021-09-20T01:49:49.161852Z",
     "iopub.status.busy": "2021-09-20T01:49:49.160829Z",
     "iopub.status.idle": "2021-09-20T01:49:49.193399Z",
     "shell.execute_reply": "2021-09-20T01:49:49.193829Z",
     "shell.execute_reply.started": "2021-09-20T01:35:41.242103Z"
    },
    "papermill": {
     "duration": 0.136477,
     "end_time": "2021-09-20T01:49:49.194012",
     "exception": false,
     "start_time": "2021-09-20T01:49:49.057535",
     "status": "completed"
    },
    "tags": []
   },
   "outputs": [
    {
     "data": {
      "text/html": [
       "<div>\n",
       "<style scoped>\n",
       "    .dataframe tbody tr th:only-of-type {\n",
       "        vertical-align: middle;\n",
       "    }\n",
       "\n",
       "    .dataframe tbody tr th {\n",
       "        vertical-align: top;\n",
       "    }\n",
       "\n",
       "    .dataframe thead th {\n",
       "        text-align: right;\n",
       "    }\n",
       "</style>\n",
       "<table border=\"1\" class=\"dataframe\">\n",
       "  <thead>\n",
       "    <tr style=\"text-align: right;\">\n",
       "      <th></th>\n",
       "      <th>Total</th>\n",
       "      <th>%</th>\n",
       "      <th>Dtype</th>\n",
       "    </tr>\n",
       "  </thead>\n",
       "  <tbody>\n",
       "    <tr>\n",
       "      <th>Name</th>\n",
       "      <td>0</td>\n",
       "      <td>0.0</td>\n",
       "      <td>object</td>\n",
       "    </tr>\n",
       "    <tr>\n",
       "      <th>Average User Rating</th>\n",
       "      <td>0</td>\n",
       "      <td>0.0</td>\n",
       "      <td>float64</td>\n",
       "    </tr>\n",
       "    <tr>\n",
       "      <th>User Rating Count</th>\n",
       "      <td>0</td>\n",
       "      <td>0.0</td>\n",
       "      <td>float64</td>\n",
       "    </tr>\n",
       "    <tr>\n",
       "      <th>Price</th>\n",
       "      <td>0</td>\n",
       "      <td>0.0</td>\n",
       "      <td>float64</td>\n",
       "    </tr>\n",
       "    <tr>\n",
       "      <th>In-app Purchases</th>\n",
       "      <td>0</td>\n",
       "      <td>0.0</td>\n",
       "      <td>object</td>\n",
       "    </tr>\n",
       "  </tbody>\n",
       "</table>\n",
       "</div>"
      ],
      "text/plain": [
       "                     Total    %    Dtype\n",
       "Name                     0  0.0   object\n",
       "Average User Rating      0  0.0  float64\n",
       "User Rating Count        0  0.0  float64\n",
       "Price                    0  0.0  float64\n",
       "In-app Purchases         0  0.0   object"
      ]
     },
     "execution_count": 17,
     "metadata": {},
     "output_type": "execute_result"
    }
   ],
   "source": [
    "total = games.isnull().sum().sort_values(ascending=False)\n",
    "percent = (total/games.isnull().count()).sort_values(ascending=False)*100\n",
    "dtype = games.dtypes\n",
    "na_table = pd.concat([total,percent,dtype], axis=1, keys=['Total', '%', 'Dtype'])\n",
    "na_table.head()"
   ]
  },
  {
   "cell_type": "markdown",
   "id": "255efcd9",
   "metadata": {
    "papermill": {
     "duration": 0.079644,
     "end_time": "2021-09-20T01:49:49.404384",
     "exception": false,
     "start_time": "2021-09-20T01:49:49.324740",
     "status": "completed"
    },
    "tags": []
   },
   "source": [
    "##### We have no more NULL values, let's see what else we need to fix."
   ]
  },
  {
   "cell_type": "code",
   "execution_count": 18,
   "id": "84d41694",
   "metadata": {
    "execution": {
     "iopub.execute_input": "2021-09-20T01:49:49.584764Z",
     "iopub.status.busy": "2021-09-20T01:49:49.583904Z",
     "iopub.status.idle": "2021-09-20T01:49:49.587256Z",
     "shell.execute_reply": "2021-09-20T01:49:49.587728Z",
     "shell.execute_reply.started": "2021-09-20T01:35:41.306971Z"
    },
    "papermill": {
     "duration": 0.103625,
     "end_time": "2021-09-20T01:49:49.587893",
     "exception": false,
     "start_time": "2021-09-20T01:49:49.484268",
     "status": "completed"
    },
    "tags": []
   },
   "outputs": [
    {
     "data": {
      "text/html": [
       "<div>\n",
       "<style scoped>\n",
       "    .dataframe tbody tr th:only-of-type {\n",
       "        vertical-align: middle;\n",
       "    }\n",
       "\n",
       "    .dataframe tbody tr th {\n",
       "        vertical-align: top;\n",
       "    }\n",
       "\n",
       "    .dataframe thead th {\n",
       "        text-align: right;\n",
       "    }\n",
       "</style>\n",
       "<table border=\"1\" class=\"dataframe\">\n",
       "  <thead>\n",
       "    <tr style=\"text-align: right;\">\n",
       "      <th></th>\n",
       "      <th>Name</th>\n",
       "      <th>Average User Rating</th>\n",
       "      <th>User Rating Count</th>\n",
       "      <th>Price</th>\n",
       "      <th>In-app Purchases</th>\n",
       "      <th>Developer</th>\n",
       "      <th>Age Rating</th>\n",
       "      <th>Languages</th>\n",
       "      <th>Size</th>\n",
       "      <th>Primary Genre</th>\n",
       "      <th>Genres</th>\n",
       "      <th>Original Release Date</th>\n",
       "      <th>Current Version Release Date</th>\n",
       "    </tr>\n",
       "  </thead>\n",
       "  <tbody>\n",
       "    <tr>\n",
       "      <th>0</th>\n",
       "      <td>Sudoku</td>\n",
       "      <td>4.0</td>\n",
       "      <td>3553.0</td>\n",
       "      <td>2.99</td>\n",
       "      <td>0</td>\n",
       "      <td>Mighty Mighty Good Games</td>\n",
       "      <td>4+</td>\n",
       "      <td>DA, NL, EN, FI, FR, DE, IT, JA, KO, NB, PL, PT...</td>\n",
       "      <td>15853568.0</td>\n",
       "      <td>Games</td>\n",
       "      <td>Games, Strategy, Puzzle</td>\n",
       "      <td>11/07/2008</td>\n",
       "      <td>30/05/2017</td>\n",
       "    </tr>\n",
       "    <tr>\n",
       "      <th>1</th>\n",
       "      <td>Reversi</td>\n",
       "      <td>3.5</td>\n",
       "      <td>284.0</td>\n",
       "      <td>1.99</td>\n",
       "      <td>0</td>\n",
       "      <td>Kiss The Machine</td>\n",
       "      <td>4+</td>\n",
       "      <td>EN</td>\n",
       "      <td>12328960.0</td>\n",
       "      <td>Games</td>\n",
       "      <td>Games, Strategy, Board</td>\n",
       "      <td>11/07/2008</td>\n",
       "      <td>17/05/2018</td>\n",
       "    </tr>\n",
       "  </tbody>\n",
       "</table>\n",
       "</div>"
      ],
      "text/plain": [
       "      Name  Average User Rating  User Rating Count  Price In-app Purchases  \\\n",
       "0   Sudoku                  4.0             3553.0   2.99                0   \n",
       "1  Reversi                  3.5              284.0   1.99                0   \n",
       "\n",
       "                  Developer Age Rating  \\\n",
       "0  Mighty Mighty Good Games         4+   \n",
       "1          Kiss The Machine         4+   \n",
       "\n",
       "                                           Languages        Size  \\\n",
       "0  DA, NL, EN, FI, FR, DE, IT, JA, KO, NB, PL, PT...  15853568.0   \n",
       "1                                                 EN  12328960.0   \n",
       "\n",
       "  Primary Genre                   Genres Original Release Date  \\\n",
       "0         Games  Games, Strategy, Puzzle            11/07/2008   \n",
       "1         Games   Games, Strategy, Board            11/07/2008   \n",
       "\n",
       "  Current Version Release Date  \n",
       "0                   30/05/2017  \n",
       "1                   17/05/2018  "
      ]
     },
     "execution_count": 18,
     "metadata": {},
     "output_type": "execute_result"
    }
   ],
   "source": [
    "games.head(2)"
   ]
  },
  {
   "cell_type": "markdown",
   "id": "d29d002e",
   "metadata": {
    "papermill": {
     "duration": 0.080215,
     "end_time": "2021-09-20T01:49:49.748933",
     "exception": false,
     "start_time": "2021-09-20T01:49:49.668718",
     "status": "completed"
    },
    "tags": []
   },
   "source": [
    "## 4. Clean data pt.2 "
   ]
  },
  {
   "cell_type": "markdown",
   "id": "fa9a911b",
   "metadata": {
    "papermill": {
     "duration": 0.080984,
     "end_time": "2021-09-20T01:49:49.910644",
     "exception": false,
     "start_time": "2021-09-20T01:49:49.829660",
     "status": "completed"
    },
    "tags": []
   },
   "source": [
    "#### Now that the data is cleansed from Null values, we still need to tweak a few more things.\n",
    "* converting the size to megabytes\n",
    "* fixing the dates\n",
    "* fix age rating\n",
    "* fix languages\n",
    "* fix genres\n",
    "* fix in-app purchases"
   ]
  },
  {
   "cell_type": "code",
   "execution_count": 19,
   "id": "5b316f45",
   "metadata": {
    "execution": {
     "iopub.execute_input": "2021-09-20T01:49:50.083747Z",
     "iopub.status.busy": "2021-09-20T01:49:50.077353Z",
     "iopub.status.idle": "2021-09-20T01:49:50.092070Z",
     "shell.execute_reply": "2021-09-20T01:49:50.092586Z",
     "shell.execute_reply.started": "2021-09-20T01:35:41.330253Z"
    },
    "papermill": {
     "duration": 0.101482,
     "end_time": "2021-09-20T01:49:50.092796",
     "exception": false,
     "start_time": "2021-09-20T01:49:49.991314",
     "status": "completed"
    },
    "tags": []
   },
   "outputs": [
    {
     "data": {
      "text/html": [
       "<div>\n",
       "<style scoped>\n",
       "    .dataframe tbody tr th:only-of-type {\n",
       "        vertical-align: middle;\n",
       "    }\n",
       "\n",
       "    .dataframe tbody tr th {\n",
       "        vertical-align: top;\n",
       "    }\n",
       "\n",
       "    .dataframe thead th {\n",
       "        text-align: right;\n",
       "    }\n",
       "</style>\n",
       "<table border=\"1\" class=\"dataframe\">\n",
       "  <thead>\n",
       "    <tr style=\"text-align: right;\">\n",
       "      <th></th>\n",
       "      <th>Name</th>\n",
       "      <th>Average User Rating</th>\n",
       "      <th>User Rating Count</th>\n",
       "      <th>Price</th>\n",
       "      <th>In-app Purchases</th>\n",
       "      <th>Developer</th>\n",
       "      <th>Age Rating</th>\n",
       "      <th>Languages</th>\n",
       "      <th>Size</th>\n",
       "      <th>Primary Genre</th>\n",
       "      <th>Genres</th>\n",
       "      <th>Original Release Date</th>\n",
       "      <th>Current Version Release Date</th>\n",
       "    </tr>\n",
       "  </thead>\n",
       "  <tbody>\n",
       "    <tr>\n",
       "      <th>0</th>\n",
       "      <td>Sudoku</td>\n",
       "      <td>4.0</td>\n",
       "      <td>3553.0</td>\n",
       "      <td>2.99</td>\n",
       "      <td>0</td>\n",
       "      <td>Mighty Mighty Good Games</td>\n",
       "      <td>4+</td>\n",
       "      <td>DA, NL, EN, FI, FR, DE, IT, JA, KO, NB, PL, PT...</td>\n",
       "      <td>15.85</td>\n",
       "      <td>Games</td>\n",
       "      <td>Games, Strategy, Puzzle</td>\n",
       "      <td>11/07/2008</td>\n",
       "      <td>30/05/2017</td>\n",
       "    </tr>\n",
       "    <tr>\n",
       "      <th>1</th>\n",
       "      <td>Reversi</td>\n",
       "      <td>3.5</td>\n",
       "      <td>284.0</td>\n",
       "      <td>1.99</td>\n",
       "      <td>0</td>\n",
       "      <td>Kiss The Machine</td>\n",
       "      <td>4+</td>\n",
       "      <td>EN</td>\n",
       "      <td>12.33</td>\n",
       "      <td>Games</td>\n",
       "      <td>Games, Strategy, Board</td>\n",
       "      <td>11/07/2008</td>\n",
       "      <td>17/05/2018</td>\n",
       "    </tr>\n",
       "  </tbody>\n",
       "</table>\n",
       "</div>"
      ],
      "text/plain": [
       "      Name  Average User Rating  User Rating Count  Price In-app Purchases  \\\n",
       "0   Sudoku                  4.0             3553.0   2.99                0   \n",
       "1  Reversi                  3.5              284.0   1.99                0   \n",
       "\n",
       "                  Developer Age Rating  \\\n",
       "0  Mighty Mighty Good Games         4+   \n",
       "1          Kiss The Machine         4+   \n",
       "\n",
       "                                           Languages   Size Primary Genre  \\\n",
       "0  DA, NL, EN, FI, FR, DE, IT, JA, KO, NB, PL, PT...  15.85         Games   \n",
       "1                                                 EN  12.33         Games   \n",
       "\n",
       "                    Genres Original Release Date Current Version Release Date  \n",
       "0  Games, Strategy, Puzzle            11/07/2008                   30/05/2017  \n",
       "1   Games, Strategy, Board            11/07/2008                   17/05/2018  "
      ]
     },
     "execution_count": 19,
     "metadata": {},
     "output_type": "execute_result"
    }
   ],
   "source": [
    "games['Size'] = round(games['Size']/1000000, 2)\n",
    "games.head(2)"
   ]
  },
  {
   "cell_type": "code",
   "execution_count": 20,
   "id": "8e49843a",
   "metadata": {
    "execution": {
     "iopub.execute_input": "2021-09-20T01:49:50.280152Z",
     "iopub.status.busy": "2021-09-20T01:49:50.274797Z",
     "iopub.status.idle": "2021-09-20T01:49:50.503055Z",
     "shell.execute_reply": "2021-09-20T01:49:50.502570Z",
     "shell.execute_reply.started": "2021-09-20T01:35:41.357624Z"
    },
    "papermill": {
     "duration": 0.329013,
     "end_time": "2021-09-20T01:49:50.503214",
     "exception": false,
     "start_time": "2021-09-20T01:49:50.174201",
     "status": "completed"
    },
    "tags": []
   },
   "outputs": [
    {
     "data": {
      "text/html": [
       "<div>\n",
       "<style scoped>\n",
       "    .dataframe tbody tr th:only-of-type {\n",
       "        vertical-align: middle;\n",
       "    }\n",
       "\n",
       "    .dataframe tbody tr th {\n",
       "        vertical-align: top;\n",
       "    }\n",
       "\n",
       "    .dataframe thead th {\n",
       "        text-align: right;\n",
       "    }\n",
       "</style>\n",
       "<table border=\"1\" class=\"dataframe\">\n",
       "  <thead>\n",
       "    <tr style=\"text-align: right;\">\n",
       "      <th></th>\n",
       "      <th>Name</th>\n",
       "      <th>Average User Rating</th>\n",
       "      <th>User Rating Count</th>\n",
       "      <th>Price</th>\n",
       "      <th>In-app Purchases</th>\n",
       "      <th>Developer</th>\n",
       "      <th>Age Rating</th>\n",
       "      <th>Languages</th>\n",
       "      <th>Size</th>\n",
       "      <th>Primary Genre</th>\n",
       "      <th>Genres</th>\n",
       "      <th>Original Release Date</th>\n",
       "      <th>Current Version Release Date</th>\n",
       "    </tr>\n",
       "  </thead>\n",
       "  <tbody>\n",
       "    <tr>\n",
       "      <th>0</th>\n",
       "      <td>Sudoku</td>\n",
       "      <td>4.0</td>\n",
       "      <td>3553.0</td>\n",
       "      <td>2.99</td>\n",
       "      <td>0</td>\n",
       "      <td>Mighty Mighty Good Games</td>\n",
       "      <td>4+</td>\n",
       "      <td>DA, NL, EN, FI, FR, DE, IT, JA, KO, NB, PL, PT...</td>\n",
       "      <td>15.85</td>\n",
       "      <td>Games</td>\n",
       "      <td>Games, Strategy, Puzzle</td>\n",
       "      <td>2008</td>\n",
       "      <td>2017</td>\n",
       "    </tr>\n",
       "    <tr>\n",
       "      <th>1</th>\n",
       "      <td>Reversi</td>\n",
       "      <td>3.5</td>\n",
       "      <td>284.0</td>\n",
       "      <td>1.99</td>\n",
       "      <td>0</td>\n",
       "      <td>Kiss The Machine</td>\n",
       "      <td>4+</td>\n",
       "      <td>EN</td>\n",
       "      <td>12.33</td>\n",
       "      <td>Games</td>\n",
       "      <td>Games, Strategy, Board</td>\n",
       "      <td>2008</td>\n",
       "      <td>2018</td>\n",
       "    </tr>\n",
       "    <tr>\n",
       "      <th>2</th>\n",
       "      <td>Morocco</td>\n",
       "      <td>3.0</td>\n",
       "      <td>8376.0</td>\n",
       "      <td>0.00</td>\n",
       "      <td>0</td>\n",
       "      <td>Bayou Games</td>\n",
       "      <td>4+</td>\n",
       "      <td>EN</td>\n",
       "      <td>0.67</td>\n",
       "      <td>Games</td>\n",
       "      <td>Games, Board, Strategy</td>\n",
       "      <td>2008</td>\n",
       "      <td>2017</td>\n",
       "    </tr>\n",
       "  </tbody>\n",
       "</table>\n",
       "</div>"
      ],
      "text/plain": [
       "      Name  Average User Rating  User Rating Count  Price In-app Purchases  \\\n",
       "0   Sudoku                  4.0             3553.0   2.99                0   \n",
       "1  Reversi                  3.5              284.0   1.99                0   \n",
       "2  Morocco                  3.0             8376.0   0.00                0   \n",
       "\n",
       "                  Developer Age Rating  \\\n",
       "0  Mighty Mighty Good Games         4+   \n",
       "1          Kiss The Machine         4+   \n",
       "2               Bayou Games         4+   \n",
       "\n",
       "                                           Languages   Size Primary Genre  \\\n",
       "0  DA, NL, EN, FI, FR, DE, IT, JA, KO, NB, PL, PT...  15.85         Games   \n",
       "1                                                 EN  12.33         Games   \n",
       "2                                                 EN   0.67         Games   \n",
       "\n",
       "                    Genres Original Release Date Current Version Release Date  \n",
       "0  Games, Strategy, Puzzle                  2008                         2017  \n",
       "1   Games, Strategy, Board                  2008                         2018  \n",
       "2   Games, Board, Strategy                  2008                         2017  "
      ]
     },
     "execution_count": 20,
     "metadata": {},
     "output_type": "execute_result"
    }
   ],
   "source": [
    "games['Original Release Date'] = games['Original Release Date'].str.extract(r'\\b(\\w+)$')\n",
    "games['Current Version Release Date'] = games['Current Version Release Date'].str.extract(r'\\b(\\w+)$')\n",
    "games.head(3)"
   ]
  },
  {
   "cell_type": "code",
   "execution_count": 21,
   "id": "09a41ed2",
   "metadata": {
    "execution": {
     "iopub.execute_input": "2021-09-20T01:49:50.688233Z",
     "iopub.status.busy": "2021-09-20T01:49:50.670498Z",
     "iopub.status.idle": "2021-09-20T01:49:50.704729Z",
     "shell.execute_reply": "2021-09-20T01:49:50.705248Z",
     "shell.execute_reply.started": "2021-09-20T01:35:41.698140Z"
    },
    "papermill": {
     "duration": 0.120189,
     "end_time": "2021-09-20T01:49:50.705416",
     "exception": false,
     "start_time": "2021-09-20T01:49:50.585227",
     "status": "completed"
    },
    "tags": []
   },
   "outputs": [
    {
     "data": {
      "text/html": [
       "<div>\n",
       "<style scoped>\n",
       "    .dataframe tbody tr th:only-of-type {\n",
       "        vertical-align: middle;\n",
       "    }\n",
       "\n",
       "    .dataframe tbody tr th {\n",
       "        vertical-align: top;\n",
       "    }\n",
       "\n",
       "    .dataframe thead th {\n",
       "        text-align: right;\n",
       "    }\n",
       "</style>\n",
       "<table border=\"1\" class=\"dataframe\">\n",
       "  <thead>\n",
       "    <tr style=\"text-align: right;\">\n",
       "      <th></th>\n",
       "      <th>Name</th>\n",
       "      <th>Average User Rating</th>\n",
       "      <th>User Rating Count</th>\n",
       "      <th>Price</th>\n",
       "      <th>In-app Purchases</th>\n",
       "      <th>Developer</th>\n",
       "      <th>Age Rating</th>\n",
       "      <th>Languages</th>\n",
       "      <th>Size</th>\n",
       "      <th>Primary Genre</th>\n",
       "      <th>Genres</th>\n",
       "      <th>Original Release Date</th>\n",
       "      <th>Current Version Release Date</th>\n",
       "    </tr>\n",
       "  </thead>\n",
       "  <tbody>\n",
       "    <tr>\n",
       "      <th>0</th>\n",
       "      <td>Sudoku</td>\n",
       "      <td>4.0</td>\n",
       "      <td>3553.0</td>\n",
       "      <td>2.99</td>\n",
       "      <td>0</td>\n",
       "      <td>Mighty Mighty Good Games</td>\n",
       "      <td>4</td>\n",
       "      <td>DA, NL, EN, FI, FR, DE, IT, JA, KO, NB, PL, PT...</td>\n",
       "      <td>15.85</td>\n",
       "      <td>Games</td>\n",
       "      <td>Games, Strategy, Puzzle</td>\n",
       "      <td>2008</td>\n",
       "      <td>2017</td>\n",
       "    </tr>\n",
       "    <tr>\n",
       "      <th>1</th>\n",
       "      <td>Reversi</td>\n",
       "      <td>3.5</td>\n",
       "      <td>284.0</td>\n",
       "      <td>1.99</td>\n",
       "      <td>0</td>\n",
       "      <td>Kiss The Machine</td>\n",
       "      <td>4</td>\n",
       "      <td>EN</td>\n",
       "      <td>12.33</td>\n",
       "      <td>Games</td>\n",
       "      <td>Games, Strategy, Board</td>\n",
       "      <td>2008</td>\n",
       "      <td>2018</td>\n",
       "    </tr>\n",
       "  </tbody>\n",
       "</table>\n",
       "</div>"
      ],
      "text/plain": [
       "      Name  Average User Rating  User Rating Count  Price In-app Purchases  \\\n",
       "0   Sudoku                  4.0             3553.0   2.99                0   \n",
       "1  Reversi                  3.5              284.0   1.99                0   \n",
       "\n",
       "                  Developer  Age Rating  \\\n",
       "0  Mighty Mighty Good Games           4   \n",
       "1          Kiss The Machine           4   \n",
       "\n",
       "                                           Languages   Size Primary Genre  \\\n",
       "0  DA, NL, EN, FI, FR, DE, IT, JA, KO, NB, PL, PT...  15.85         Games   \n",
       "1                                                 EN  12.33         Games   \n",
       "\n",
       "                    Genres Original Release Date Current Version Release Date  \n",
       "0  Games, Strategy, Puzzle                  2008                         2017  \n",
       "1   Games, Strategy, Board                  2008                         2018  "
      ]
     },
     "execution_count": 21,
     "metadata": {},
     "output_type": "execute_result"
    }
   ],
   "source": [
    "games['Age Rating'] = games['Age Rating'].str.replace('+','').astype(int)\n",
    "games.head(2)"
   ]
  },
  {
   "cell_type": "code",
   "execution_count": 22,
   "id": "b16f050b",
   "metadata": {
    "execution": {
     "iopub.execute_input": "2021-09-20T01:49:50.872951Z",
     "iopub.status.busy": "2021-09-20T01:49:50.871912Z",
     "iopub.status.idle": "2021-09-20T01:49:50.904815Z",
     "shell.execute_reply": "2021-09-20T01:49:50.905343Z",
     "shell.execute_reply.started": "2021-09-20T01:35:41.739809Z"
    },
    "papermill": {
     "duration": 0.118509,
     "end_time": "2021-09-20T01:49:50.905518",
     "exception": false,
     "start_time": "2021-09-20T01:49:50.787009",
     "status": "completed"
    },
    "tags": []
   },
   "outputs": [
    {
     "data": {
      "text/html": [
       "<div>\n",
       "<style scoped>\n",
       "    .dataframe tbody tr th:only-of-type {\n",
       "        vertical-align: middle;\n",
       "    }\n",
       "\n",
       "    .dataframe tbody tr th {\n",
       "        vertical-align: top;\n",
       "    }\n",
       "\n",
       "    .dataframe thead th {\n",
       "        text-align: right;\n",
       "    }\n",
       "</style>\n",
       "<table border=\"1\" class=\"dataframe\">\n",
       "  <thead>\n",
       "    <tr style=\"text-align: right;\">\n",
       "      <th></th>\n",
       "      <th>Name</th>\n",
       "      <th>Average User Rating</th>\n",
       "      <th>User Rating Count</th>\n",
       "      <th>Price</th>\n",
       "      <th>In-app Purchases</th>\n",
       "      <th>Developer</th>\n",
       "      <th>Age Rating</th>\n",
       "      <th>Languages</th>\n",
       "      <th>Size</th>\n",
       "      <th>Primary Genre</th>\n",
       "      <th>Genres</th>\n",
       "      <th>Original Release Date</th>\n",
       "      <th>Current Version Release Date</th>\n",
       "    </tr>\n",
       "  </thead>\n",
       "  <tbody>\n",
       "    <tr>\n",
       "      <th>0</th>\n",
       "      <td>Sudoku</td>\n",
       "      <td>4.0</td>\n",
       "      <td>3553.0</td>\n",
       "      <td>2.99</td>\n",
       "      <td>0</td>\n",
       "      <td>Mighty Mighty Good Games</td>\n",
       "      <td>4</td>\n",
       "      <td>17</td>\n",
       "      <td>15.85</td>\n",
       "      <td>Games</td>\n",
       "      <td>Games, Strategy, Puzzle</td>\n",
       "      <td>2008</td>\n",
       "      <td>2017</td>\n",
       "    </tr>\n",
       "    <tr>\n",
       "      <th>1</th>\n",
       "      <td>Reversi</td>\n",
       "      <td>3.5</td>\n",
       "      <td>284.0</td>\n",
       "      <td>1.99</td>\n",
       "      <td>0</td>\n",
       "      <td>Kiss The Machine</td>\n",
       "      <td>4</td>\n",
       "      <td>1</td>\n",
       "      <td>12.33</td>\n",
       "      <td>Games</td>\n",
       "      <td>Games, Strategy, Board</td>\n",
       "      <td>2008</td>\n",
       "      <td>2018</td>\n",
       "    </tr>\n",
       "  </tbody>\n",
       "</table>\n",
       "</div>"
      ],
      "text/plain": [
       "      Name  Average User Rating  User Rating Count  Price In-app Purchases  \\\n",
       "0   Sudoku                  4.0             3553.0   2.99                0   \n",
       "1  Reversi                  3.5              284.0   1.99                0   \n",
       "\n",
       "                  Developer  Age Rating  Languages   Size Primary Genre  \\\n",
       "0  Mighty Mighty Good Games           4         17  15.85         Games   \n",
       "1          Kiss The Machine           4          1  12.33         Games   \n",
       "\n",
       "                    Genres Original Release Date Current Version Release Date  \n",
       "0  Games, Strategy, Puzzle                  2008                         2017  \n",
       "1   Games, Strategy, Board                  2008                         2018  "
      ]
     },
     "execution_count": 22,
     "metadata": {},
     "output_type": "execute_result"
    }
   ],
   "source": [
    "games['Languages'] = games['Languages'].apply(lambda x: len(x.split(',')))\n",
    "games.head(2)"
   ]
  },
  {
   "cell_type": "code",
   "execution_count": 23,
   "id": "400de786",
   "metadata": {
    "execution": {
     "iopub.execute_input": "2021-09-20T01:49:51.081449Z",
     "iopub.status.busy": "2021-09-20T01:49:51.080466Z",
     "iopub.status.idle": "2021-09-20T01:49:51.089124Z",
     "shell.execute_reply": "2021-09-20T01:49:51.088595Z",
     "shell.execute_reply.started": "2021-09-20T01:35:41.780621Z"
    },
    "papermill": {
     "duration": 0.096115,
     "end_time": "2021-09-20T01:49:51.089270",
     "exception": false,
     "start_time": "2021-09-20T01:49:50.993155",
     "status": "completed"
    },
    "tags": []
   },
   "outputs": [
    {
     "data": {
      "text/plain": [
       "array(['Games, Strategy, Puzzle', 'Games, Strategy, Board',\n",
       "       'Games, Board, Strategy', ..., 'Games, Strategy, Sports, Music',\n",
       "       'Social Networking, Games, Strategy, Casual',\n",
       "       'Sports, Racing, Games, Strategy'], dtype=object)"
      ]
     },
     "execution_count": 23,
     "metadata": {},
     "output_type": "execute_result"
    }
   ],
   "source": [
    "#games['Primary Genre'].unique()\n",
    "games['Genres'].unique()"
   ]
  },
  {
   "cell_type": "code",
   "execution_count": 24,
   "id": "4c94b71f",
   "metadata": {
    "execution": {
     "iopub.execute_input": "2021-09-20T01:49:51.285448Z",
     "iopub.status.busy": "2021-09-20T01:49:51.284759Z",
     "iopub.status.idle": "2021-09-20T01:49:51.287781Z",
     "shell.execute_reply": "2021-09-20T01:49:51.287217Z",
     "shell.execute_reply.started": "2021-09-20T01:35:41.794104Z"
    },
    "papermill": {
     "duration": 0.115054,
     "end_time": "2021-09-20T01:49:51.287912",
     "exception": false,
     "start_time": "2021-09-20T01:49:51.172858",
     "status": "completed"
    },
    "tags": []
   },
   "outputs": [],
   "source": [
    "Primary_Genre = []\n",
    "Secondary_Genre = []\n",
    "for x in games['Genres']:\n",
    "    Primary_Genre.append(x.split(',')[0])\n",
    "    Secondary_Genre.append(x.split(',')[1])\n",
    "    \n",
    "games['Primary Genre'] = Primary_Genre\n",
    "games['Genres'] = Secondary_Genre"
   ]
  },
  {
   "cell_type": "code",
   "execution_count": 25,
   "id": "74805099",
   "metadata": {
    "execution": {
     "iopub.execute_input": "2021-09-20T01:49:51.457878Z",
     "iopub.status.busy": "2021-09-20T01:49:51.456932Z",
     "iopub.status.idle": "2021-09-20T01:49:51.472382Z",
     "shell.execute_reply": "2021-09-20T01:49:51.472820Z",
     "shell.execute_reply.started": "2021-09-20T01:35:41.829924Z"
    },
    "papermill": {
     "duration": 0.101884,
     "end_time": "2021-09-20T01:49:51.472998",
     "exception": false,
     "start_time": "2021-09-20T01:49:51.371114",
     "status": "completed"
    },
    "scrolled": true,
    "tags": []
   },
   "outputs": [
    {
     "data": {
      "text/html": [
       "<div>\n",
       "<style scoped>\n",
       "    .dataframe tbody tr th:only-of-type {\n",
       "        vertical-align: middle;\n",
       "    }\n",
       "\n",
       "    .dataframe tbody tr th {\n",
       "        vertical-align: top;\n",
       "    }\n",
       "\n",
       "    .dataframe thead th {\n",
       "        text-align: right;\n",
       "    }\n",
       "</style>\n",
       "<table border=\"1\" class=\"dataframe\">\n",
       "  <thead>\n",
       "    <tr style=\"text-align: right;\">\n",
       "      <th></th>\n",
       "      <th>Name</th>\n",
       "      <th>Average User Rating</th>\n",
       "      <th>User Rating Count</th>\n",
       "      <th>Price</th>\n",
       "      <th>In-app Purchases</th>\n",
       "      <th>Developer</th>\n",
       "      <th>Age Rating</th>\n",
       "      <th>Languages</th>\n",
       "      <th>Size</th>\n",
       "      <th>Primary Genre</th>\n",
       "      <th>Genres</th>\n",
       "      <th>Original Release Date</th>\n",
       "      <th>Current Version Release Date</th>\n",
       "    </tr>\n",
       "  </thead>\n",
       "  <tbody>\n",
       "    <tr>\n",
       "      <th>0</th>\n",
       "      <td>Sudoku</td>\n",
       "      <td>4.0</td>\n",
       "      <td>3553.0</td>\n",
       "      <td>2.99</td>\n",
       "      <td>0</td>\n",
       "      <td>Mighty Mighty Good Games</td>\n",
       "      <td>4</td>\n",
       "      <td>17</td>\n",
       "      <td>15.85</td>\n",
       "      <td>Games</td>\n",
       "      <td>Strategy</td>\n",
       "      <td>2008</td>\n",
       "      <td>2017</td>\n",
       "    </tr>\n",
       "    <tr>\n",
       "      <th>1</th>\n",
       "      <td>Reversi</td>\n",
       "      <td>3.5</td>\n",
       "      <td>284.0</td>\n",
       "      <td>1.99</td>\n",
       "      <td>0</td>\n",
       "      <td>Kiss The Machine</td>\n",
       "      <td>4</td>\n",
       "      <td>1</td>\n",
       "      <td>12.33</td>\n",
       "      <td>Games</td>\n",
       "      <td>Strategy</td>\n",
       "      <td>2008</td>\n",
       "      <td>2018</td>\n",
       "    </tr>\n",
       "  </tbody>\n",
       "</table>\n",
       "</div>"
      ],
      "text/plain": [
       "      Name  Average User Rating  User Rating Count  Price In-app Purchases  \\\n",
       "0   Sudoku                  4.0             3553.0   2.99                0   \n",
       "1  Reversi                  3.5              284.0   1.99                0   \n",
       "\n",
       "                  Developer  Age Rating  Languages   Size Primary Genre  \\\n",
       "0  Mighty Mighty Good Games           4         17  15.85         Games   \n",
       "1          Kiss The Machine           4          1  12.33         Games   \n",
       "\n",
       "      Genres Original Release Date Current Version Release Date  \n",
       "0   Strategy                  2008                         2017  \n",
       "1   Strategy                  2008                         2018  "
      ]
     },
     "execution_count": 25,
     "metadata": {},
     "output_type": "execute_result"
    }
   ],
   "source": [
    "games.head(2)"
   ]
  },
  {
   "cell_type": "code",
   "execution_count": 26,
   "id": "806340e2",
   "metadata": {
    "execution": {
     "iopub.execute_input": "2021-09-20T01:49:51.643636Z",
     "iopub.status.busy": "2021-09-20T01:49:51.642633Z",
     "iopub.status.idle": "2021-09-20T01:49:51.646973Z",
     "shell.execute_reply": "2021-09-20T01:49:51.647453Z",
     "shell.execute_reply.started": "2021-09-20T01:35:41.853612Z"
    },
    "papermill": {
     "duration": 0.090242,
     "end_time": "2021-09-20T01:49:51.647612",
     "exception": false,
     "start_time": "2021-09-20T01:49:51.557370",
     "status": "completed"
    },
    "tags": []
   },
   "outputs": [],
   "source": [
    "games.rename(columns={\"Genres\": \"Secondary Genre\"}, inplace = True)"
   ]
  },
  {
   "cell_type": "code",
   "execution_count": 27,
   "id": "ed21da68",
   "metadata": {
    "execution": {
     "iopub.execute_input": "2021-09-20T01:49:51.832610Z",
     "iopub.status.busy": "2021-09-20T01:49:51.817957Z",
     "iopub.status.idle": "2021-09-20T01:49:51.837864Z",
     "shell.execute_reply": "2021-09-20T01:49:51.837346Z",
     "shell.execute_reply.started": "2021-09-20T01:35:41.864760Z"
    },
    "papermill": {
     "duration": 0.106398,
     "end_time": "2021-09-20T01:49:51.838004",
     "exception": false,
     "start_time": "2021-09-20T01:49:51.731606",
     "status": "completed"
    },
    "scrolled": true,
    "tags": []
   },
   "outputs": [],
   "source": [
    "games['In-app Purchases'] = games['In-app Purchases'].apply(lambda x:1 if x!= 0 else 0)"
   ]
  },
  {
   "cell_type": "code",
   "execution_count": 28,
   "id": "c20e46f7",
   "metadata": {
    "execution": {
     "iopub.execute_input": "2021-09-20T01:49:52.010698Z",
     "iopub.status.busy": "2021-09-20T01:49:52.009972Z",
     "iopub.status.idle": "2021-09-20T01:49:52.023919Z",
     "shell.execute_reply": "2021-09-20T01:49:52.023343Z",
     "shell.execute_reply.started": "2021-09-20T01:35:41.892616Z"
    },
    "papermill": {
     "duration": 0.102226,
     "end_time": "2021-09-20T01:49:52.024081",
     "exception": false,
     "start_time": "2021-09-20T01:49:51.921855",
     "status": "completed"
    },
    "scrolled": true,
    "tags": []
   },
   "outputs": [
    {
     "data": {
      "text/html": [
       "<div>\n",
       "<style scoped>\n",
       "    .dataframe tbody tr th:only-of-type {\n",
       "        vertical-align: middle;\n",
       "    }\n",
       "\n",
       "    .dataframe tbody tr th {\n",
       "        vertical-align: top;\n",
       "    }\n",
       "\n",
       "    .dataframe thead th {\n",
       "        text-align: right;\n",
       "    }\n",
       "</style>\n",
       "<table border=\"1\" class=\"dataframe\">\n",
       "  <thead>\n",
       "    <tr style=\"text-align: right;\">\n",
       "      <th></th>\n",
       "      <th>Name</th>\n",
       "      <th>Average User Rating</th>\n",
       "      <th>User Rating Count</th>\n",
       "      <th>Price</th>\n",
       "      <th>In-app Purchases</th>\n",
       "      <th>Developer</th>\n",
       "      <th>Age Rating</th>\n",
       "      <th>Languages</th>\n",
       "      <th>Size</th>\n",
       "      <th>Primary Genre</th>\n",
       "      <th>Secondary Genre</th>\n",
       "      <th>Original Release Date</th>\n",
       "      <th>Current Version Release Date</th>\n",
       "    </tr>\n",
       "  </thead>\n",
       "  <tbody>\n",
       "    <tr>\n",
       "      <th>17005</th>\n",
       "      <td>FaTaLL</td>\n",
       "      <td>4.5</td>\n",
       "      <td>46.0</td>\n",
       "      <td>0.0</td>\n",
       "      <td>1</td>\n",
       "      <td>Tayrem Games</td>\n",
       "      <td>4</td>\n",
       "      <td>1</td>\n",
       "      <td>196.75</td>\n",
       "      <td>Games</td>\n",
       "      <td>Strategy</td>\n",
       "      <td>2019</td>\n",
       "      <td>2019</td>\n",
       "    </tr>\n",
       "    <tr>\n",
       "      <th>17006</th>\n",
       "      <td>The Three Kingdoms :Bomb</td>\n",
       "      <td>4.5</td>\n",
       "      <td>46.0</td>\n",
       "      <td>0.0</td>\n",
       "      <td>0</td>\n",
       "      <td>ming bo tang</td>\n",
       "      <td>4</td>\n",
       "      <td>2</td>\n",
       "      <td>22.95</td>\n",
       "      <td>Games</td>\n",
       "      <td>Strategy</td>\n",
       "      <td>2019</td>\n",
       "      <td>2019</td>\n",
       "    </tr>\n",
       "  </tbody>\n",
       "</table>\n",
       "</div>"
      ],
      "text/plain": [
       "                           Name  Average User Rating  User Rating Count  \\\n",
       "17005                    FaTaLL                  4.5               46.0   \n",
       "17006  The Three Kingdoms :Bomb                  4.5               46.0   \n",
       "\n",
       "       Price  In-app Purchases     Developer  Age Rating  Languages    Size  \\\n",
       "17005    0.0                 1  Tayrem Games           4          1  196.75   \n",
       "17006    0.0                 0  ming bo tang           4          2   22.95   \n",
       "\n",
       "      Primary Genre Secondary Genre Original Release Date  \\\n",
       "17005         Games        Strategy                  2019   \n",
       "17006         Games        Strategy                  2019   \n",
       "\n",
       "      Current Version Release Date  \n",
       "17005                         2019  \n",
       "17006                         2019  "
      ]
     },
     "execution_count": 28,
     "metadata": {},
     "output_type": "execute_result"
    }
   ],
   "source": [
    "games.tail(2)"
   ]
  },
  {
   "cell_type": "code",
   "execution_count": 29,
   "id": "812e39f0",
   "metadata": {
    "execution": {
     "iopub.execute_input": "2021-09-20T01:49:52.199356Z",
     "iopub.status.busy": "2021-09-20T01:49:52.198499Z",
     "iopub.status.idle": "2021-09-20T01:49:52.202196Z",
     "shell.execute_reply": "2021-09-20T01:49:52.201686Z",
     "shell.execute_reply.started": "2021-09-20T01:35:41.917911Z"
    },
    "papermill": {
     "duration": 0.093939,
     "end_time": "2021-09-20T01:49:52.202329",
     "exception": false,
     "start_time": "2021-09-20T01:49:52.108390",
     "status": "completed"
    },
    "tags": []
   },
   "outputs": [
    {
     "data": {
      "text/plain": [
       "array([0, 1])"
      ]
     },
     "execution_count": 29,
     "metadata": {},
     "output_type": "execute_result"
    }
   ],
   "source": [
    "games['In-app Purchases'].unique()"
   ]
  },
  {
   "cell_type": "markdown",
   "id": "b1eef3a4",
   "metadata": {
    "papermill": {
     "duration": 0.084018,
     "end_time": "2021-09-20T01:49:52.370702",
     "exception": false,
     "start_time": "2021-09-20T01:49:52.286684",
     "status": "completed"
    },
    "tags": []
   },
   "source": [
    "## 5. Pre-EDA\n",
    "We are all set, the data is now clean and we can take a look at the relationships between variables etc. before we begin our EDA and modeling."
   ]
  },
  {
   "cell_type": "code",
   "execution_count": 30,
   "id": "af26c556",
   "metadata": {
    "execution": {
     "iopub.execute_input": "2021-09-20T01:49:52.559371Z",
     "iopub.status.busy": "2021-09-20T01:49:52.558093Z",
     "iopub.status.idle": "2021-09-20T01:49:53.429261Z",
     "shell.execute_reply": "2021-09-20T01:49:53.429735Z",
     "shell.execute_reply.started": "2021-09-20T01:35:41.929679Z"
    },
    "papermill": {
     "duration": 0.974723,
     "end_time": "2021-09-20T01:49:53.429897",
     "exception": false,
     "start_time": "2021-09-20T01:49:52.455174",
     "status": "completed"
    },
    "tags": []
   },
   "outputs": [
    {
     "data": {
      "text/html": [
       "        <script type=\"text/javascript\">\n",
       "        window.PlotlyConfig = {MathJaxConfig: 'local'};\n",
       "        if (window.MathJax) {MathJax.Hub.Config({SVG: {font: \"STIX-Web\"}});}\n",
       "        if (typeof require !== 'undefined') {\n",
       "        require.undef(\"plotly\");\n",
       "        requirejs.config({\n",
       "            paths: {\n",
       "                'plotly': ['https://cdn.plot.ly/plotly-2.4.2.min']\n",
       "            }\n",
       "        });\n",
       "        require(['plotly'], function(Plotly) {\n",
       "            window._Plotly = Plotly;\n",
       "        });\n",
       "        }\n",
       "        </script>\n",
       "        "
      ]
     },
     "metadata": {},
     "output_type": "display_data"
    },
    {
     "data": {
      "text/html": [
       "<div>                            <div id=\"0248180d-537f-4eb1-a7f3-15cb980d240d\" class=\"plotly-graph-div\" style=\"height:525px; width:100%;\"></div>            <script type=\"text/javascript\">                require([\"plotly\"], function(Plotly) {                    window.PLOTLYENV=window.PLOTLYENV || {};                                    if (document.getElementById(\"0248180d-537f-4eb1-a7f3-15cb980d240d\")) {                    Plotly.newPlot(                        \"0248180d-537f-4eb1-a7f3-15cb980d240d\",                        [{\"marker\":{\"color\":\"red\"},\"text\":[\"123\",\"107\",\"95\",\"85\",\"77\",\"62\",\"61\",\"57\",\"46\",\"42\",\"41\",\"39\",\"38\",\"37\",\"37\",\"37\",\"36\",\"36\",\"36\",\"35\"],\"type\":\"bar\",\"x\":[\"Tapps Tecnologia da Informa\\\\xe7\\\\xe3o Ltda.\",\"Vikash Patel\",\"Netsummit Marketing, Inc.\",\"GabySoft\",\"NetSummit Enterprises, Inc.\",\"Andrew Kudrin\",\"MmpApps Corp.\",\"Domyung Kim\",\"Amy Prizer\",\"Detention Apps\",\"Qumaron\",\"HexWar Games Ltd\",\"Gulfam Asghar\",\"Lazy Days, LLC\",\"Anthony Hindle\",\"Tayga Games OOO\",\"8Floor\",\"EASY Inc.\",\"M&M App Services Pty Ltd\",\"Renato Erive\"],\"y\":[123,107,95,85,77,62,61,57,46,42,41,39,38,37,37,37,36,36,36,35]}],                        {\"template\":{\"data\":{\"bar\":[{\"error_x\":{\"color\":\"#2a3f5f\"},\"error_y\":{\"color\":\"#2a3f5f\"},\"marker\":{\"line\":{\"color\":\"white\",\"width\":0.5},\"pattern\":{\"fillmode\":\"overlay\",\"size\":10,\"solidity\":0.2}},\"type\":\"bar\"}],\"barpolar\":[{\"marker\":{\"line\":{\"color\":\"white\",\"width\":0.5},\"pattern\":{\"fillmode\":\"overlay\",\"size\":10,\"solidity\":0.2}},\"type\":\"barpolar\"}],\"carpet\":[{\"aaxis\":{\"endlinecolor\":\"#2a3f5f\",\"gridcolor\":\"#C8D4E3\",\"linecolor\":\"#C8D4E3\",\"minorgridcolor\":\"#C8D4E3\",\"startlinecolor\":\"#2a3f5f\"},\"baxis\":{\"endlinecolor\":\"#2a3f5f\",\"gridcolor\":\"#C8D4E3\",\"linecolor\":\"#C8D4E3\",\"minorgridcolor\":\"#C8D4E3\",\"startlinecolor\":\"#2a3f5f\"},\"type\":\"carpet\"}],\"choropleth\":[{\"colorbar\":{\"outlinewidth\":0,\"ticks\":\"\"},\"type\":\"choropleth\"}],\"contour\":[{\"colorbar\":{\"outlinewidth\":0,\"ticks\":\"\"},\"colorscale\":[[0.0,\"#0d0887\"],[0.1111111111111111,\"#46039f\"],[0.2222222222222222,\"#7201a8\"],[0.3333333333333333,\"#9c179e\"],[0.4444444444444444,\"#bd3786\"],[0.5555555555555556,\"#d8576b\"],[0.6666666666666666,\"#ed7953\"],[0.7777777777777778,\"#fb9f3a\"],[0.8888888888888888,\"#fdca26\"],[1.0,\"#f0f921\"]],\"type\":\"contour\"}],\"contourcarpet\":[{\"colorbar\":{\"outlinewidth\":0,\"ticks\":\"\"},\"type\":\"contourcarpet\"}],\"heatmap\":[{\"colorbar\":{\"outlinewidth\":0,\"ticks\":\"\"},\"colorscale\":[[0.0,\"#0d0887\"],[0.1111111111111111,\"#46039f\"],[0.2222222222222222,\"#7201a8\"],[0.3333333333333333,\"#9c179e\"],[0.4444444444444444,\"#bd3786\"],[0.5555555555555556,\"#d8576b\"],[0.6666666666666666,\"#ed7953\"],[0.7777777777777778,\"#fb9f3a\"],[0.8888888888888888,\"#fdca26\"],[1.0,\"#f0f921\"]],\"type\":\"heatmap\"}],\"heatmapgl\":[{\"colorbar\":{\"outlinewidth\":0,\"ticks\":\"\"},\"colorscale\":[[0.0,\"#0d0887\"],[0.1111111111111111,\"#46039f\"],[0.2222222222222222,\"#7201a8\"],[0.3333333333333333,\"#9c179e\"],[0.4444444444444444,\"#bd3786\"],[0.5555555555555556,\"#d8576b\"],[0.6666666666666666,\"#ed7953\"],[0.7777777777777778,\"#fb9f3a\"],[0.8888888888888888,\"#fdca26\"],[1.0,\"#f0f921\"]],\"type\":\"heatmapgl\"}],\"histogram\":[{\"marker\":{\"pattern\":{\"fillmode\":\"overlay\",\"size\":10,\"solidity\":0.2}},\"type\":\"histogram\"}],\"histogram2d\":[{\"colorbar\":{\"outlinewidth\":0,\"ticks\":\"\"},\"colorscale\":[[0.0,\"#0d0887\"],[0.1111111111111111,\"#46039f\"],[0.2222222222222222,\"#7201a8\"],[0.3333333333333333,\"#9c179e\"],[0.4444444444444444,\"#bd3786\"],[0.5555555555555556,\"#d8576b\"],[0.6666666666666666,\"#ed7953\"],[0.7777777777777778,\"#fb9f3a\"],[0.8888888888888888,\"#fdca26\"],[1.0,\"#f0f921\"]],\"type\":\"histogram2d\"}],\"histogram2dcontour\":[{\"colorbar\":{\"outlinewidth\":0,\"ticks\":\"\"},\"colorscale\":[[0.0,\"#0d0887\"],[0.1111111111111111,\"#46039f\"],[0.2222222222222222,\"#7201a8\"],[0.3333333333333333,\"#9c179e\"],[0.4444444444444444,\"#bd3786\"],[0.5555555555555556,\"#d8576b\"],[0.6666666666666666,\"#ed7953\"],[0.7777777777777778,\"#fb9f3a\"],[0.8888888888888888,\"#fdca26\"],[1.0,\"#f0f921\"]],\"type\":\"histogram2dcontour\"}],\"mesh3d\":[{\"colorbar\":{\"outlinewidth\":0,\"ticks\":\"\"},\"type\":\"mesh3d\"}],\"parcoords\":[{\"line\":{\"colorbar\":{\"outlinewidth\":0,\"ticks\":\"\"}},\"type\":\"parcoords\"}],\"pie\":[{\"automargin\":true,\"type\":\"pie\"}],\"scatter\":[{\"marker\":{\"colorbar\":{\"outlinewidth\":0,\"ticks\":\"\"}},\"type\":\"scatter\"}],\"scatter3d\":[{\"line\":{\"colorbar\":{\"outlinewidth\":0,\"ticks\":\"\"}},\"marker\":{\"colorbar\":{\"outlinewidth\":0,\"ticks\":\"\"}},\"type\":\"scatter3d\"}],\"scattercarpet\":[{\"marker\":{\"colorbar\":{\"outlinewidth\":0,\"ticks\":\"\"}},\"type\":\"scattercarpet\"}],\"scattergeo\":[{\"marker\":{\"colorbar\":{\"outlinewidth\":0,\"ticks\":\"\"}},\"type\":\"scattergeo\"}],\"scattergl\":[{\"marker\":{\"colorbar\":{\"outlinewidth\":0,\"ticks\":\"\"}},\"type\":\"scattergl\"}],\"scattermapbox\":[{\"marker\":{\"colorbar\":{\"outlinewidth\":0,\"ticks\":\"\"}},\"type\":\"scattermapbox\"}],\"scatterpolar\":[{\"marker\":{\"colorbar\":{\"outlinewidth\":0,\"ticks\":\"\"}},\"type\":\"scatterpolar\"}],\"scatterpolargl\":[{\"marker\":{\"colorbar\":{\"outlinewidth\":0,\"ticks\":\"\"}},\"type\":\"scatterpolargl\"}],\"scatterternary\":[{\"marker\":{\"colorbar\":{\"outlinewidth\":0,\"ticks\":\"\"}},\"type\":\"scatterternary\"}],\"surface\":[{\"colorbar\":{\"outlinewidth\":0,\"ticks\":\"\"},\"colorscale\":[[0.0,\"#0d0887\"],[0.1111111111111111,\"#46039f\"],[0.2222222222222222,\"#7201a8\"],[0.3333333333333333,\"#9c179e\"],[0.4444444444444444,\"#bd3786\"],[0.5555555555555556,\"#d8576b\"],[0.6666666666666666,\"#ed7953\"],[0.7777777777777778,\"#fb9f3a\"],[0.8888888888888888,\"#fdca26\"],[1.0,\"#f0f921\"]],\"type\":\"surface\"}],\"table\":[{\"cells\":{\"fill\":{\"color\":\"#EBF0F8\"},\"line\":{\"color\":\"white\"}},\"header\":{\"fill\":{\"color\":\"#C8D4E3\"},\"line\":{\"color\":\"white\"}},\"type\":\"table\"}]},\"layout\":{\"annotationdefaults\":{\"arrowcolor\":\"#2a3f5f\",\"arrowhead\":0,\"arrowwidth\":1},\"autotypenumbers\":\"strict\",\"coloraxis\":{\"colorbar\":{\"outlinewidth\":0,\"ticks\":\"\"}},\"colorscale\":{\"diverging\":[[0,\"#8e0152\"],[0.1,\"#c51b7d\"],[0.2,\"#de77ae\"],[0.3,\"#f1b6da\"],[0.4,\"#fde0ef\"],[0.5,\"#f7f7f7\"],[0.6,\"#e6f5d0\"],[0.7,\"#b8e186\"],[0.8,\"#7fbc41\"],[0.9,\"#4d9221\"],[1,\"#276419\"]],\"sequential\":[[0.0,\"#0d0887\"],[0.1111111111111111,\"#46039f\"],[0.2222222222222222,\"#7201a8\"],[0.3333333333333333,\"#9c179e\"],[0.4444444444444444,\"#bd3786\"],[0.5555555555555556,\"#d8576b\"],[0.6666666666666666,\"#ed7953\"],[0.7777777777777778,\"#fb9f3a\"],[0.8888888888888888,\"#fdca26\"],[1.0,\"#f0f921\"]],\"sequentialminus\":[[0.0,\"#0d0887\"],[0.1111111111111111,\"#46039f\"],[0.2222222222222222,\"#7201a8\"],[0.3333333333333333,\"#9c179e\"],[0.4444444444444444,\"#bd3786\"],[0.5555555555555556,\"#d8576b\"],[0.6666666666666666,\"#ed7953\"],[0.7777777777777778,\"#fb9f3a\"],[0.8888888888888888,\"#fdca26\"],[1.0,\"#f0f921\"]]},\"colorway\":[\"#636efa\",\"#EF553B\",\"#00cc96\",\"#ab63fa\",\"#FFA15A\",\"#19d3f3\",\"#FF6692\",\"#B6E880\",\"#FF97FF\",\"#FECB52\"],\"font\":{\"color\":\"#2a3f5f\"},\"geo\":{\"bgcolor\":\"white\",\"lakecolor\":\"white\",\"landcolor\":\"white\",\"showlakes\":true,\"showland\":true,\"subunitcolor\":\"#C8D4E3\"},\"hoverlabel\":{\"align\":\"left\"},\"hovermode\":\"closest\",\"mapbox\":{\"style\":\"light\"},\"paper_bgcolor\":\"white\",\"plot_bgcolor\":\"white\",\"polar\":{\"angularaxis\":{\"gridcolor\":\"#EBF0F8\",\"linecolor\":\"#EBF0F8\",\"ticks\":\"\"},\"bgcolor\":\"white\",\"radialaxis\":{\"gridcolor\":\"#EBF0F8\",\"linecolor\":\"#EBF0F8\",\"ticks\":\"\"}},\"scene\":{\"xaxis\":{\"backgroundcolor\":\"white\",\"gridcolor\":\"#DFE8F3\",\"gridwidth\":2,\"linecolor\":\"#EBF0F8\",\"showbackground\":true,\"ticks\":\"\",\"zerolinecolor\":\"#EBF0F8\"},\"yaxis\":{\"backgroundcolor\":\"white\",\"gridcolor\":\"#DFE8F3\",\"gridwidth\":2,\"linecolor\":\"#EBF0F8\",\"showbackground\":true,\"ticks\":\"\",\"zerolinecolor\":\"#EBF0F8\"},\"zaxis\":{\"backgroundcolor\":\"white\",\"gridcolor\":\"#DFE8F3\",\"gridwidth\":2,\"linecolor\":\"#EBF0F8\",\"showbackground\":true,\"ticks\":\"\",\"zerolinecolor\":\"#EBF0F8\"}},\"shapedefaults\":{\"line\":{\"color\":\"#2a3f5f\"}},\"ternary\":{\"aaxis\":{\"gridcolor\":\"#DFE8F3\",\"linecolor\":\"#A2B1C6\",\"ticks\":\"\"},\"baxis\":{\"gridcolor\":\"#DFE8F3\",\"linecolor\":\"#A2B1C6\",\"ticks\":\"\"},\"bgcolor\":\"white\",\"caxis\":{\"gridcolor\":\"#DFE8F3\",\"linecolor\":\"#A2B1C6\",\"ticks\":\"\"}},\"title\":{\"x\":0.05},\"xaxis\":{\"automargin\":true,\"gridcolor\":\"#EBF0F8\",\"linecolor\":\"#EBF0F8\",\"ticks\":\"\",\"title\":{\"standoff\":15},\"zerolinecolor\":\"#EBF0F8\",\"zerolinewidth\":2},\"yaxis\":{\"automargin\":true,\"gridcolor\":\"#EBF0F8\",\"linecolor\":\"#EBF0F8\",\"ticks\":\"\",\"title\":{\"standoff\":15},\"zerolinecolor\":\"#EBF0F8\",\"zerolinewidth\":2}}},\"title\":{\"text\":\"Top 20 most apps by developer\"},\"xaxis\":{\"tickfont\":{\"size\":12},\"title\":{\"text\":\"Developer\"}},\"yaxis\":{\"title\":{\"text\":\"Number of apps\"}}},                        {\"responsive\": true}                    ).then(function(){\n",
       "                            \n",
       "var gd = document.getElementById('0248180d-537f-4eb1-a7f3-15cb980d240d');\n",
       "var x = new MutationObserver(function (mutations, observer) {{\n",
       "        var display = window.getComputedStyle(gd).display;\n",
       "        if (!display || display === 'none') {{\n",
       "            console.log([gd, 'removed!']);\n",
       "            Plotly.purge(gd);\n",
       "            observer.disconnect();\n",
       "        }}\n",
       "}});\n",
       "\n",
       "// Listen for the removal of the full notebook cells\n",
       "var notebookContainer = gd.closest('#notebook-container');\n",
       "if (notebookContainer) {{\n",
       "    x.observe(notebookContainer, {childList: true});\n",
       "}}\n",
       "\n",
       "// Listen for the clearing of the current output cell\n",
       "var outputEl = gd.closest('.output');\n",
       "if (outputEl) {{\n",
       "    x.observe(outputEl, {childList: true});\n",
       "}}\n",
       "\n",
       "                        })                };                });            </script>        </div>"
      ]
     },
     "metadata": {},
     "output_type": "display_data"
    }
   ],
   "source": [
    "a = []\n",
    "b = []\n",
    "for x,y in games['Developer'].value_counts()[:20].iteritems():\n",
    "    a.append(x)\n",
    "    b.append(y)\n",
    "    \n",
    "    \n",
    "fig = go.Figure([go.Bar(x=a ,y=b, text=b, marker_color='red')])\n",
    "fig.update_layout(template='plotly_white',title_text='Top 20 most apps by developer')\n",
    "fig.update_yaxes(title_text='Number of apps')\n",
    "fig.update_xaxes(title_text='Developer',tickfont_size=12)\n",
    "fig.show()"
   ]
  },
  {
   "cell_type": "code",
   "execution_count": 31,
   "id": "35fae4de",
   "metadata": {
    "execution": {
     "iopub.execute_input": "2021-09-20T01:49:53.610569Z",
     "iopub.status.busy": "2021-09-20T01:49:53.609840Z",
     "iopub.status.idle": "2021-09-20T01:49:53.653183Z",
     "shell.execute_reply": "2021-09-20T01:49:53.652602Z",
     "shell.execute_reply.started": "2021-09-20T01:35:42.855253Z"
    },
    "papermill": {
     "duration": 0.1376,
     "end_time": "2021-09-20T01:49:53.653321",
     "exception": false,
     "start_time": "2021-09-20T01:49:53.515721",
     "status": "completed"
    },
    "tags": []
   },
   "outputs": [
    {
     "data": {
      "text/html": [
       "<div>                            <div id=\"b90e8fc6-3b55-4448-808d-e572eaf5e377\" class=\"plotly-graph-div\" style=\"height:525px; width:100%;\"></div>            <script type=\"text/javascript\">                require([\"plotly\"], function(Plotly) {                    window.PLOTLYENV=window.PLOTLYENV || {};                                    if (document.getElementById(\"b90e8fc6-3b55-4448-808d-e572eaf5e377\")) {                    Plotly.newPlot(                        \"b90e8fc6-3b55-4448-808d-e572eaf5e377\",                        [{\"marker\":{\"color\":\"purple\"},\"type\":\"bar\",\"x\":[\"Health & Fitness\",\"Games\",\"Education\",\"Social Networking\",\"Utilities\",\"Entertainment\",\"Business\",\"Books\",\"Lifestyle\",\"Finance\",\"Shopping\",\"Productivity\",\"Music\",\"Reference\",\"Sports\",\"Food & Drink\",\"News\",\"Navigation\",\"Travel\",\"Medical\",\"Stickers\"],\"y\":[289.21,117.4028693356257,104.91522522522523,84.21,82.99311688311688,72.55222222222223,70.456875,68.60555555555555,67.018,61.59166666666667,55.85,49.952,48.843333333333334,48.2528125,46.232,45.9925,44.62714285714286,16.76,12.1,10.78,3.9089655172413793]}],                        {\"template\":{\"data\":{\"bar\":[{\"error_x\":{\"color\":\"#2a3f5f\"},\"error_y\":{\"color\":\"#2a3f5f\"},\"marker\":{\"line\":{\"color\":\"white\",\"width\":0.5},\"pattern\":{\"fillmode\":\"overlay\",\"size\":10,\"solidity\":0.2}},\"type\":\"bar\"}],\"barpolar\":[{\"marker\":{\"line\":{\"color\":\"white\",\"width\":0.5},\"pattern\":{\"fillmode\":\"overlay\",\"size\":10,\"solidity\":0.2}},\"type\":\"barpolar\"}],\"carpet\":[{\"aaxis\":{\"endlinecolor\":\"#2a3f5f\",\"gridcolor\":\"#C8D4E3\",\"linecolor\":\"#C8D4E3\",\"minorgridcolor\":\"#C8D4E3\",\"startlinecolor\":\"#2a3f5f\"},\"baxis\":{\"endlinecolor\":\"#2a3f5f\",\"gridcolor\":\"#C8D4E3\",\"linecolor\":\"#C8D4E3\",\"minorgridcolor\":\"#C8D4E3\",\"startlinecolor\":\"#2a3f5f\"},\"type\":\"carpet\"}],\"choropleth\":[{\"colorbar\":{\"outlinewidth\":0,\"ticks\":\"\"},\"type\":\"choropleth\"}],\"contour\":[{\"colorbar\":{\"outlinewidth\":0,\"ticks\":\"\"},\"colorscale\":[[0.0,\"#0d0887\"],[0.1111111111111111,\"#46039f\"],[0.2222222222222222,\"#7201a8\"],[0.3333333333333333,\"#9c179e\"],[0.4444444444444444,\"#bd3786\"],[0.5555555555555556,\"#d8576b\"],[0.6666666666666666,\"#ed7953\"],[0.7777777777777778,\"#fb9f3a\"],[0.8888888888888888,\"#fdca26\"],[1.0,\"#f0f921\"]],\"type\":\"contour\"}],\"contourcarpet\":[{\"colorbar\":{\"outlinewidth\":0,\"ticks\":\"\"},\"type\":\"contourcarpet\"}],\"heatmap\":[{\"colorbar\":{\"outlinewidth\":0,\"ticks\":\"\"},\"colorscale\":[[0.0,\"#0d0887\"],[0.1111111111111111,\"#46039f\"],[0.2222222222222222,\"#7201a8\"],[0.3333333333333333,\"#9c179e\"],[0.4444444444444444,\"#bd3786\"],[0.5555555555555556,\"#d8576b\"],[0.6666666666666666,\"#ed7953\"],[0.7777777777777778,\"#fb9f3a\"],[0.8888888888888888,\"#fdca26\"],[1.0,\"#f0f921\"]],\"type\":\"heatmap\"}],\"heatmapgl\":[{\"colorbar\":{\"outlinewidth\":0,\"ticks\":\"\"},\"colorscale\":[[0.0,\"#0d0887\"],[0.1111111111111111,\"#46039f\"],[0.2222222222222222,\"#7201a8\"],[0.3333333333333333,\"#9c179e\"],[0.4444444444444444,\"#bd3786\"],[0.5555555555555556,\"#d8576b\"],[0.6666666666666666,\"#ed7953\"],[0.7777777777777778,\"#fb9f3a\"],[0.8888888888888888,\"#fdca26\"],[1.0,\"#f0f921\"]],\"type\":\"heatmapgl\"}],\"histogram\":[{\"marker\":{\"pattern\":{\"fillmode\":\"overlay\",\"size\":10,\"solidity\":0.2}},\"type\":\"histogram\"}],\"histogram2d\":[{\"colorbar\":{\"outlinewidth\":0,\"ticks\":\"\"},\"colorscale\":[[0.0,\"#0d0887\"],[0.1111111111111111,\"#46039f\"],[0.2222222222222222,\"#7201a8\"],[0.3333333333333333,\"#9c179e\"],[0.4444444444444444,\"#bd3786\"],[0.5555555555555556,\"#d8576b\"],[0.6666666666666666,\"#ed7953\"],[0.7777777777777778,\"#fb9f3a\"],[0.8888888888888888,\"#fdca26\"],[1.0,\"#f0f921\"]],\"type\":\"histogram2d\"}],\"histogram2dcontour\":[{\"colorbar\":{\"outlinewidth\":0,\"ticks\":\"\"},\"colorscale\":[[0.0,\"#0d0887\"],[0.1111111111111111,\"#46039f\"],[0.2222222222222222,\"#7201a8\"],[0.3333333333333333,\"#9c179e\"],[0.4444444444444444,\"#bd3786\"],[0.5555555555555556,\"#d8576b\"],[0.6666666666666666,\"#ed7953\"],[0.7777777777777778,\"#fb9f3a\"],[0.8888888888888888,\"#fdca26\"],[1.0,\"#f0f921\"]],\"type\":\"histogram2dcontour\"}],\"mesh3d\":[{\"colorbar\":{\"outlinewidth\":0,\"ticks\":\"\"},\"type\":\"mesh3d\"}],\"parcoords\":[{\"line\":{\"colorbar\":{\"outlinewidth\":0,\"ticks\":\"\"}},\"type\":\"parcoords\"}],\"pie\":[{\"automargin\":true,\"type\":\"pie\"}],\"scatter\":[{\"marker\":{\"colorbar\":{\"outlinewidth\":0,\"ticks\":\"\"}},\"type\":\"scatter\"}],\"scatter3d\":[{\"line\":{\"colorbar\":{\"outlinewidth\":0,\"ticks\":\"\"}},\"marker\":{\"colorbar\":{\"outlinewidth\":0,\"ticks\":\"\"}},\"type\":\"scatter3d\"}],\"scattercarpet\":[{\"marker\":{\"colorbar\":{\"outlinewidth\":0,\"ticks\":\"\"}},\"type\":\"scattercarpet\"}],\"scattergeo\":[{\"marker\":{\"colorbar\":{\"outlinewidth\":0,\"ticks\":\"\"}},\"type\":\"scattergeo\"}],\"scattergl\":[{\"marker\":{\"colorbar\":{\"outlinewidth\":0,\"ticks\":\"\"}},\"type\":\"scattergl\"}],\"scattermapbox\":[{\"marker\":{\"colorbar\":{\"outlinewidth\":0,\"ticks\":\"\"}},\"type\":\"scattermapbox\"}],\"scatterpolar\":[{\"marker\":{\"colorbar\":{\"outlinewidth\":0,\"ticks\":\"\"}},\"type\":\"scatterpolar\"}],\"scatterpolargl\":[{\"marker\":{\"colorbar\":{\"outlinewidth\":0,\"ticks\":\"\"}},\"type\":\"scatterpolargl\"}],\"scatterternary\":[{\"marker\":{\"colorbar\":{\"outlinewidth\":0,\"ticks\":\"\"}},\"type\":\"scatterternary\"}],\"surface\":[{\"colorbar\":{\"outlinewidth\":0,\"ticks\":\"\"},\"colorscale\":[[0.0,\"#0d0887\"],[0.1111111111111111,\"#46039f\"],[0.2222222222222222,\"#7201a8\"],[0.3333333333333333,\"#9c179e\"],[0.4444444444444444,\"#bd3786\"],[0.5555555555555556,\"#d8576b\"],[0.6666666666666666,\"#ed7953\"],[0.7777777777777778,\"#fb9f3a\"],[0.8888888888888888,\"#fdca26\"],[1.0,\"#f0f921\"]],\"type\":\"surface\"}],\"table\":[{\"cells\":{\"fill\":{\"color\":\"#EBF0F8\"},\"line\":{\"color\":\"white\"}},\"header\":{\"fill\":{\"color\":\"#C8D4E3\"},\"line\":{\"color\":\"white\"}},\"type\":\"table\"}]},\"layout\":{\"annotationdefaults\":{\"arrowcolor\":\"#2a3f5f\",\"arrowhead\":0,\"arrowwidth\":1},\"autotypenumbers\":\"strict\",\"coloraxis\":{\"colorbar\":{\"outlinewidth\":0,\"ticks\":\"\"}},\"colorscale\":{\"diverging\":[[0,\"#8e0152\"],[0.1,\"#c51b7d\"],[0.2,\"#de77ae\"],[0.3,\"#f1b6da\"],[0.4,\"#fde0ef\"],[0.5,\"#f7f7f7\"],[0.6,\"#e6f5d0\"],[0.7,\"#b8e186\"],[0.8,\"#7fbc41\"],[0.9,\"#4d9221\"],[1,\"#276419\"]],\"sequential\":[[0.0,\"#0d0887\"],[0.1111111111111111,\"#46039f\"],[0.2222222222222222,\"#7201a8\"],[0.3333333333333333,\"#9c179e\"],[0.4444444444444444,\"#bd3786\"],[0.5555555555555556,\"#d8576b\"],[0.6666666666666666,\"#ed7953\"],[0.7777777777777778,\"#fb9f3a\"],[0.8888888888888888,\"#fdca26\"],[1.0,\"#f0f921\"]],\"sequentialminus\":[[0.0,\"#0d0887\"],[0.1111111111111111,\"#46039f\"],[0.2222222222222222,\"#7201a8\"],[0.3333333333333333,\"#9c179e\"],[0.4444444444444444,\"#bd3786\"],[0.5555555555555556,\"#d8576b\"],[0.6666666666666666,\"#ed7953\"],[0.7777777777777778,\"#fb9f3a\"],[0.8888888888888888,\"#fdca26\"],[1.0,\"#f0f921\"]]},\"colorway\":[\"#636efa\",\"#EF553B\",\"#00cc96\",\"#ab63fa\",\"#FFA15A\",\"#19d3f3\",\"#FF6692\",\"#B6E880\",\"#FF97FF\",\"#FECB52\"],\"font\":{\"color\":\"#2a3f5f\"},\"geo\":{\"bgcolor\":\"white\",\"lakecolor\":\"white\",\"landcolor\":\"white\",\"showlakes\":true,\"showland\":true,\"subunitcolor\":\"#C8D4E3\"},\"hoverlabel\":{\"align\":\"left\"},\"hovermode\":\"closest\",\"mapbox\":{\"style\":\"light\"},\"paper_bgcolor\":\"white\",\"plot_bgcolor\":\"white\",\"polar\":{\"angularaxis\":{\"gridcolor\":\"#EBF0F8\",\"linecolor\":\"#EBF0F8\",\"ticks\":\"\"},\"bgcolor\":\"white\",\"radialaxis\":{\"gridcolor\":\"#EBF0F8\",\"linecolor\":\"#EBF0F8\",\"ticks\":\"\"}},\"scene\":{\"xaxis\":{\"backgroundcolor\":\"white\",\"gridcolor\":\"#DFE8F3\",\"gridwidth\":2,\"linecolor\":\"#EBF0F8\",\"showbackground\":true,\"ticks\":\"\",\"zerolinecolor\":\"#EBF0F8\"},\"yaxis\":{\"backgroundcolor\":\"white\",\"gridcolor\":\"#DFE8F3\",\"gridwidth\":2,\"linecolor\":\"#EBF0F8\",\"showbackground\":true,\"ticks\":\"\",\"zerolinecolor\":\"#EBF0F8\"},\"zaxis\":{\"backgroundcolor\":\"white\",\"gridcolor\":\"#DFE8F3\",\"gridwidth\":2,\"linecolor\":\"#EBF0F8\",\"showbackground\":true,\"ticks\":\"\",\"zerolinecolor\":\"#EBF0F8\"}},\"shapedefaults\":{\"line\":{\"color\":\"#2a3f5f\"}},\"ternary\":{\"aaxis\":{\"gridcolor\":\"#DFE8F3\",\"linecolor\":\"#A2B1C6\",\"ticks\":\"\"},\"baxis\":{\"gridcolor\":\"#DFE8F3\",\"linecolor\":\"#A2B1C6\",\"ticks\":\"\"},\"bgcolor\":\"white\",\"caxis\":{\"gridcolor\":\"#DFE8F3\",\"linecolor\":\"#A2B1C6\",\"ticks\":\"\"}},\"title\":{\"x\":0.05},\"xaxis\":{\"automargin\":true,\"gridcolor\":\"#EBF0F8\",\"linecolor\":\"#EBF0F8\",\"ticks\":\"\",\"title\":{\"standoff\":15},\"zerolinecolor\":\"#EBF0F8\",\"zerolinewidth\":2},\"yaxis\":{\"automargin\":true,\"gridcolor\":\"#EBF0F8\",\"linecolor\":\"#EBF0F8\",\"ticks\":\"\",\"title\":{\"standoff\":15},\"zerolinecolor\":\"#EBF0F8\",\"zerolinewidth\":2}}},\"title\":{\"text\":\"Average app size by Genre\"},\"xaxis\":{\"tickfont\":{\"size\":15},\"title\":{\"text\":\"Genre\"}},\"yaxis\":{\"title\":{\"text\":\"Size(mb)\"}}},                        {\"responsive\": true}                    ).then(function(){\n",
       "                            \n",
       "var gd = document.getElementById('b90e8fc6-3b55-4448-808d-e572eaf5e377');\n",
       "var x = new MutationObserver(function (mutations, observer) {{\n",
       "        var display = window.getComputedStyle(gd).display;\n",
       "        if (!display || display === 'none') {{\n",
       "            console.log([gd, 'removed!']);\n",
       "            Plotly.purge(gd);\n",
       "            observer.disconnect();\n",
       "        }}\n",
       "}});\n",
       "\n",
       "// Listen for the removal of the full notebook cells\n",
       "var notebookContainer = gd.closest('#notebook-container');\n",
       "if (notebookContainer) {{\n",
       "    x.observe(notebookContainer, {childList: true});\n",
       "}}\n",
       "\n",
       "// Listen for the clearing of the current output cell\n",
       "var outputEl = gd.closest('.output');\n",
       "if (outputEl) {{\n",
       "    x.observe(outputEl, {childList: true});\n",
       "}}\n",
       "\n",
       "                        })                };                });            </script>        </div>"
      ]
     },
     "metadata": {},
     "output_type": "display_data"
    }
   ],
   "source": [
    "a = []\n",
    "b = []\n",
    "for x,y in games.groupby('Primary Genre')[['Size']].mean().sort_values(by = ['Size'], ascending = False).iteritems():\n",
    "    for w,z in y.iteritems():\n",
    "        a.append(w)\n",
    "        b.append(z)\n",
    "        \n",
    "        \n",
    "fig = go.Figure([go.Bar(x =a ,y = b, marker_color='purple')])\n",
    "fig.update_layout(template='plotly_white',title_text='Average app size by Genre')\n",
    "fig.update_yaxes(title_text='Size(mb)')\n",
    "fig.update_xaxes(title_text='Genre',tickfont_size=15)\n",
    "fig.show()        "
   ]
  },
  {
   "cell_type": "code",
   "execution_count": 32,
   "id": "07cc0d14",
   "metadata": {
    "execution": {
     "iopub.execute_input": "2021-09-20T01:49:53.832044Z",
     "iopub.status.busy": "2021-09-20T01:49:53.830989Z",
     "iopub.status.idle": "2021-09-20T01:49:53.877782Z",
     "shell.execute_reply": "2021-09-20T01:49:53.877217Z",
     "shell.execute_reply.started": "2021-09-20T01:35:42.919041Z"
    },
    "papermill": {
     "duration": 0.136826,
     "end_time": "2021-09-20T01:49:53.877918",
     "exception": false,
     "start_time": "2021-09-20T01:49:53.741092",
     "status": "completed"
    },
    "tags": []
   },
   "outputs": [
    {
     "data": {
      "text/html": [
       "<div>                            <div id=\"0e7158a8-273c-49c0-b0de-e8725e174cc9\" class=\"plotly-graph-div\" style=\"height:525px; width:100%;\"></div>            <script type=\"text/javascript\">                require([\"plotly\"], function(Plotly) {                    window.PLOTLYENV=window.PLOTLYENV || {};                                    if (document.getElementById(\"0e7158a8-273c-49c0-b0de-e8725e174cc9\")) {                    Plotly.newPlot(                        \"0e7158a8-273c-49c0-b0de-e8725e174cc9\",                        [{\"marker\":{\"color\":\"darkblue\"},\"text\":[\"12307\",\"1722\",\"990\",\"925\",\"514\",\"317\",\"158\",\"60\",\"14\"],\"textposition\":\"outside\",\"type\":\"bar\",\"x\":[4.5,4.0,5.0,3.5,3.0,2.5,2.0,1.5,1.0],\"y\":[12307,1722,990,925,514,317,158,60,14]}],                        {\"template\":{\"data\":{\"bar\":[{\"error_x\":{\"color\":\"#2a3f5f\"},\"error_y\":{\"color\":\"#2a3f5f\"},\"marker\":{\"line\":{\"color\":\"white\",\"width\":0.5},\"pattern\":{\"fillmode\":\"overlay\",\"size\":10,\"solidity\":0.2}},\"type\":\"bar\"}],\"barpolar\":[{\"marker\":{\"line\":{\"color\":\"white\",\"width\":0.5},\"pattern\":{\"fillmode\":\"overlay\",\"size\":10,\"solidity\":0.2}},\"type\":\"barpolar\"}],\"carpet\":[{\"aaxis\":{\"endlinecolor\":\"#2a3f5f\",\"gridcolor\":\"#C8D4E3\",\"linecolor\":\"#C8D4E3\",\"minorgridcolor\":\"#C8D4E3\",\"startlinecolor\":\"#2a3f5f\"},\"baxis\":{\"endlinecolor\":\"#2a3f5f\",\"gridcolor\":\"#C8D4E3\",\"linecolor\":\"#C8D4E3\",\"minorgridcolor\":\"#C8D4E3\",\"startlinecolor\":\"#2a3f5f\"},\"type\":\"carpet\"}],\"choropleth\":[{\"colorbar\":{\"outlinewidth\":0,\"ticks\":\"\"},\"type\":\"choropleth\"}],\"contour\":[{\"colorbar\":{\"outlinewidth\":0,\"ticks\":\"\"},\"colorscale\":[[0.0,\"#0d0887\"],[0.1111111111111111,\"#46039f\"],[0.2222222222222222,\"#7201a8\"],[0.3333333333333333,\"#9c179e\"],[0.4444444444444444,\"#bd3786\"],[0.5555555555555556,\"#d8576b\"],[0.6666666666666666,\"#ed7953\"],[0.7777777777777778,\"#fb9f3a\"],[0.8888888888888888,\"#fdca26\"],[1.0,\"#f0f921\"]],\"type\":\"contour\"}],\"contourcarpet\":[{\"colorbar\":{\"outlinewidth\":0,\"ticks\":\"\"},\"type\":\"contourcarpet\"}],\"heatmap\":[{\"colorbar\":{\"outlinewidth\":0,\"ticks\":\"\"},\"colorscale\":[[0.0,\"#0d0887\"],[0.1111111111111111,\"#46039f\"],[0.2222222222222222,\"#7201a8\"],[0.3333333333333333,\"#9c179e\"],[0.4444444444444444,\"#bd3786\"],[0.5555555555555556,\"#d8576b\"],[0.6666666666666666,\"#ed7953\"],[0.7777777777777778,\"#fb9f3a\"],[0.8888888888888888,\"#fdca26\"],[1.0,\"#f0f921\"]],\"type\":\"heatmap\"}],\"heatmapgl\":[{\"colorbar\":{\"outlinewidth\":0,\"ticks\":\"\"},\"colorscale\":[[0.0,\"#0d0887\"],[0.1111111111111111,\"#46039f\"],[0.2222222222222222,\"#7201a8\"],[0.3333333333333333,\"#9c179e\"],[0.4444444444444444,\"#bd3786\"],[0.5555555555555556,\"#d8576b\"],[0.6666666666666666,\"#ed7953\"],[0.7777777777777778,\"#fb9f3a\"],[0.8888888888888888,\"#fdca26\"],[1.0,\"#f0f921\"]],\"type\":\"heatmapgl\"}],\"histogram\":[{\"marker\":{\"pattern\":{\"fillmode\":\"overlay\",\"size\":10,\"solidity\":0.2}},\"type\":\"histogram\"}],\"histogram2d\":[{\"colorbar\":{\"outlinewidth\":0,\"ticks\":\"\"},\"colorscale\":[[0.0,\"#0d0887\"],[0.1111111111111111,\"#46039f\"],[0.2222222222222222,\"#7201a8\"],[0.3333333333333333,\"#9c179e\"],[0.4444444444444444,\"#bd3786\"],[0.5555555555555556,\"#d8576b\"],[0.6666666666666666,\"#ed7953\"],[0.7777777777777778,\"#fb9f3a\"],[0.8888888888888888,\"#fdca26\"],[1.0,\"#f0f921\"]],\"type\":\"histogram2d\"}],\"histogram2dcontour\":[{\"colorbar\":{\"outlinewidth\":0,\"ticks\":\"\"},\"colorscale\":[[0.0,\"#0d0887\"],[0.1111111111111111,\"#46039f\"],[0.2222222222222222,\"#7201a8\"],[0.3333333333333333,\"#9c179e\"],[0.4444444444444444,\"#bd3786\"],[0.5555555555555556,\"#d8576b\"],[0.6666666666666666,\"#ed7953\"],[0.7777777777777778,\"#fb9f3a\"],[0.8888888888888888,\"#fdca26\"],[1.0,\"#f0f921\"]],\"type\":\"histogram2dcontour\"}],\"mesh3d\":[{\"colorbar\":{\"outlinewidth\":0,\"ticks\":\"\"},\"type\":\"mesh3d\"}],\"parcoords\":[{\"line\":{\"colorbar\":{\"outlinewidth\":0,\"ticks\":\"\"}},\"type\":\"parcoords\"}],\"pie\":[{\"automargin\":true,\"type\":\"pie\"}],\"scatter\":[{\"marker\":{\"colorbar\":{\"outlinewidth\":0,\"ticks\":\"\"}},\"type\":\"scatter\"}],\"scatter3d\":[{\"line\":{\"colorbar\":{\"outlinewidth\":0,\"ticks\":\"\"}},\"marker\":{\"colorbar\":{\"outlinewidth\":0,\"ticks\":\"\"}},\"type\":\"scatter3d\"}],\"scattercarpet\":[{\"marker\":{\"colorbar\":{\"outlinewidth\":0,\"ticks\":\"\"}},\"type\":\"scattercarpet\"}],\"scattergeo\":[{\"marker\":{\"colorbar\":{\"outlinewidth\":0,\"ticks\":\"\"}},\"type\":\"scattergeo\"}],\"scattergl\":[{\"marker\":{\"colorbar\":{\"outlinewidth\":0,\"ticks\":\"\"}},\"type\":\"scattergl\"}],\"scattermapbox\":[{\"marker\":{\"colorbar\":{\"outlinewidth\":0,\"ticks\":\"\"}},\"type\":\"scattermapbox\"}],\"scatterpolar\":[{\"marker\":{\"colorbar\":{\"outlinewidth\":0,\"ticks\":\"\"}},\"type\":\"scatterpolar\"}],\"scatterpolargl\":[{\"marker\":{\"colorbar\":{\"outlinewidth\":0,\"ticks\":\"\"}},\"type\":\"scatterpolargl\"}],\"scatterternary\":[{\"marker\":{\"colorbar\":{\"outlinewidth\":0,\"ticks\":\"\"}},\"type\":\"scatterternary\"}],\"surface\":[{\"colorbar\":{\"outlinewidth\":0,\"ticks\":\"\"},\"colorscale\":[[0.0,\"#0d0887\"],[0.1111111111111111,\"#46039f\"],[0.2222222222222222,\"#7201a8\"],[0.3333333333333333,\"#9c179e\"],[0.4444444444444444,\"#bd3786\"],[0.5555555555555556,\"#d8576b\"],[0.6666666666666666,\"#ed7953\"],[0.7777777777777778,\"#fb9f3a\"],[0.8888888888888888,\"#fdca26\"],[1.0,\"#f0f921\"]],\"type\":\"surface\"}],\"table\":[{\"cells\":{\"fill\":{\"color\":\"#EBF0F8\"},\"line\":{\"color\":\"white\"}},\"header\":{\"fill\":{\"color\":\"#C8D4E3\"},\"line\":{\"color\":\"white\"}},\"type\":\"table\"}]},\"layout\":{\"annotationdefaults\":{\"arrowcolor\":\"#2a3f5f\",\"arrowhead\":0,\"arrowwidth\":1},\"autotypenumbers\":\"strict\",\"coloraxis\":{\"colorbar\":{\"outlinewidth\":0,\"ticks\":\"\"}},\"colorscale\":{\"diverging\":[[0,\"#8e0152\"],[0.1,\"#c51b7d\"],[0.2,\"#de77ae\"],[0.3,\"#f1b6da\"],[0.4,\"#fde0ef\"],[0.5,\"#f7f7f7\"],[0.6,\"#e6f5d0\"],[0.7,\"#b8e186\"],[0.8,\"#7fbc41\"],[0.9,\"#4d9221\"],[1,\"#276419\"]],\"sequential\":[[0.0,\"#0d0887\"],[0.1111111111111111,\"#46039f\"],[0.2222222222222222,\"#7201a8\"],[0.3333333333333333,\"#9c179e\"],[0.4444444444444444,\"#bd3786\"],[0.5555555555555556,\"#d8576b\"],[0.6666666666666666,\"#ed7953\"],[0.7777777777777778,\"#fb9f3a\"],[0.8888888888888888,\"#fdca26\"],[1.0,\"#f0f921\"]],\"sequentialminus\":[[0.0,\"#0d0887\"],[0.1111111111111111,\"#46039f\"],[0.2222222222222222,\"#7201a8\"],[0.3333333333333333,\"#9c179e\"],[0.4444444444444444,\"#bd3786\"],[0.5555555555555556,\"#d8576b\"],[0.6666666666666666,\"#ed7953\"],[0.7777777777777778,\"#fb9f3a\"],[0.8888888888888888,\"#fdca26\"],[1.0,\"#f0f921\"]]},\"colorway\":[\"#636efa\",\"#EF553B\",\"#00cc96\",\"#ab63fa\",\"#FFA15A\",\"#19d3f3\",\"#FF6692\",\"#B6E880\",\"#FF97FF\",\"#FECB52\"],\"font\":{\"color\":\"#2a3f5f\"},\"geo\":{\"bgcolor\":\"white\",\"lakecolor\":\"white\",\"landcolor\":\"white\",\"showlakes\":true,\"showland\":true,\"subunitcolor\":\"#C8D4E3\"},\"hoverlabel\":{\"align\":\"left\"},\"hovermode\":\"closest\",\"mapbox\":{\"style\":\"light\"},\"paper_bgcolor\":\"white\",\"plot_bgcolor\":\"white\",\"polar\":{\"angularaxis\":{\"gridcolor\":\"#EBF0F8\",\"linecolor\":\"#EBF0F8\",\"ticks\":\"\"},\"bgcolor\":\"white\",\"radialaxis\":{\"gridcolor\":\"#EBF0F8\",\"linecolor\":\"#EBF0F8\",\"ticks\":\"\"}},\"scene\":{\"xaxis\":{\"backgroundcolor\":\"white\",\"gridcolor\":\"#DFE8F3\",\"gridwidth\":2,\"linecolor\":\"#EBF0F8\",\"showbackground\":true,\"ticks\":\"\",\"zerolinecolor\":\"#EBF0F8\"},\"yaxis\":{\"backgroundcolor\":\"white\",\"gridcolor\":\"#DFE8F3\",\"gridwidth\":2,\"linecolor\":\"#EBF0F8\",\"showbackground\":true,\"ticks\":\"\",\"zerolinecolor\":\"#EBF0F8\"},\"zaxis\":{\"backgroundcolor\":\"white\",\"gridcolor\":\"#DFE8F3\",\"gridwidth\":2,\"linecolor\":\"#EBF0F8\",\"showbackground\":true,\"ticks\":\"\",\"zerolinecolor\":\"#EBF0F8\"}},\"shapedefaults\":{\"line\":{\"color\":\"#2a3f5f\"}},\"ternary\":{\"aaxis\":{\"gridcolor\":\"#DFE8F3\",\"linecolor\":\"#A2B1C6\",\"ticks\":\"\"},\"baxis\":{\"gridcolor\":\"#DFE8F3\",\"linecolor\":\"#A2B1C6\",\"ticks\":\"\"},\"bgcolor\":\"white\",\"caxis\":{\"gridcolor\":\"#DFE8F3\",\"linecolor\":\"#A2B1C6\",\"ticks\":\"\"}},\"title\":{\"x\":0.05},\"xaxis\":{\"automargin\":true,\"gridcolor\":\"#EBF0F8\",\"linecolor\":\"#EBF0F8\",\"ticks\":\"\",\"title\":{\"standoff\":15},\"zerolinecolor\":\"#EBF0F8\",\"zerolinewidth\":2},\"yaxis\":{\"automargin\":true,\"gridcolor\":\"#EBF0F8\",\"linecolor\":\"#EBF0F8\",\"ticks\":\"\",\"title\":{\"standoff\":15},\"zerolinecolor\":\"#EBF0F8\",\"zerolinewidth\":2}}},\"title\":{\"text\":\"Amount of ratings in the dataset\"},\"xaxis\":{\"tickfont\":{\"size\":18},\"title\":{\"text\":\"Ratings\"}},\"yaxis\":{\"title\":{\"text\":\"Count\"}}},                        {\"responsive\": true}                    ).then(function(){\n",
       "                            \n",
       "var gd = document.getElementById('0e7158a8-273c-49c0-b0de-e8725e174cc9');\n",
       "var x = new MutationObserver(function (mutations, observer) {{\n",
       "        var display = window.getComputedStyle(gd).display;\n",
       "        if (!display || display === 'none') {{\n",
       "            console.log([gd, 'removed!']);\n",
       "            Plotly.purge(gd);\n",
       "            observer.disconnect();\n",
       "        }}\n",
       "}});\n",
       "\n",
       "// Listen for the removal of the full notebook cells\n",
       "var notebookContainer = gd.closest('#notebook-container');\n",
       "if (notebookContainer) {{\n",
       "    x.observe(notebookContainer, {childList: true});\n",
       "}}\n",
       "\n",
       "// Listen for the clearing of the current output cell\n",
       "var outputEl = gd.closest('.output');\n",
       "if (outputEl) {{\n",
       "    x.observe(outputEl, {childList: true});\n",
       "}}\n",
       "\n",
       "                        })                };                });            </script>        </div>"
      ]
     },
     "metadata": {},
     "output_type": "display_data"
    }
   ],
   "source": [
    "a = []\n",
    "b = []\n",
    "for x,y in games['Average User Rating'].value_counts().iteritems():\n",
    "    a.append(x)\n",
    "    b.append(y)\n",
    "    \n",
    "     \n",
    "fig = go.Figure([go.Bar(x=a, y=b , text=b, textposition='outside', marker_color='darkblue')])\n",
    "fig.update_layout(template='plotly_white',title_text='Amount of ratings in the dataset')\n",
    "fig.update_yaxes(title_text='Count')\n",
    "fig.update_xaxes(title_text='Ratings',tickfont_size=18)\n",
    "fig.show()    "
   ]
  },
  {
   "cell_type": "markdown",
   "id": "893b0744",
   "metadata": {
    "papermill": {
     "duration": 0.086266,
     "end_time": "2021-09-20T01:49:54.052141",
     "exception": false,
     "start_time": "2021-09-20T01:49:53.965875",
     "status": "completed"
    },
    "tags": []
   },
   "source": [
    "##### Correlation heatmap"
   ]
  },
  {
   "cell_type": "code",
   "execution_count": 33,
   "id": "21fec61f",
   "metadata": {
    "execution": {
     "iopub.execute_input": "2021-09-20T01:49:54.230157Z",
     "iopub.status.busy": "2021-09-20T01:49:54.229163Z",
     "iopub.status.idle": "2021-09-20T01:49:54.752748Z",
     "shell.execute_reply": "2021-09-20T01:49:54.753273Z",
     "shell.execute_reply.started": "2021-09-20T01:35:42.976248Z"
    },
    "papermill": {
     "duration": 0.614275,
     "end_time": "2021-09-20T01:49:54.753452",
     "exception": false,
     "start_time": "2021-09-20T01:49:54.139177",
     "status": "completed"
    },
    "tags": []
   },
   "outputs": [
    {
     "data": {
      "image/png": "[encoded data removed]",
      "text/plain": [
       "<Figure size 864x504 with 2 Axes>"
      ]
     },
     "metadata": {
      "needs_background": "light"
     },
     "output_type": "display_data"
    }
   ],
   "source": [
    "f,ax= plt.subplots(figsize=(12,7))\n",
    "g = sns.heatmap(games.corr(),annot= True)\n",
    "bottom, top = g.get_ylim()\n",
    "g.set_ylim(bottom+.5, top-.5)\n",
    "plt.show()"
   ]
  },
  {
   "cell_type": "markdown",
   "id": "f60cc6e6",
   "metadata": {
    "papermill": {
     "duration": 0.089804,
     "end_time": "2021-09-20T01:49:54.932880",
     "exception": false,
     "start_time": "2021-09-20T01:49:54.843076",
     "status": "completed"
    },
    "tags": []
   },
   "source": [
    "Interesting find, as the dates progress so did most the average user ratings:"
   ]
  },
  {
   "cell_type": "code",
   "execution_count": 34,
   "id": "350743e9",
   "metadata": {
    "execution": {
     "iopub.execute_input": "2021-09-20T01:49:55.116041Z",
     "iopub.status.busy": "2021-09-20T01:49:55.115104Z",
     "iopub.status.idle": "2021-09-20T01:49:55.130669Z",
     "shell.execute_reply": "2021-09-20T01:49:55.131198Z",
     "shell.execute_reply.started": "2021-09-20T01:35:43.549364Z"
    },
    "papermill": {
     "duration": 0.109475,
     "end_time": "2021-09-20T01:49:55.131375",
     "exception": false,
     "start_time": "2021-09-20T01:49:55.021900",
     "status": "completed"
    },
    "tags": []
   },
   "outputs": [
    {
     "data": {
      "text/html": [
       "<div>\n",
       "<style scoped>\n",
       "    .dataframe tbody tr th:only-of-type {\n",
       "        vertical-align: middle;\n",
       "    }\n",
       "\n",
       "    .dataframe tbody tr th {\n",
       "        vertical-align: top;\n",
       "    }\n",
       "\n",
       "    .dataframe thead th {\n",
       "        text-align: right;\n",
       "    }\n",
       "</style>\n",
       "<table border=\"1\" class=\"dataframe\">\n",
       "  <thead>\n",
       "    <tr style=\"text-align: right;\">\n",
       "      <th></th>\n",
       "      <th>Original Release Date</th>\n",
       "      <th>Average User Rating</th>\n",
       "    </tr>\n",
       "  </thead>\n",
       "  <tbody>\n",
       "    <tr>\n",
       "      <th>0</th>\n",
       "      <td>2008</td>\n",
       "      <td>3.361702</td>\n",
       "    </tr>\n",
       "    <tr>\n",
       "      <th>1</th>\n",
       "      <td>2009</td>\n",
       "      <td>3.329545</td>\n",
       "    </tr>\n",
       "    <tr>\n",
       "      <th>2</th>\n",
       "      <td>2010</td>\n",
       "      <td>3.606498</td>\n",
       "    </tr>\n",
       "    <tr>\n",
       "      <th>3</th>\n",
       "      <td>2011</td>\n",
       "      <td>3.967347</td>\n",
       "    </tr>\n",
       "    <tr>\n",
       "      <th>4</th>\n",
       "      <td>2012</td>\n",
       "      <td>4.107682</td>\n",
       "    </tr>\n",
       "    <tr>\n",
       "      <th>5</th>\n",
       "      <td>2013</td>\n",
       "      <td>4.142980</td>\n",
       "    </tr>\n",
       "    <tr>\n",
       "      <th>6</th>\n",
       "      <td>2014</td>\n",
       "      <td>4.263074</td>\n",
       "    </tr>\n",
       "    <tr>\n",
       "      <th>7</th>\n",
       "      <td>2015</td>\n",
       "      <td>4.338222</td>\n",
       "    </tr>\n",
       "    <tr>\n",
       "      <th>8</th>\n",
       "      <td>2016</td>\n",
       "      <td>4.367882</td>\n",
       "    </tr>\n",
       "    <tr>\n",
       "      <th>9</th>\n",
       "      <td>2017</td>\n",
       "      <td>4.399042</td>\n",
       "    </tr>\n",
       "    <tr>\n",
       "      <th>10</th>\n",
       "      <td>2018</td>\n",
       "      <td>4.397963</td>\n",
       "    </tr>\n",
       "    <tr>\n",
       "      <th>11</th>\n",
       "      <td>2019</td>\n",
       "      <td>4.441720</td>\n",
       "    </tr>\n",
       "  </tbody>\n",
       "</table>\n",
       "</div>"
      ],
      "text/plain": [
       "   Original Release Date  Average User Rating\n",
       "0                   2008             3.361702\n",
       "1                   2009             3.329545\n",
       "2                   2010             3.606498\n",
       "3                   2011             3.967347\n",
       "4                   2012             4.107682\n",
       "5                   2013             4.142980\n",
       "6                   2014             4.263074\n",
       "7                   2015             4.338222\n",
       "8                   2016             4.367882\n",
       "9                   2017             4.399042\n",
       "10                  2018             4.397963\n",
       "11                  2019             4.441720"
      ]
     },
     "execution_count": 34,
     "metadata": {},
     "output_type": "execute_result"
    }
   ],
   "source": [
    "games[['Original Release Date','Average User Rating']].groupby('Original Release Date', as_index=False).mean()"
   ]
  },
  {
   "cell_type": "markdown",
   "id": "8d4eab8e",
   "metadata": {
    "papermill": {
     "duration": 0.090233,
     "end_time": "2021-09-20T01:49:55.312400",
     "exception": false,
     "start_time": "2021-09-20T01:49:55.222167",
     "status": "completed"
    },
    "tags": []
   },
   "source": [
    "Before we begin we need to add another column to our games dataframe."
   ]
  },
  {
   "cell_type": "code",
   "execution_count": 35,
   "id": "646596df",
   "metadata": {
    "execution": {
     "iopub.execute_input": "2021-09-20T01:49:55.520017Z",
     "iopub.status.busy": "2021-09-20T01:49:55.518963Z",
     "iopub.status.idle": "2021-09-20T01:49:55.521534Z",
     "shell.execute_reply": "2021-09-20T01:49:55.522292Z",
     "shell.execute_reply.started": "2021-09-20T01:35:43.568657Z"
    },
    "papermill": {
     "duration": 0.119631,
     "end_time": "2021-09-20T01:49:55.522523",
     "exception": false,
     "start_time": "2021-09-20T01:49:55.402892",
     "status": "completed"
    },
    "tags": []
   },
   "outputs": [],
   "source": [
    "temp1= [x for x in zip(games['Price'], games['In-app Purchases'])]\n",
    "temp2 = []\n",
    "for x,y in temp1:\n",
    "    if x == 0.0 and y == 0:\n",
    "        temp2.append(1)\n",
    "    else:\n",
    "        temp2.append(0)\n",
    "        "
   ]
  },
  {
   "cell_type": "code",
   "execution_count": 36,
   "id": "952a2515",
   "metadata": {
    "execution": {
     "iopub.execute_input": "2021-09-20T01:49:55.753987Z",
     "iopub.status.busy": "2021-09-20T01:49:55.753039Z",
     "iopub.status.idle": "2021-09-20T01:49:55.779959Z",
     "shell.execute_reply": "2021-09-20T01:49:55.780602Z",
     "shell.execute_reply.started": "2021-09-20T01:35:43.592048Z"
    },
    "papermill": {
     "duration": 0.151653,
     "end_time": "2021-09-20T01:49:55.780774",
     "exception": false,
     "start_time": "2021-09-20T01:49:55.629121",
     "status": "completed"
    },
    "tags": []
   },
   "outputs": [
    {
     "data": {
      "text/html": [
       "<div>\n",
       "<style scoped>\n",
       "    .dataframe tbody tr th:only-of-type {\n",
       "        vertical-align: middle;\n",
       "    }\n",
       "\n",
       "    .dataframe tbody tr th {\n",
       "        vertical-align: top;\n",
       "    }\n",
       "\n",
       "    .dataframe thead th {\n",
       "        text-align: right;\n",
       "    }\n",
       "</style>\n",
       "<table border=\"1\" class=\"dataframe\">\n",
       "  <thead>\n",
       "    <tr style=\"text-align: right;\">\n",
       "      <th></th>\n",
       "      <th>Name</th>\n",
       "      <th>Average User Rating</th>\n",
       "      <th>User Rating Count</th>\n",
       "      <th>Price</th>\n",
       "      <th>In-app Purchases</th>\n",
       "      <th>Developer</th>\n",
       "      <th>Age Rating</th>\n",
       "      <th>Languages</th>\n",
       "      <th>Size</th>\n",
       "      <th>Primary Genre</th>\n",
       "      <th>Secondary Genre</th>\n",
       "      <th>Original Release Date</th>\n",
       "      <th>Current Version Release Date</th>\n",
       "      <th>FreeToPlay</th>\n",
       "    </tr>\n",
       "  </thead>\n",
       "  <tbody>\n",
       "    <tr>\n",
       "      <th>0</th>\n",
       "      <td>Sudoku</td>\n",
       "      <td>4.0</td>\n",
       "      <td>3553.0</td>\n",
       "      <td>2.99</td>\n",
       "      <td>0</td>\n",
       "      <td>Mighty Mighty Good Games</td>\n",
       "      <td>4</td>\n",
       "      <td>17</td>\n",
       "      <td>15.85</td>\n",
       "      <td>Games</td>\n",
       "      <td>Strategy</td>\n",
       "      <td>2008</td>\n",
       "      <td>2017</td>\n",
       "      <td>0</td>\n",
       "    </tr>\n",
       "    <tr>\n",
       "      <th>1</th>\n",
       "      <td>Reversi</td>\n",
       "      <td>3.5</td>\n",
       "      <td>284.0</td>\n",
       "      <td>1.99</td>\n",
       "      <td>0</td>\n",
       "      <td>Kiss The Machine</td>\n",
       "      <td>4</td>\n",
       "      <td>1</td>\n",
       "      <td>12.33</td>\n",
       "      <td>Games</td>\n",
       "      <td>Strategy</td>\n",
       "      <td>2008</td>\n",
       "      <td>2018</td>\n",
       "      <td>0</td>\n",
       "    </tr>\n",
       "    <tr>\n",
       "      <th>2</th>\n",
       "      <td>Morocco</td>\n",
       "      <td>3.0</td>\n",
       "      <td>8376.0</td>\n",
       "      <td>0.00</td>\n",
       "      <td>0</td>\n",
       "      <td>Bayou Games</td>\n",
       "      <td>4</td>\n",
       "      <td>1</td>\n",
       "      <td>0.67</td>\n",
       "      <td>Games</td>\n",
       "      <td>Board</td>\n",
       "      <td>2008</td>\n",
       "      <td>2017</td>\n",
       "      <td>1</td>\n",
       "    </tr>\n",
       "    <tr>\n",
       "      <th>3</th>\n",
       "      <td>Sudoku (Free)</td>\n",
       "      <td>3.5</td>\n",
       "      <td>190394.0</td>\n",
       "      <td>0.00</td>\n",
       "      <td>0</td>\n",
       "      <td>Mighty Mighty Good Games</td>\n",
       "      <td>4</td>\n",
       "      <td>17</td>\n",
       "      <td>21.55</td>\n",
       "      <td>Games</td>\n",
       "      <td>Strategy</td>\n",
       "      <td>2008</td>\n",
       "      <td>2017</td>\n",
       "      <td>1</td>\n",
       "    </tr>\n",
       "    <tr>\n",
       "      <th>4</th>\n",
       "      <td>Senet Deluxe</td>\n",
       "      <td>3.5</td>\n",
       "      <td>28.0</td>\n",
       "      <td>2.99</td>\n",
       "      <td>0</td>\n",
       "      <td>RoGame Software</td>\n",
       "      <td>4</td>\n",
       "      <td>15</td>\n",
       "      <td>34.69</td>\n",
       "      <td>Games</td>\n",
       "      <td>Strategy</td>\n",
       "      <td>2008</td>\n",
       "      <td>2018</td>\n",
       "      <td>0</td>\n",
       "    </tr>\n",
       "  </tbody>\n",
       "</table>\n",
       "</div>"
      ],
      "text/plain": [
       "            Name  Average User Rating  User Rating Count  Price  \\\n",
       "0         Sudoku                  4.0             3553.0   2.99   \n",
       "1        Reversi                  3.5              284.0   1.99   \n",
       "2        Morocco                  3.0             8376.0   0.00   \n",
       "3  Sudoku (Free)                  3.5           190394.0   0.00   \n",
       "4   Senet Deluxe                  3.5               28.0   2.99   \n",
       "\n",
       "   In-app Purchases                 Developer  Age Rating  Languages   Size  \\\n",
       "0                 0  Mighty Mighty Good Games           4         17  15.85   \n",
       "1                 0          Kiss The Machine           4          1  12.33   \n",
       "2                 0               Bayou Games           4          1   0.67   \n",
       "3                 0  Mighty Mighty Good Games           4         17  21.55   \n",
       "4                 0           RoGame Software           4         15  34.69   \n",
       "\n",
       "  Primary Genre Secondary Genre Original Release Date  \\\n",
       "0         Games        Strategy                  2008   \n",
       "1         Games        Strategy                  2008   \n",
       "2         Games           Board                  2008   \n",
       "3         Games        Strategy                  2008   \n",
       "4         Games        Strategy                  2008   \n",
       "\n",
       "  Current Version Release Date  FreeToPlay  \n",
       "0                         2017           0  \n",
       "1                         2018           0  \n",
       "2                         2017           1  \n",
       "3                         2017           1  \n",
       "4                         2018           0  "
      ]
     },
     "execution_count": 36,
     "metadata": {},
     "output_type": "execute_result"
    }
   ],
   "source": [
    "games['FreeToPlay'] = temp2\n",
    "games.head()"
   ]
  },
  {
   "cell_type": "markdown",
   "id": "d611cdf2",
   "metadata": {
    "papermill": {
     "duration": 0.090637,
     "end_time": "2021-09-20T01:49:55.976618",
     "exception": false,
     "start_time": "2021-09-20T01:49:55.885981",
     "status": "completed"
    },
    "tags": []
   },
   "source": [
    "## 6. EDA"
   ]
  },
  {
   "cell_type": "code",
   "execution_count": 37,
   "id": "be0b92e8",
   "metadata": {
    "execution": {
     "iopub.execute_input": "2021-09-20T01:49:56.165522Z",
     "iopub.status.busy": "2021-09-20T01:49:56.164542Z",
     "iopub.status.idle": "2021-09-20T01:49:56.176754Z",
     "shell.execute_reply": "2021-09-20T01:49:56.176229Z",
     "shell.execute_reply.started": "2021-09-20T01:35:43.631337Z"
    },
    "papermill": {
     "duration": 0.107423,
     "end_time": "2021-09-20T01:49:56.176900",
     "exception": false,
     "start_time": "2021-09-20T01:49:56.069477",
     "status": "completed"
    },
    "tags": []
   },
   "outputs": [],
   "source": [
    "#games.columns.values\n",
    "variables = ['Name', 'Average User Rating', 'User Rating Count', 'Price',\n",
    "       'In-app Purchases', 'Developer', 'Age Rating', 'Languages', 'Size',\n",
    "       'Primary Genre', 'Secondary Genre', 'Original Release Date',\n",
    "       'Current Version Release Date']\n",
    "\n",
    "numerical = games.select_dtypes(exclude=['object']).columns\n",
    "categorical = games.select_dtypes(include=['object']).columns\n",
    "\n",
    "Y = games['Average User Rating']"
   ]
  },
  {
   "cell_type": "code",
   "execution_count": 38,
   "id": "95ab9d1e",
   "metadata": {
    "execution": {
     "iopub.execute_input": "2021-09-20T01:49:56.371450Z",
     "iopub.status.busy": "2021-09-20T01:49:56.369170Z",
     "iopub.status.idle": "2021-09-20T01:49:56.405328Z",
     "shell.execute_reply": "2021-09-20T01:49:56.404757Z",
     "shell.execute_reply.started": "2021-09-20T01:35:43.650785Z"
    },
    "papermill": {
     "duration": 0.136175,
     "end_time": "2021-09-20T01:49:56.405474",
     "exception": false,
     "start_time": "2021-09-20T01:49:56.269299",
     "status": "completed"
    },
    "tags": []
   },
   "outputs": [],
   "source": [
    "#in app purchase average\n",
    "b = []\n",
    "for x,y in games.groupby('In-app Purchases')[['Average User Rating']].mean().sort_values(by = ['Average User Rating'], ascending = False).iteritems():\n",
    "    for w,z in y.iteritems():\n",
    "        b.append(z)\n",
    "        \n",
    "        \n",
    "temp = []\n",
    "for x in games['Price']:\n",
    "    if x == 0.0:\n",
    "        temp.append(0)\n",
    "    else:\n",
    "        temp.append(1) \n",
    "        \n",
    "#paid average              \n",
    "d = []\n",
    "for x,y in games.groupby(temp)[['Average User Rating']].mean().sort_values(by = ['Average User Rating'], ascending = False).iteritems():\n",
    "    for w,z in y.iteritems():\n",
    "        d.append(z) \n",
    "\n",
    "#freetoplay average\n",
    "f = []\n",
    "for x,y in games.groupby('FreeToPlay')[['Average User Rating']].mean().sort_values(by = ['Average User Rating'], ascending = False).iteritems():\n",
    "    for w,z in y.iteritems():\n",
    "        f.append(z)"
   ]
  },
  {
   "cell_type": "markdown",
   "id": "f2f66d22",
   "metadata": {
    "papermill": {
     "duration": 0.090805,
     "end_time": "2021-09-20T01:49:56.586963",
     "exception": false,
     "start_time": "2021-09-20T01:49:56.496158",
     "status": "completed"
    },
    "tags": []
   },
   "source": [
    "### In-app purchase games vs paid games vs free to play"
   ]
  },
  {
   "cell_type": "code",
   "execution_count": 39,
   "id": "1c373681",
   "metadata": {
    "execution": {
     "iopub.execute_input": "2021-09-20T01:49:56.777361Z",
     "iopub.status.busy": "2021-09-20T01:49:56.776678Z",
     "iopub.status.idle": "2021-09-20T01:49:56.860560Z",
     "shell.execute_reply": "2021-09-20T01:49:56.860079Z",
     "shell.execute_reply.started": "2021-09-20T01:35:43.695051Z"
    },
    "papermill": {
     "duration": 0.182359,
     "end_time": "2021-09-20T01:49:56.860699",
     "exception": false,
     "start_time": "2021-09-20T01:49:56.678340",
     "status": "completed"
    },
    "tags": []
   },
   "outputs": [
    {
     "data": {
      "text/html": [
       "<div>                            <div id=\"9e95e0f9-612f-4cba-ae7e-abd27016f07e\" class=\"plotly-graph-div\" style=\"height:525px; width:100%;\"></div>            <script type=\"text/javascript\">                require([\"plotly\"], function(Plotly) {                    window.PLOTLYENV=window.PLOTLYENV || {};                                    if (document.getElementById(\"9e95e0f9-612f-4cba-ae7e-abd27016f07e\")) {                    Plotly.newPlot(                        \"9e95e0f9-612f-4cba-ae7e-abd27016f07e\",                        [{\"name\":\"Price\",\"text\":[\"4.289795652739815\",\"4.280584626488633\",\"4.325133165124755\"],\"type\":\"bar\",\"x\":[\"Has In-app purchases\",\"Pay to download\",\"Free to play\"],\"y\":[4.289795652739815,4.280584626488633,4.325133165124755]}],                        {\"barmode\":\"relative\",\"font\":{\"family\":\"Courier New\"},\"hoverlabel\":{\"font\":{\"family\":\"sans-serif\",\"size\":25}},\"template\":{\"data\":{\"bar\":[{\"error_x\":{\"color\":\"#f2f5fa\"},\"error_y\":{\"color\":\"#f2f5fa\"},\"marker\":{\"line\":{\"color\":\"rgb(17,17,17)\",\"width\":0.5},\"pattern\":{\"fillmode\":\"overlay\",\"size\":10,\"solidity\":0.2}},\"type\":\"bar\"}],\"barpolar\":[{\"marker\":{\"line\":{\"color\":\"rgb(17,17,17)\",\"width\":0.5},\"pattern\":{\"fillmode\":\"overlay\",\"size\":10,\"solidity\":0.2}},\"type\":\"barpolar\"}],\"carpet\":[{\"aaxis\":{\"endlinecolor\":\"#A2B1C6\",\"gridcolor\":\"#506784\",\"linecolor\":\"#506784\",\"minorgridcolor\":\"#506784\",\"startlinecolor\":\"#A2B1C6\"},\"baxis\":{\"endlinecolor\":\"#A2B1C6\",\"gridcolor\":\"#506784\",\"linecolor\":\"#506784\",\"minorgridcolor\":\"#506784\",\"startlinecolor\":\"#A2B1C6\"},\"type\":\"carpet\"}],\"choropleth\":[{\"colorbar\":{\"outlinewidth\":0,\"ticks\":\"\"},\"type\":\"choropleth\"}],\"contour\":[{\"colorbar\":{\"outlinewidth\":0,\"ticks\":\"\"},\"colorscale\":[[0.0,\"#0d0887\"],[0.1111111111111111,\"#46039f\"],[0.2222222222222222,\"#7201a8\"],[0.3333333333333333,\"#9c179e\"],[0.4444444444444444,\"#bd3786\"],[0.5555555555555556,\"#d8576b\"],[0.6666666666666666,\"#ed7953\"],[0.7777777777777778,\"#fb9f3a\"],[0.8888888888888888,\"#fdca26\"],[1.0,\"#f0f921\"]],\"type\":\"contour\"}],\"contourcarpet\":[{\"colorbar\":{\"outlinewidth\":0,\"ticks\":\"\"},\"type\":\"contourcarpet\"}],\"heatmap\":[{\"colorbar\":{\"outlinewidth\":0,\"ticks\":\"\"},\"colorscale\":[[0.0,\"#0d0887\"],[0.1111111111111111,\"#46039f\"],[0.2222222222222222,\"#7201a8\"],[0.3333333333333333,\"#9c179e\"],[0.4444444444444444,\"#bd3786\"],[0.5555555555555556,\"#d8576b\"],[0.6666666666666666,\"#ed7953\"],[0.7777777777777778,\"#fb9f3a\"],[0.8888888888888888,\"#fdca26\"],[1.0,\"#f0f921\"]],\"type\":\"heatmap\"}],\"heatmapgl\":[{\"colorbar\":{\"outlinewidth\":0,\"ticks\":\"\"},\"colorscale\":[[0.0,\"#0d0887\"],[0.1111111111111111,\"#46039f\"],[0.2222222222222222,\"#7201a8\"],[0.3333333333333333,\"#9c179e\"],[0.4444444444444444,\"#bd3786\"],[0.5555555555555556,\"#d8576b\"],[0.6666666666666666,\"#ed7953\"],[0.7777777777777778,\"#fb9f3a\"],[0.8888888888888888,\"#fdca26\"],[1.0,\"#f0f921\"]],\"type\":\"heatmapgl\"}],\"histogram\":[{\"marker\":{\"pattern\":{\"fillmode\":\"overlay\",\"size\":10,\"solidity\":0.2}},\"type\":\"histogram\"}],\"histogram2d\":[{\"colorbar\":{\"outlinewidth\":0,\"ticks\":\"\"},\"colorscale\":[[0.0,\"#0d0887\"],[0.1111111111111111,\"#46039f\"],[0.2222222222222222,\"#7201a8\"],[0.3333333333333333,\"#9c179e\"],[0.4444444444444444,\"#bd3786\"],[0.5555555555555556,\"#d8576b\"],[0.6666666666666666,\"#ed7953\"],[0.7777777777777778,\"#fb9f3a\"],[0.8888888888888888,\"#fdca26\"],[1.0,\"#f0f921\"]],\"type\":\"histogram2d\"}],\"histogram2dcontour\":[{\"colorbar\":{\"outlinewidth\":0,\"ticks\":\"\"},\"colorscale\":[[0.0,\"#0d0887\"],[0.1111111111111111,\"#46039f\"],[0.2222222222222222,\"#7201a8\"],[0.3333333333333333,\"#9c179e\"],[0.4444444444444444,\"#bd3786\"],[0.5555555555555556,\"#d8576b\"],[0.6666666666666666,\"#ed7953\"],[0.7777777777777778,\"#fb9f3a\"],[0.8888888888888888,\"#fdca26\"],[1.0,\"#f0f921\"]],\"type\":\"histogram2dcontour\"}],\"mesh3d\":[{\"colorbar\":{\"outlinewidth\":0,\"ticks\":\"\"},\"type\":\"mesh3d\"}],\"parcoords\":[{\"line\":{\"colorbar\":{\"outlinewidth\":0,\"ticks\":\"\"}},\"type\":\"parcoords\"}],\"pie\":[{\"automargin\":true,\"type\":\"pie\"}],\"scatter\":[{\"marker\":{\"line\":{\"color\":\"#283442\"}},\"type\":\"scatter\"}],\"scatter3d\":[{\"line\":{\"colorbar\":{\"outlinewidth\":0,\"ticks\":\"\"}},\"marker\":{\"colorbar\":{\"outlinewidth\":0,\"ticks\":\"\"}},\"type\":\"scatter3d\"}],\"scattercarpet\":[{\"marker\":{\"colorbar\":{\"outlinewidth\":0,\"ticks\":\"\"}},\"type\":\"scattercarpet\"}],\"scattergeo\":[{\"marker\":{\"colorbar\":{\"outlinewidth\":0,\"ticks\":\"\"}},\"type\":\"scattergeo\"}],\"scattergl\":[{\"marker\":{\"line\":{\"color\":\"#283442\"}},\"type\":\"scattergl\"}],\"scattermapbox\":[{\"marker\":{\"colorbar\":{\"outlinewidth\":0,\"ticks\":\"\"}},\"type\":\"scattermapbox\"}],\"scatterpolar\":[{\"marker\":{\"colorbar\":{\"outlinewidth\":0,\"ticks\":\"\"}},\"type\":\"scatterpolar\"}],\"scatterpolargl\":[{\"marker\":{\"colorbar\":{\"outlinewidth\":0,\"ticks\":\"\"}},\"type\":\"scatterpolargl\"}],\"scatterternary\":[{\"marker\":{\"colorbar\":{\"outlinewidth\":0,\"ticks\":\"\"}},\"type\":\"scatterternary\"}],\"surface\":[{\"colorbar\":{\"outlinewidth\":0,\"ticks\":\"\"},\"colorscale\":[[0.0,\"#0d0887\"],[0.1111111111111111,\"#46039f\"],[0.2222222222222222,\"#7201a8\"],[0.3333333333333333,\"#9c179e\"],[0.4444444444444444,\"#bd3786\"],[0.5555555555555556,\"#d8576b\"],[0.6666666666666666,\"#ed7953\"],[0.7777777777777778,\"#fb9f3a\"],[0.8888888888888888,\"#fdca26\"],[1.0,\"#f0f921\"]],\"type\":\"surface\"}],\"table\":[{\"cells\":{\"fill\":{\"color\":\"#506784\"},\"line\":{\"color\":\"rgb(17,17,17)\"}},\"header\":{\"fill\":{\"color\":\"#2a3f5f\"},\"line\":{\"color\":\"rgb(17,17,17)\"}},\"type\":\"table\"}]},\"layout\":{\"annotationdefaults\":{\"arrowcolor\":\"#f2f5fa\",\"arrowhead\":0,\"arrowwidth\":1},\"autotypenumbers\":\"strict\",\"coloraxis\":{\"colorbar\":{\"outlinewidth\":0,\"ticks\":\"\"}},\"colorscale\":{\"diverging\":[[0,\"#8e0152\"],[0.1,\"#c51b7d\"],[0.2,\"#de77ae\"],[0.3,\"#f1b6da\"],[0.4,\"#fde0ef\"],[0.5,\"#f7f7f7\"],[0.6,\"#e6f5d0\"],[0.7,\"#b8e186\"],[0.8,\"#7fbc41\"],[0.9,\"#4d9221\"],[1,\"#276419\"]],\"sequential\":[[0.0,\"#0d0887\"],[0.1111111111111111,\"#46039f\"],[0.2222222222222222,\"#7201a8\"],[0.3333333333333333,\"#9c179e\"],[0.4444444444444444,\"#bd3786\"],[0.5555555555555556,\"#d8576b\"],[0.6666666666666666,\"#ed7953\"],[0.7777777777777778,\"#fb9f3a\"],[0.8888888888888888,\"#fdca26\"],[1.0,\"#f0f921\"]],\"sequentialminus\":[[0.0,\"#0d0887\"],[0.1111111111111111,\"#46039f\"],[0.2222222222222222,\"#7201a8\"],[0.3333333333333333,\"#9c179e\"],[0.4444444444444444,\"#bd3786\"],[0.5555555555555556,\"#d8576b\"],[0.6666666666666666,\"#ed7953\"],[0.7777777777777778,\"#fb9f3a\"],[0.8888888888888888,\"#fdca26\"],[1.0,\"#f0f921\"]]},\"colorway\":[\"#636efa\",\"#EF553B\",\"#00cc96\",\"#ab63fa\",\"#FFA15A\",\"#19d3f3\",\"#FF6692\",\"#B6E880\",\"#FF97FF\",\"#FECB52\"],\"font\":{\"color\":\"#f2f5fa\"},\"geo\":{\"bgcolor\":\"rgb(17,17,17)\",\"lakecolor\":\"rgb(17,17,17)\",\"landcolor\":\"rgb(17,17,17)\",\"showlakes\":true,\"showland\":true,\"subunitcolor\":\"#506784\"},\"hoverlabel\":{\"align\":\"left\"},\"hovermode\":\"closest\",\"mapbox\":{\"style\":\"dark\"},\"paper_bgcolor\":\"rgb(17,17,17)\",\"plot_bgcolor\":\"rgb(17,17,17)\",\"polar\":{\"angularaxis\":{\"gridcolor\":\"#506784\",\"linecolor\":\"#506784\",\"ticks\":\"\"},\"bgcolor\":\"rgb(17,17,17)\",\"radialaxis\":{\"gridcolor\":\"#506784\",\"linecolor\":\"#506784\",\"ticks\":\"\"}},\"scene\":{\"xaxis\":{\"backgroundcolor\":\"rgb(17,17,17)\",\"gridcolor\":\"#506784\",\"gridwidth\":2,\"linecolor\":\"#506784\",\"showbackground\":true,\"ticks\":\"\",\"zerolinecolor\":\"#C8D4E3\"},\"yaxis\":{\"backgroundcolor\":\"rgb(17,17,17)\",\"gridcolor\":\"#506784\",\"gridwidth\":2,\"linecolor\":\"#506784\",\"showbackground\":true,\"ticks\":\"\",\"zerolinecolor\":\"#C8D4E3\"},\"zaxis\":{\"backgroundcolor\":\"rgb(17,17,17)\",\"gridcolor\":\"#506784\",\"gridwidth\":2,\"linecolor\":\"#506784\",\"showbackground\":true,\"ticks\":\"\",\"zerolinecolor\":\"#C8D4E3\"}},\"shapedefaults\":{\"line\":{\"color\":\"#f2f5fa\"}},\"sliderdefaults\":{\"bgcolor\":\"#C8D4E3\",\"bordercolor\":\"rgb(17,17,17)\",\"borderwidth\":1,\"tickwidth\":0},\"ternary\":{\"aaxis\":{\"gridcolor\":\"#506784\",\"linecolor\":\"#506784\",\"ticks\":\"\"},\"baxis\":{\"gridcolor\":\"#506784\",\"linecolor\":\"#506784\",\"ticks\":\"\"},\"bgcolor\":\"rgb(17,17,17)\",\"caxis\":{\"gridcolor\":\"#506784\",\"linecolor\":\"#506784\",\"ticks\":\"\"}},\"title\":{\"x\":0.05},\"updatemenudefaults\":{\"bgcolor\":\"#506784\",\"borderwidth\":0},\"xaxis\":{\"automargin\":true,\"gridcolor\":\"#283442\",\"linecolor\":\"#506784\",\"ticks\":\"\",\"title\":{\"standoff\":15},\"zerolinecolor\":\"#283442\",\"zerolinewidth\":2},\"yaxis\":{\"automargin\":true,\"gridcolor\":\"#283442\",\"linecolor\":\"#506784\",\"ticks\":\"\",\"title\":{\"standoff\":15},\"zerolinecolor\":\"#283442\",\"zerolinewidth\":2}}},\"title\":{\"text\":\"Average user rating per app payment type\"},\"xaxis\":{\"tickfont\":{\"size\":20},\"title\":{\"text\":\"App payment type\"}},\"yaxis\":{\"title\":{\"text\":\"Average user rating\"}}},                        {\"responsive\": true}                    ).then(function(){\n",
       "                            \n",
       "var gd = document.getElementById('9e95e0f9-612f-4cba-ae7e-abd27016f07e');\n",
       "var x = new MutationObserver(function (mutations, observer) {{\n",
       "        var display = window.getComputedStyle(gd).display;\n",
       "        if (!display || display === 'none') {{\n",
       "            console.log([gd, 'removed!']);\n",
       "            Plotly.purge(gd);\n",
       "            observer.disconnect();\n",
       "        }}\n",
       "}});\n",
       "\n",
       "// Listen for the removal of the full notebook cells\n",
       "var notebookContainer = gd.closest('#notebook-container');\n",
       "if (notebookContainer) {{\n",
       "    x.observe(notebookContainer, {childList: true});\n",
       "}}\n",
       "\n",
       "// Listen for the clearing of the current output cell\n",
       "var outputEl = gd.closest('.output');\n",
       "if (outputEl) {{\n",
       "    x.observe(outputEl, {childList: true});\n",
       "}}\n",
       "\n",
       "                        })                };                });            </script>        </div>"
      ]
     },
     "metadata": {},
     "output_type": "display_data"
    }
   ],
   "source": [
    "fig = go.Figure(data=[\n",
    "    go.Bar(name='Price',x =['Has In-app purchases','Pay to download','Free to play'] ,y = (b[1],d[1],f[0]), text=(b[1],d[1],f[0]))])\n",
    "fig.update_layout(hoverlabel=dict(font=dict(family='sans-serif', size=25)),barmode='relative', template='plotly_dark', title_text='Average user rating per app payment type', font_family=\"Courier New\")\n",
    "fig.update_yaxes(title_text='Average user rating')\n",
    "fig.update_xaxes(title_text='App payment type',tickfont_size=20)\n",
    "fig.show()   "
   ]
  },
  {
   "cell_type": "markdown",
   "id": "ad87ff0b",
   "metadata": {
    "papermill": {
     "duration": 0.091301,
     "end_time": "2021-09-20T01:49:57.043851",
     "exception": false,
     "start_time": "2021-09-20T01:49:56.952550",
     "status": "completed"
    },
    "tags": []
   },
   "source": [
    "**Conclusion:** Whether an app has in-app purchases, costs money to download or is totally free to play, there seems to be no impact on the games rating. However, free to play games has a very slight advantage over the other 2.\n"
   ]
  },
  {
   "cell_type": "markdown",
   "id": "69c83008",
   "metadata": {
    "papermill": {
     "duration": 0.090795,
     "end_time": "2021-09-20T01:49:57.226214",
     "exception": false,
     "start_time": "2021-09-20T01:49:57.135419",
     "status": "completed"
    },
    "tags": []
   },
   "source": [
    "### What genre and subgenres are the most popular? "
   ]
  },
  {
   "cell_type": "code",
   "execution_count": 40,
   "id": "98da0662",
   "metadata": {
    "execution": {
     "iopub.execute_input": "2021-09-20T01:49:57.420171Z",
     "iopub.status.busy": "2021-09-20T01:49:57.419304Z",
     "iopub.status.idle": "2021-09-20T01:49:57.455565Z",
     "shell.execute_reply": "2021-09-20T01:49:57.456006Z",
     "shell.execute_reply.started": "2021-09-20T01:35:43.790175Z"
    },
    "papermill": {
     "duration": 0.138863,
     "end_time": "2021-09-20T01:49:57.456211",
     "exception": false,
     "start_time": "2021-09-20T01:49:57.317348",
     "status": "completed"
    },
    "tags": []
   },
   "outputs": [
    {
     "data": {
      "text/html": [
       "<div>                            <div id=\"6c48f53b-b3d4-4cb6-b36c-bd2dc9b92b43\" class=\"plotly-graph-div\" style=\"height:525px; width:100%;\"></div>            <script type=\"text/javascript\">                require([\"plotly\"], function(Plotly) {                    window.PLOTLYENV=window.PLOTLYENV || {};                                    if (document.getElementById(\"6c48f53b-b3d4-4cb6-b36c-bd2dc9b92b43\")) {                    Plotly.newPlot(                        \"6c48f53b-b3d4-4cb6-b36c-bd2dc9b92b43\",                        [{\"hoverinfo\":\"percent\",\"labels\":[\"Games\",\"Education\",\"Entertainment\",\"Utilities\",\"Sports\",\"Reference\",\"Stickers\",\"Finance\",\"Business\",\"Productivity\",\"Lifestyle\",\"Books\",\"Social Networking\",\"News\",\"Health & Fitness\",\"Food & Drink\",\"Music\",\"Navigation\",\"Medical\",\"Travel\",\"Shopping\"],\"textfont\":{\"size\":20},\"textinfo\":\"label+percent\",\"textposition\":\"inside\",\"type\":\"pie\",\"values\":[16286,222,198,77,60,32,29,18,16,15,10,9,9,7,5,4,3,3,2,1,1]}],                        {\"annotations\":[{\"bgcolor\":\"white\",\"font\":{\"size\":12},\"showarrow\":false,\"text\":\"Primary Genres\"}],\"hoverlabel\":{\"font\":{\"family\":\"sans-serif\",\"size\":25}},\"template\":{\"data\":{\"bar\":[{\"error_x\":{\"color\":\"#2a3f5f\"},\"error_y\":{\"color\":\"#2a3f5f\"},\"marker\":{\"line\":{\"color\":\"#E5ECF6\",\"width\":0.5},\"pattern\":{\"fillmode\":\"overlay\",\"size\":10,\"solidity\":0.2}},\"type\":\"bar\"}],\"barpolar\":[{\"marker\":{\"line\":{\"color\":\"#E5ECF6\",\"width\":0.5},\"pattern\":{\"fillmode\":\"overlay\",\"size\":10,\"solidity\":0.2}},\"type\":\"barpolar\"}],\"carpet\":[{\"aaxis\":{\"endlinecolor\":\"#2a3f5f\",\"gridcolor\":\"white\",\"linecolor\":\"white\",\"minorgridcolor\":\"white\",\"startlinecolor\":\"#2a3f5f\"},\"baxis\":{\"endlinecolor\":\"#2a3f5f\",\"gridcolor\":\"white\",\"linecolor\":\"white\",\"minorgridcolor\":\"white\",\"startlinecolor\":\"#2a3f5f\"},\"type\":\"carpet\"}],\"choropleth\":[{\"colorbar\":{\"outlinewidth\":0,\"ticks\":\"\"},\"type\":\"choropleth\"}],\"contour\":[{\"colorbar\":{\"outlinewidth\":0,\"ticks\":\"\"},\"colorscale\":[[0.0,\"#0d0887\"],[0.1111111111111111,\"#46039f\"],[0.2222222222222222,\"#7201a8\"],[0.3333333333333333,\"#9c179e\"],[0.4444444444444444,\"#bd3786\"],[0.5555555555555556,\"#d8576b\"],[0.6666666666666666,\"#ed7953\"],[0.7777777777777778,\"#fb9f3a\"],[0.8888888888888888,\"#fdca26\"],[1.0,\"#f0f921\"]],\"type\":\"contour\"}],\"contourcarpet\":[{\"colorbar\":{\"outlinewidth\":0,\"ticks\":\"\"},\"type\":\"contourcarpet\"}],\"heatmap\":[{\"colorbar\":{\"outlinewidth\":0,\"ticks\":\"\"},\"colorscale\":[[0.0,\"#0d0887\"],[0.1111111111111111,\"#46039f\"],[0.2222222222222222,\"#7201a8\"],[0.3333333333333333,\"#9c179e\"],[0.4444444444444444,\"#bd3786\"],[0.5555555555555556,\"#d8576b\"],[0.6666666666666666,\"#ed7953\"],[0.7777777777777778,\"#fb9f3a\"],[0.8888888888888888,\"#fdca26\"],[1.0,\"#f0f921\"]],\"type\":\"heatmap\"}],\"heatmapgl\":[{\"colorbar\":{\"outlinewidth\":0,\"ticks\":\"\"},\"colorscale\":[[0.0,\"#0d0887\"],[0.1111111111111111,\"#46039f\"],[0.2222222222222222,\"#7201a8\"],[0.3333333333333333,\"#9c179e\"],[0.4444444444444444,\"#bd3786\"],[0.5555555555555556,\"#d8576b\"],[0.6666666666666666,\"#ed7953\"],[0.7777777777777778,\"#fb9f3a\"],[0.8888888888888888,\"#fdca26\"],[1.0,\"#f0f921\"]],\"type\":\"heatmapgl\"}],\"histogram\":[{\"marker\":{\"pattern\":{\"fillmode\":\"overlay\",\"size\":10,\"solidity\":0.2}},\"type\":\"histogram\"}],\"histogram2d\":[{\"colorbar\":{\"outlinewidth\":0,\"ticks\":\"\"},\"colorscale\":[[0.0,\"#0d0887\"],[0.1111111111111111,\"#46039f\"],[0.2222222222222222,\"#7201a8\"],[0.3333333333333333,\"#9c179e\"],[0.4444444444444444,\"#bd3786\"],[0.5555555555555556,\"#d8576b\"],[0.6666666666666666,\"#ed7953\"],[0.7777777777777778,\"#fb9f3a\"],[0.8888888888888888,\"#fdca26\"],[1.0,\"#f0f921\"]],\"type\":\"histogram2d\"}],\"histogram2dcontour\":[{\"colorbar\":{\"outlinewidth\":0,\"ticks\":\"\"},\"colorscale\":[[0.0,\"#0d0887\"],[0.1111111111111111,\"#46039f\"],[0.2222222222222222,\"#7201a8\"],[0.3333333333333333,\"#9c179e\"],[0.4444444444444444,\"#bd3786\"],[0.5555555555555556,\"#d8576b\"],[0.6666666666666666,\"#ed7953\"],[0.7777777777777778,\"#fb9f3a\"],[0.8888888888888888,\"#fdca26\"],[1.0,\"#f0f921\"]],\"type\":\"histogram2dcontour\"}],\"mesh3d\":[{\"colorbar\":{\"outlinewidth\":0,\"ticks\":\"\"},\"type\":\"mesh3d\"}],\"parcoords\":[{\"line\":{\"colorbar\":{\"outlinewidth\":0,\"ticks\":\"\"}},\"type\":\"parcoords\"}],\"pie\":[{\"automargin\":true,\"type\":\"pie\"}],\"scatter\":[{\"marker\":{\"colorbar\":{\"outlinewidth\":0,\"ticks\":\"\"}},\"type\":\"scatter\"}],\"scatter3d\":[{\"line\":{\"colorbar\":{\"outlinewidth\":0,\"ticks\":\"\"}},\"marker\":{\"colorbar\":{\"outlinewidth\":0,\"ticks\":\"\"}},\"type\":\"scatter3d\"}],\"scattercarpet\":[{\"marker\":{\"colorbar\":{\"outlinewidth\":0,\"ticks\":\"\"}},\"type\":\"scattercarpet\"}],\"scattergeo\":[{\"marker\":{\"colorbar\":{\"outlinewidth\":0,\"ticks\":\"\"}},\"type\":\"scattergeo\"}],\"scattergl\":[{\"marker\":{\"colorbar\":{\"outlinewidth\":0,\"ticks\":\"\"}},\"type\":\"scattergl\"}],\"scattermapbox\":[{\"marker\":{\"colorbar\":{\"outlinewidth\":0,\"ticks\":\"\"}},\"type\":\"scattermapbox\"}],\"scatterpolar\":[{\"marker\":{\"colorbar\":{\"outlinewidth\":0,\"ticks\":\"\"}},\"type\":\"scatterpolar\"}],\"scatterpolargl\":[{\"marker\":{\"colorbar\":{\"outlinewidth\":0,\"ticks\":\"\"}},\"type\":\"scatterpolargl\"}],\"scatterternary\":[{\"marker\":{\"colorbar\":{\"outlinewidth\":0,\"ticks\":\"\"}},\"type\":\"scatterternary\"}],\"surface\":[{\"colorbar\":{\"outlinewidth\":0,\"ticks\":\"\"},\"colorscale\":[[0.0,\"#0d0887\"],[0.1111111111111111,\"#46039f\"],[0.2222222222222222,\"#7201a8\"],[0.3333333333333333,\"#9c179e\"],[0.4444444444444444,\"#bd3786\"],[0.5555555555555556,\"#d8576b\"],[0.6666666666666666,\"#ed7953\"],[0.7777777777777778,\"#fb9f3a\"],[0.8888888888888888,\"#fdca26\"],[1.0,\"#f0f921\"]],\"type\":\"surface\"}],\"table\":[{\"cells\":{\"fill\":{\"color\":\"#EBF0F8\"},\"line\":{\"color\":\"white\"}},\"header\":{\"fill\":{\"color\":\"#C8D4E3\"},\"line\":{\"color\":\"white\"}},\"type\":\"table\"}]},\"layout\":{\"annotationdefaults\":{\"arrowcolor\":\"#2a3f5f\",\"arrowhead\":0,\"arrowwidth\":1},\"autotypenumbers\":\"strict\",\"coloraxis\":{\"colorbar\":{\"outlinewidth\":0,\"ticks\":\"\"}},\"colorscale\":{\"diverging\":[[0,\"#8e0152\"],[0.1,\"#c51b7d\"],[0.2,\"#de77ae\"],[0.3,\"#f1b6da\"],[0.4,\"#fde0ef\"],[0.5,\"#f7f7f7\"],[0.6,\"#e6f5d0\"],[0.7,\"#b8e186\"],[0.8,\"#7fbc41\"],[0.9,\"#4d9221\"],[1,\"#276419\"]],\"sequential\":[[0.0,\"#0d0887\"],[0.1111111111111111,\"#46039f\"],[0.2222222222222222,\"#7201a8\"],[0.3333333333333333,\"#9c179e\"],[0.4444444444444444,\"#bd3786\"],[0.5555555555555556,\"#d8576b\"],[0.6666666666666666,\"#ed7953\"],[0.7777777777777778,\"#fb9f3a\"],[0.8888888888888888,\"#fdca26\"],[1.0,\"#f0f921\"]],\"sequentialminus\":[[0.0,\"#0d0887\"],[0.1111111111111111,\"#46039f\"],[0.2222222222222222,\"#7201a8\"],[0.3333333333333333,\"#9c179e\"],[0.4444444444444444,\"#bd3786\"],[0.5555555555555556,\"#d8576b\"],[0.6666666666666666,\"#ed7953\"],[0.7777777777777778,\"#fb9f3a\"],[0.8888888888888888,\"#fdca26\"],[1.0,\"#f0f921\"]]},\"colorway\":[\"#636efa\",\"#EF553B\",\"#00cc96\",\"#ab63fa\",\"#FFA15A\",\"#19d3f3\",\"#FF6692\",\"#B6E880\",\"#FF97FF\",\"#FECB52\"],\"font\":{\"color\":\"#2a3f5f\"},\"geo\":{\"bgcolor\":\"white\",\"lakecolor\":\"white\",\"landcolor\":\"#E5ECF6\",\"showlakes\":true,\"showland\":true,\"subunitcolor\":\"white\"},\"hoverlabel\":{\"align\":\"left\"},\"hovermode\":\"closest\",\"mapbox\":{\"style\":\"light\"},\"paper_bgcolor\":\"white\",\"plot_bgcolor\":\"#E5ECF6\",\"polar\":{\"angularaxis\":{\"gridcolor\":\"white\",\"linecolor\":\"white\",\"ticks\":\"\"},\"bgcolor\":\"#E5ECF6\",\"radialaxis\":{\"gridcolor\":\"white\",\"linecolor\":\"white\",\"ticks\":\"\"}},\"scene\":{\"xaxis\":{\"backgroundcolor\":\"#E5ECF6\",\"gridcolor\":\"white\",\"gridwidth\":2,\"linecolor\":\"white\",\"showbackground\":true,\"ticks\":\"\",\"zerolinecolor\":\"white\"},\"yaxis\":{\"backgroundcolor\":\"#E5ECF6\",\"gridcolor\":\"white\",\"gridwidth\":2,\"linecolor\":\"white\",\"showbackground\":true,\"ticks\":\"\",\"zerolinecolor\":\"white\"},\"zaxis\":{\"backgroundcolor\":\"#E5ECF6\",\"gridcolor\":\"white\",\"gridwidth\":2,\"linecolor\":\"white\",\"showbackground\":true,\"ticks\":\"\",\"zerolinecolor\":\"white\"}},\"shapedefaults\":{\"line\":{\"color\":\"#2a3f5f\"}},\"ternary\":{\"aaxis\":{\"gridcolor\":\"white\",\"linecolor\":\"white\",\"ticks\":\"\"},\"baxis\":{\"gridcolor\":\"white\",\"linecolor\":\"white\",\"ticks\":\"\"},\"bgcolor\":\"#E5ECF6\",\"caxis\":{\"gridcolor\":\"white\",\"linecolor\":\"white\",\"ticks\":\"\"}},\"title\":{\"x\":0.05},\"xaxis\":{\"automargin\":true,\"gridcolor\":\"white\",\"linecolor\":\"white\",\"ticks\":\"\",\"title\":{\"standoff\":15},\"zerolinecolor\":\"white\",\"zerolinewidth\":2},\"yaxis\":{\"automargin\":true,\"gridcolor\":\"white\",\"linecolor\":\"white\",\"ticks\":\"\",\"title\":{\"standoff\":15},\"zerolinecolor\":\"white\",\"zerolinewidth\":2}}},\"title\":{\"text\":\"Percent of Primary Genres in our dataset\"}},                        {\"responsive\": true}                    ).then(function(){\n",
       "                            \n",
       "var gd = document.getElementById('6c48f53b-b3d4-4cb6-b36c-bd2dc9b92b43');\n",
       "var x = new MutationObserver(function (mutations, observer) {{\n",
       "        var display = window.getComputedStyle(gd).display;\n",
       "        if (!display || display === 'none') {{\n",
       "            console.log([gd, 'removed!']);\n",
       "            Plotly.purge(gd);\n",
       "            observer.disconnect();\n",
       "        }}\n",
       "}});\n",
       "\n",
       "// Listen for the removal of the full notebook cells\n",
       "var notebookContainer = gd.closest('#notebook-container');\n",
       "if (notebookContainer) {{\n",
       "    x.observe(notebookContainer, {childList: true});\n",
       "}}\n",
       "\n",
       "// Listen for the clearing of the current output cell\n",
       "var outputEl = gd.closest('.output');\n",
       "if (outputEl) {{\n",
       "    x.observe(outputEl, {childList: true});\n",
       "}}\n",
       "\n",
       "                        })                };                });            </script>        </div>"
      ]
     },
     "metadata": {},
     "output_type": "display_data"
    }
   ],
   "source": [
    "genre_count = games['Primary Genre'].value_counts().sort_values(ascending=False)\n",
    "fig = go.Figure(data=[go.Pie(labels=genre_count.index, values=genre_count.values)])\n",
    "fig.update_layout(hoverlabel=dict(font=dict(family='sans-serif', size=25)),\n",
    "    title_text=\"Percent of Primary Genres in our dataset\", annotations=[dict(text='Primary Genres',bgcolor='white', font_size=12, showarrow=False)])\n",
    "fig.update_traces(hoverinfo='percent', textinfo='label+percent', textfont_size=20,textposition='inside')\n",
    "fig.show()"
   ]
  },
  {
   "cell_type": "code",
   "execution_count": 41,
   "id": "3647813d",
   "metadata": {
    "execution": {
     "iopub.execute_input": "2021-09-20T01:49:57.661938Z",
     "iopub.status.busy": "2021-09-20T01:49:57.661003Z",
     "iopub.status.idle": "2021-09-20T01:49:57.664497Z",
     "shell.execute_reply": "2021-09-20T01:49:57.664978Z",
     "shell.execute_reply.started": "2021-09-20T01:35:43.845352Z"
    },
    "papermill": {
     "duration": 0.117159,
     "end_time": "2021-09-20T01:49:57.665159",
     "exception": false,
     "start_time": "2021-09-20T01:49:57.548000",
     "status": "completed"
    },
    "tags": []
   },
   "outputs": [
    {
     "data": {
      "text/html": [
       "<div>                            <div id=\"b1da2f63-b11c-456f-98ba-0d1487e1df79\" class=\"plotly-graph-div\" style=\"height:525px; width:100%;\"></div>            <script type=\"text/javascript\">                require([\"plotly\"], function(Plotly) {                    window.PLOTLYENV=window.PLOTLYENV || {};                                    if (document.getElementById(\"b1da2f63-b11c-456f-98ba-0d1487e1df79\")) {                    Plotly.newPlot(                        \"b1da2f63-b11c-456f-98ba-0d1487e1df79\",                        [{\"hoverinfo\":\"percent\",\"labels\":[\" Strategy\",\" Entertainment\",\" Puzzle\",\" Simulation\",\" Action\",\" Board\",\" Casual\",\" Role Playing\",\" Adventure\",\" Family\",\" Games\",\" Card\",\" Sports\",\" Education\",\" Trivia\",\" Lifestyle\",\" Word\",\" Racing\",\" Social Networking\",\" Utilities\",\" Music\",\" Travel\",\" Casino\",\" Productivity\",\" Reference\",\" Finance\",\" Food & Drink\",\" Health & Fitness\",\" Books\",\" Business\",\" Photo & Video\",\" Navigation\",\" Medical\",\" News\",\" Emoji & Expressions\",\" Places & Objects\",\" Gaming\",\" Sports & Activities\",\" Stickers\",\" Art\",\" Magazines & Newspapers\",\" Animals & Nature\"],\"textfont\":{\"size\":35},\"textinfo\":\"percent\",\"textposition\":\"inside\",\"type\":\"pie\",\"values\":[7134,2567,1517,906,815,695,661,480,348,285,261,257,237,234,112,76,58,56,52,34,33,30,28,20,17,16,15,13,10,8,7,5,4,3,3,3,2,1,1,1,1,1]}],                        {\"annotations\":[{\"bgcolor\":\"white\",\"font\":{\"size\":6},\"showarrow\":false,\"text\":\"Secondary Genres\"}],\"hoverlabel\":{\"font\":{\"family\":\"sans-serif\",\"size\":25}},\"template\":{\"data\":{\"bar\":[{\"error_x\":{\"color\":\"#2a3f5f\"},\"error_y\":{\"color\":\"#2a3f5f\"},\"marker\":{\"line\":{\"color\":\"#E5ECF6\",\"width\":0.5},\"pattern\":{\"fillmode\":\"overlay\",\"size\":10,\"solidity\":0.2}},\"type\":\"bar\"}],\"barpolar\":[{\"marker\":{\"line\":{\"color\":\"#E5ECF6\",\"width\":0.5},\"pattern\":{\"fillmode\":\"overlay\",\"size\":10,\"solidity\":0.2}},\"type\":\"barpolar\"}],\"carpet\":[{\"aaxis\":{\"endlinecolor\":\"#2a3f5f\",\"gridcolor\":\"white\",\"linecolor\":\"white\",\"minorgridcolor\":\"white\",\"startlinecolor\":\"#2a3f5f\"},\"baxis\":{\"endlinecolor\":\"#2a3f5f\",\"gridcolor\":\"white\",\"linecolor\":\"white\",\"minorgridcolor\":\"white\",\"startlinecolor\":\"#2a3f5f\"},\"type\":\"carpet\"}],\"choropleth\":[{\"colorbar\":{\"outlinewidth\":0,\"ticks\":\"\"},\"type\":\"choropleth\"}],\"contour\":[{\"colorbar\":{\"outlinewidth\":0,\"ticks\":\"\"},\"colorscale\":[[0.0,\"#0d0887\"],[0.1111111111111111,\"#46039f\"],[0.2222222222222222,\"#7201a8\"],[0.3333333333333333,\"#9c179e\"],[0.4444444444444444,\"#bd3786\"],[0.5555555555555556,\"#d8576b\"],[0.6666666666666666,\"#ed7953\"],[0.7777777777777778,\"#fb9f3a\"],[0.8888888888888888,\"#fdca26\"],[1.0,\"#f0f921\"]],\"type\":\"contour\"}],\"contourcarpet\":[{\"colorbar\":{\"outlinewidth\":0,\"ticks\":\"\"},\"type\":\"contourcarpet\"}],\"heatmap\":[{\"colorbar\":{\"outlinewidth\":0,\"ticks\":\"\"},\"colorscale\":[[0.0,\"#0d0887\"],[0.1111111111111111,\"#46039f\"],[0.2222222222222222,\"#7201a8\"],[0.3333333333333333,\"#9c179e\"],[0.4444444444444444,\"#bd3786\"],[0.5555555555555556,\"#d8576b\"],[0.6666666666666666,\"#ed7953\"],[0.7777777777777778,\"#fb9f3a\"],[0.8888888888888888,\"#fdca26\"],[1.0,\"#f0f921\"]],\"type\":\"heatmap\"}],\"heatmapgl\":[{\"colorbar\":{\"outlinewidth\":0,\"ticks\":\"\"},\"colorscale\":[[0.0,\"#0d0887\"],[0.1111111111111111,\"#46039f\"],[0.2222222222222222,\"#7201a8\"],[0.3333333333333333,\"#9c179e\"],[0.4444444444444444,\"#bd3786\"],[0.5555555555555556,\"#d8576b\"],[0.6666666666666666,\"#ed7953\"],[0.7777777777777778,\"#fb9f3a\"],[0.8888888888888888,\"#fdca26\"],[1.0,\"#f0f921\"]],\"type\":\"heatmapgl\"}],\"histogram\":[{\"marker\":{\"pattern\":{\"fillmode\":\"overlay\",\"size\":10,\"solidity\":0.2}},\"type\":\"histogram\"}],\"histogram2d\":[{\"colorbar\":{\"outlinewidth\":0,\"ticks\":\"\"},\"colorscale\":[[0.0,\"#0d0887\"],[0.1111111111111111,\"#46039f\"],[0.2222222222222222,\"#7201a8\"],[0.3333333333333333,\"#9c179e\"],[0.4444444444444444,\"#bd3786\"],[0.5555555555555556,\"#d8576b\"],[0.6666666666666666,\"#ed7953\"],[0.7777777777777778,\"#fb9f3a\"],[0.8888888888888888,\"#fdca26\"],[1.0,\"#f0f921\"]],\"type\":\"histogram2d\"}],\"histogram2dcontour\":[{\"colorbar\":{\"outlinewidth\":0,\"ticks\":\"\"},\"colorscale\":[[0.0,\"#0d0887\"],[0.1111111111111111,\"#46039f\"],[0.2222222222222222,\"#7201a8\"],[0.3333333333333333,\"#9c179e\"],[0.4444444444444444,\"#bd3786\"],[0.5555555555555556,\"#d8576b\"],[0.6666666666666666,\"#ed7953\"],[0.7777777777777778,\"#fb9f3a\"],[0.8888888888888888,\"#fdca26\"],[1.0,\"#f0f921\"]],\"type\":\"histogram2dcontour\"}],\"mesh3d\":[{\"colorbar\":{\"outlinewidth\":0,\"ticks\":\"\"},\"type\":\"mesh3d\"}],\"parcoords\":[{\"line\":{\"colorbar\":{\"outlinewidth\":0,\"ticks\":\"\"}},\"type\":\"parcoords\"}],\"pie\":[{\"automargin\":true,\"type\":\"pie\"}],\"scatter\":[{\"marker\":{\"colorbar\":{\"outlinewidth\":0,\"ticks\":\"\"}},\"type\":\"scatter\"}],\"scatter3d\":[{\"line\":{\"colorbar\":{\"outlinewidth\":0,\"ticks\":\"\"}},\"marker\":{\"colorbar\":{\"outlinewidth\":0,\"ticks\":\"\"}},\"type\":\"scatter3d\"}],\"scattercarpet\":[{\"marker\":{\"colorbar\":{\"outlinewidth\":0,\"ticks\":\"\"}},\"type\":\"scattercarpet\"}],\"scattergeo\":[{\"marker\":{\"colorbar\":{\"outlinewidth\":0,\"ticks\":\"\"}},\"type\":\"scattergeo\"}],\"scattergl\":[{\"marker\":{\"colorbar\":{\"outlinewidth\":0,\"ticks\":\"\"}},\"type\":\"scattergl\"}],\"scattermapbox\":[{\"marker\":{\"colorbar\":{\"outlinewidth\":0,\"ticks\":\"\"}},\"type\":\"scattermapbox\"}],\"scatterpolar\":[{\"marker\":{\"colorbar\":{\"outlinewidth\":0,\"ticks\":\"\"}},\"type\":\"scatterpolar\"}],\"scatterpolargl\":[{\"marker\":{\"colorbar\":{\"outlinewidth\":0,\"ticks\":\"\"}},\"type\":\"scatterpolargl\"}],\"scatterternary\":[{\"marker\":{\"colorbar\":{\"outlinewidth\":0,\"ticks\":\"\"}},\"type\":\"scatterternary\"}],\"surface\":[{\"colorbar\":{\"outlinewidth\":0,\"ticks\":\"\"},\"colorscale\":[[0.0,\"#0d0887\"],[0.1111111111111111,\"#46039f\"],[0.2222222222222222,\"#7201a8\"],[0.3333333333333333,\"#9c179e\"],[0.4444444444444444,\"#bd3786\"],[0.5555555555555556,\"#d8576b\"],[0.6666666666666666,\"#ed7953\"],[0.7777777777777778,\"#fb9f3a\"],[0.8888888888888888,\"#fdca26\"],[1.0,\"#f0f921\"]],\"type\":\"surface\"}],\"table\":[{\"cells\":{\"fill\":{\"color\":\"#EBF0F8\"},\"line\":{\"color\":\"white\"}},\"header\":{\"fill\":{\"color\":\"#C8D4E3\"},\"line\":{\"color\":\"white\"}},\"type\":\"table\"}]},\"layout\":{\"annotationdefaults\":{\"arrowcolor\":\"#2a3f5f\",\"arrowhead\":0,\"arrowwidth\":1},\"autotypenumbers\":\"strict\",\"coloraxis\":{\"colorbar\":{\"outlinewidth\":0,\"ticks\":\"\"}},\"colorscale\":{\"diverging\":[[0,\"#8e0152\"],[0.1,\"#c51b7d\"],[0.2,\"#de77ae\"],[0.3,\"#f1b6da\"],[0.4,\"#fde0ef\"],[0.5,\"#f7f7f7\"],[0.6,\"#e6f5d0\"],[0.7,\"#b8e186\"],[0.8,\"#7fbc41\"],[0.9,\"#4d9221\"],[1,\"#276419\"]],\"sequential\":[[0.0,\"#0d0887\"],[0.1111111111111111,\"#46039f\"],[0.2222222222222222,\"#7201a8\"],[0.3333333333333333,\"#9c179e\"],[0.4444444444444444,\"#bd3786\"],[0.5555555555555556,\"#d8576b\"],[0.6666666666666666,\"#ed7953\"],[0.7777777777777778,\"#fb9f3a\"],[0.8888888888888888,\"#fdca26\"],[1.0,\"#f0f921\"]],\"sequentialminus\":[[0.0,\"#0d0887\"],[0.1111111111111111,\"#46039f\"],[0.2222222222222222,\"#7201a8\"],[0.3333333333333333,\"#9c179e\"],[0.4444444444444444,\"#bd3786\"],[0.5555555555555556,\"#d8576b\"],[0.6666666666666666,\"#ed7953\"],[0.7777777777777778,\"#fb9f3a\"],[0.8888888888888888,\"#fdca26\"],[1.0,\"#f0f921\"]]},\"colorway\":[\"#636efa\",\"#EF553B\",\"#00cc96\",\"#ab63fa\",\"#FFA15A\",\"#19d3f3\",\"#FF6692\",\"#B6E880\",\"#FF97FF\",\"#FECB52\"],\"font\":{\"color\":\"#2a3f5f\"},\"geo\":{\"bgcolor\":\"white\",\"lakecolor\":\"white\",\"landcolor\":\"#E5ECF6\",\"showlakes\":true,\"showland\":true,\"subunitcolor\":\"white\"},\"hoverlabel\":{\"align\":\"left\"},\"hovermode\":\"closest\",\"mapbox\":{\"style\":\"light\"},\"paper_bgcolor\":\"white\",\"plot_bgcolor\":\"#E5ECF6\",\"polar\":{\"angularaxis\":{\"gridcolor\":\"white\",\"linecolor\":\"white\",\"ticks\":\"\"},\"bgcolor\":\"#E5ECF6\",\"radialaxis\":{\"gridcolor\":\"white\",\"linecolor\":\"white\",\"ticks\":\"\"}},\"scene\":{\"xaxis\":{\"backgroundcolor\":\"#E5ECF6\",\"gridcolor\":\"white\",\"gridwidth\":2,\"linecolor\":\"white\",\"showbackground\":true,\"ticks\":\"\",\"zerolinecolor\":\"white\"},\"yaxis\":{\"backgroundcolor\":\"#E5ECF6\",\"gridcolor\":\"white\",\"gridwidth\":2,\"linecolor\":\"white\",\"showbackground\":true,\"ticks\":\"\",\"zerolinecolor\":\"white\"},\"zaxis\":{\"backgroundcolor\":\"#E5ECF6\",\"gridcolor\":\"white\",\"gridwidth\":2,\"linecolor\":\"white\",\"showbackground\":true,\"ticks\":\"\",\"zerolinecolor\":\"white\"}},\"shapedefaults\":{\"line\":{\"color\":\"#2a3f5f\"}},\"ternary\":{\"aaxis\":{\"gridcolor\":\"white\",\"linecolor\":\"white\",\"ticks\":\"\"},\"baxis\":{\"gridcolor\":\"white\",\"linecolor\":\"white\",\"ticks\":\"\"},\"bgcolor\":\"#E5ECF6\",\"caxis\":{\"gridcolor\":\"white\",\"linecolor\":\"white\",\"ticks\":\"\"}},\"title\":{\"x\":0.05},\"xaxis\":{\"automargin\":true,\"gridcolor\":\"white\",\"linecolor\":\"white\",\"ticks\":\"\",\"title\":{\"standoff\":15},\"zerolinecolor\":\"white\",\"zerolinewidth\":2},\"yaxis\":{\"automargin\":true,\"gridcolor\":\"white\",\"linecolor\":\"white\",\"ticks\":\"\",\"title\":{\"standoff\":15},\"zerolinecolor\":\"white\",\"zerolinewidth\":2}}},\"title\":{\"text\":\"Percent of Secondary Genres in our dataset\"}},                        {\"responsive\": true}                    ).then(function(){\n",
       "                            \n",
       "var gd = document.getElementById('b1da2f63-b11c-456f-98ba-0d1487e1df79');\n",
       "var x = new MutationObserver(function (mutations, observer) {{\n",
       "        var display = window.getComputedStyle(gd).display;\n",
       "        if (!display || display === 'none') {{\n",
       "            console.log([gd, 'removed!']);\n",
       "            Plotly.purge(gd);\n",
       "            observer.disconnect();\n",
       "        }}\n",
       "}});\n",
       "\n",
       "// Listen for the removal of the full notebook cells\n",
       "var notebookContainer = gd.closest('#notebook-container');\n",
       "if (notebookContainer) {{\n",
       "    x.observe(notebookContainer, {childList: true});\n",
       "}}\n",
       "\n",
       "// Listen for the clearing of the current output cell\n",
       "var outputEl = gd.closest('.output');\n",
       "if (outputEl) {{\n",
       "    x.observe(outputEl, {childList: true});\n",
       "}}\n",
       "\n",
       "                        })                };                });            </script>        </div>"
      ]
     },
     "metadata": {},
     "output_type": "display_data"
    }
   ],
   "source": [
    "genre_count = games['Secondary Genre'].value_counts().sort_values(ascending=False)\n",
    "fig = go.Figure(data=[go.Pie(labels=genre_count.index, values=genre_count.values)])\n",
    "fig.update_layout(hoverlabel=dict(font=dict(family='sans-serif', size=25)),\n",
    "    title_text=\"Percent of Secondary Genres in our dataset\", annotations=[dict(text='Secondary Genres', bgcolor='white', font_size=6, showarrow=False)])\n",
    "fig.update_traces(hoverinfo='percent', textinfo='percent', textfont_size=35,textposition='inside')\n",
    "fig.show()"
   ]
  },
  {
   "cell_type": "markdown",
   "id": "4d806491",
   "metadata": {
    "papermill": {
     "duration": 0.091747,
     "end_time": "2021-09-20T01:49:57.849484",
     "exception": false,
     "start_time": "2021-09-20T01:49:57.757737",
     "status": "completed"
    },
    "tags": []
   },
   "source": [
    "Conclusion: Games overtake every other Genre by far. While Strategy games are the most popular form of game, with entertainment coming at second."
   ]
  },
  {
   "cell_type": "code",
   "execution_count": 42,
   "id": "8be1c571",
   "metadata": {
    "execution": {
     "iopub.execute_input": "2021-09-20T01:49:58.052814Z",
     "iopub.status.busy": "2021-09-20T01:49:58.043221Z",
     "iopub.status.idle": "2021-09-20T01:49:58.090658Z",
     "shell.execute_reply": "2021-09-20T01:49:58.090082Z",
     "shell.execute_reply.started": "2021-09-20T01:35:43.875864Z"
    },
    "papermill": {
     "duration": 0.149454,
     "end_time": "2021-09-20T01:49:58.090795",
     "exception": false,
     "start_time": "2021-09-20T01:49:57.941341",
     "status": "completed"
    },
    "tags": []
   },
   "outputs": [
    {
     "data": {
      "text/html": [
       "<div>                            <div id=\"4688c0f0-659e-49c4-801e-88ae636f02a4\" class=\"plotly-graph-div\" style=\"height:525px; width:100%;\"></div>            <script type=\"text/javascript\">                require([\"plotly\"], function(Plotly) {                    window.PLOTLYENV=window.PLOTLYENV || {};                                    if (document.getElementById(\"4688c0f0-659e-49c4-801e-88ae636f02a4\")) {                    Plotly.newPlot(                        \"4688c0f0-659e-49c4-801e-88ae636f02a4\",                        [{\"marker\":{\"color\":\"darkblue\"},\"name\":\"Primary\",\"text\":[4.625,4.571428571428571,4.5,4.5,4.5,4.427927927927928,4.413793103448276,4.391666666666667,4.388888888888889,4.333333333333333,4.3125,4.3056613041876455,4.305555555555555,4.277777777777778,4.246753246753247,4.1893939393939394,3.95,3.859375,3.8333333333333335,3.5,3.0],\"type\":\"bar\",\"x\":[\"Food & Drink\",\"News\",\"Music\",\"Shopping\",\"Health & Fitness\",\"Education\",\"Stickers\",\"Sports\",\"Books\",\"Navigation\",\"Business\",\"Games\",\"Finance\",\"Social Networking\",\"Utilities\",\"Entertainment\",\"Lifestyle\",\"Reference\",\"Productivity\",\"Travel\",\"Medical\"],\"y\":[4.625,4.571428571428571,4.5,4.5,4.5,4.427927927927928,4.413793103448276,4.391666666666667,4.388888888888889,4.333333333333333,4.3125,4.3056613041876455,4.305555555555555,4.277777777777778,4.246753246753247,4.1893939393939394,3.95,3.859375,3.8333333333333335,3.5,3.0]}],                        {\"barmode\":\"relative\",\"font\":{\"family\":\"Courier New\"},\"hoverlabel\":{\"font\":{\"family\":\"sans-serif\",\"size\":25}},\"template\":{\"data\":{\"bar\":[{\"error_x\":{\"color\":\"#f2f5fa\"},\"error_y\":{\"color\":\"#f2f5fa\"},\"marker\":{\"line\":{\"color\":\"rgb(17,17,17)\",\"width\":0.5},\"pattern\":{\"fillmode\":\"overlay\",\"size\":10,\"solidity\":0.2}},\"type\":\"bar\"}],\"barpolar\":[{\"marker\":{\"line\":{\"color\":\"rgb(17,17,17)\",\"width\":0.5},\"pattern\":{\"fillmode\":\"overlay\",\"size\":10,\"solidity\":0.2}},\"type\":\"barpolar\"}],\"carpet\":[{\"aaxis\":{\"endlinecolor\":\"#A2B1C6\",\"gridcolor\":\"#506784\",\"linecolor\":\"#506784\",\"minorgridcolor\":\"#506784\",\"startlinecolor\":\"#A2B1C6\"},\"baxis\":{\"endlinecolor\":\"#A2B1C6\",\"gridcolor\":\"#506784\",\"linecolor\":\"#506784\",\"minorgridcolor\":\"#506784\",\"startlinecolor\":\"#A2B1C6\"},\"type\":\"carpet\"}],\"choropleth\":[{\"colorbar\":{\"outlinewidth\":0,\"ticks\":\"\"},\"type\":\"choropleth\"}],\"contour\":[{\"colorbar\":{\"outlinewidth\":0,\"ticks\":\"\"},\"colorscale\":[[0.0,\"#0d0887\"],[0.1111111111111111,\"#46039f\"],[0.2222222222222222,\"#7201a8\"],[0.3333333333333333,\"#9c179e\"],[0.4444444444444444,\"#bd3786\"],[0.5555555555555556,\"#d8576b\"],[0.6666666666666666,\"#ed7953\"],[0.7777777777777778,\"#fb9f3a\"],[0.8888888888888888,\"#fdca26\"],[1.0,\"#f0f921\"]],\"type\":\"contour\"}],\"contourcarpet\":[{\"colorbar\":{\"outlinewidth\":0,\"ticks\":\"\"},\"type\":\"contourcarpet\"}],\"heatmap\":[{\"colorbar\":{\"outlinewidth\":0,\"ticks\":\"\"},\"colorscale\":[[0.0,\"#0d0887\"],[0.1111111111111111,\"#46039f\"],[0.2222222222222222,\"#7201a8\"],[0.3333333333333333,\"#9c179e\"],[0.4444444444444444,\"#bd3786\"],[0.5555555555555556,\"#d8576b\"],[0.6666666666666666,\"#ed7953\"],[0.7777777777777778,\"#fb9f3a\"],[0.8888888888888888,\"#fdca26\"],[1.0,\"#f0f921\"]],\"type\":\"heatmap\"}],\"heatmapgl\":[{\"colorbar\":{\"outlinewidth\":0,\"ticks\":\"\"},\"colorscale\":[[0.0,\"#0d0887\"],[0.1111111111111111,\"#46039f\"],[0.2222222222222222,\"#7201a8\"],[0.3333333333333333,\"#9c179e\"],[0.4444444444444444,\"#bd3786\"],[0.5555555555555556,\"#d8576b\"],[0.6666666666666666,\"#ed7953\"],[0.7777777777777778,\"#fb9f3a\"],[0.8888888888888888,\"#fdca26\"],[1.0,\"#f0f921\"]],\"type\":\"heatmapgl\"}],\"histogram\":[{\"marker\":{\"pattern\":{\"fillmode\":\"overlay\",\"size\":10,\"solidity\":0.2}},\"type\":\"histogram\"}],\"histogram2d\":[{\"colorbar\":{\"outlinewidth\":0,\"ticks\":\"\"},\"colorscale\":[[0.0,\"#0d0887\"],[0.1111111111111111,\"#46039f\"],[0.2222222222222222,\"#7201a8\"],[0.3333333333333333,\"#9c179e\"],[0.4444444444444444,\"#bd3786\"],[0.5555555555555556,\"#d8576b\"],[0.6666666666666666,\"#ed7953\"],[0.7777777777777778,\"#fb9f3a\"],[0.8888888888888888,\"#fdca26\"],[1.0,\"#f0f921\"]],\"type\":\"histogram2d\"}],\"histogram2dcontour\":[{\"colorbar\":{\"outlinewidth\":0,\"ticks\":\"\"},\"colorscale\":[[0.0,\"#0d0887\"],[0.1111111111111111,\"#46039f\"],[0.2222222222222222,\"#7201a8\"],[0.3333333333333333,\"#9c179e\"],[0.4444444444444444,\"#bd3786\"],[0.5555555555555556,\"#d8576b\"],[0.6666666666666666,\"#ed7953\"],[0.7777777777777778,\"#fb9f3a\"],[0.8888888888888888,\"#fdca26\"],[1.0,\"#f0f921\"]],\"type\":\"histogram2dcontour\"}],\"mesh3d\":[{\"colorbar\":{\"outlinewidth\":0,\"ticks\":\"\"},\"type\":\"mesh3d\"}],\"parcoords\":[{\"line\":{\"colorbar\":{\"outlinewidth\":0,\"ticks\":\"\"}},\"type\":\"parcoords\"}],\"pie\":[{\"automargin\":true,\"type\":\"pie\"}],\"scatter\":[{\"marker\":{\"line\":{\"color\":\"#283442\"}},\"type\":\"scatter\"}],\"scatter3d\":[{\"line\":{\"colorbar\":{\"outlinewidth\":0,\"ticks\":\"\"}},\"marker\":{\"colorbar\":{\"outlinewidth\":0,\"ticks\":\"\"}},\"type\":\"scatter3d\"}],\"scattercarpet\":[{\"marker\":{\"colorbar\":{\"outlinewidth\":0,\"ticks\":\"\"}},\"type\":\"scattercarpet\"}],\"scattergeo\":[{\"marker\":{\"colorbar\":{\"outlinewidth\":0,\"ticks\":\"\"}},\"type\":\"scattergeo\"}],\"scattergl\":[{\"marker\":{\"line\":{\"color\":\"#283442\"}},\"type\":\"scattergl\"}],\"scattermapbox\":[{\"marker\":{\"colorbar\":{\"outlinewidth\":0,\"ticks\":\"\"}},\"type\":\"scattermapbox\"}],\"scatterpolar\":[{\"marker\":{\"colorbar\":{\"outlinewidth\":0,\"ticks\":\"\"}},\"type\":\"scatterpolar\"}],\"scatterpolargl\":[{\"marker\":{\"colorbar\":{\"outlinewidth\":0,\"ticks\":\"\"}},\"type\":\"scatterpolargl\"}],\"scatterternary\":[{\"marker\":{\"colorbar\":{\"outlinewidth\":0,\"ticks\":\"\"}},\"type\":\"scatterternary\"}],\"surface\":[{\"colorbar\":{\"outlinewidth\":0,\"ticks\":\"\"},\"colorscale\":[[0.0,\"#0d0887\"],[0.1111111111111111,\"#46039f\"],[0.2222222222222222,\"#7201a8\"],[0.3333333333333333,\"#9c179e\"],[0.4444444444444444,\"#bd3786\"],[0.5555555555555556,\"#d8576b\"],[0.6666666666666666,\"#ed7953\"],[0.7777777777777778,\"#fb9f3a\"],[0.8888888888888888,\"#fdca26\"],[1.0,\"#f0f921\"]],\"type\":\"surface\"}],\"table\":[{\"cells\":{\"fill\":{\"color\":\"#506784\"},\"line\":{\"color\":\"rgb(17,17,17)\"}},\"header\":{\"fill\":{\"color\":\"#2a3f5f\"},\"line\":{\"color\":\"rgb(17,17,17)\"}},\"type\":\"table\"}]},\"layout\":{\"annotationdefaults\":{\"arrowcolor\":\"#f2f5fa\",\"arrowhead\":0,\"arrowwidth\":1},\"autotypenumbers\":\"strict\",\"coloraxis\":{\"colorbar\":{\"outlinewidth\":0,\"ticks\":\"\"}},\"colorscale\":{\"diverging\":[[0,\"#8e0152\"],[0.1,\"#c51b7d\"],[0.2,\"#de77ae\"],[0.3,\"#f1b6da\"],[0.4,\"#fde0ef\"],[0.5,\"#f7f7f7\"],[0.6,\"#e6f5d0\"],[0.7,\"#b8e186\"],[0.8,\"#7fbc41\"],[0.9,\"#4d9221\"],[1,\"#276419\"]],\"sequential\":[[0.0,\"#0d0887\"],[0.1111111111111111,\"#46039f\"],[0.2222222222222222,\"#7201a8\"],[0.3333333333333333,\"#9c179e\"],[0.4444444444444444,\"#bd3786\"],[0.5555555555555556,\"#d8576b\"],[0.6666666666666666,\"#ed7953\"],[0.7777777777777778,\"#fb9f3a\"],[0.8888888888888888,\"#fdca26\"],[1.0,\"#f0f921\"]],\"sequentialminus\":[[0.0,\"#0d0887\"],[0.1111111111111111,\"#46039f\"],[0.2222222222222222,\"#7201a8\"],[0.3333333333333333,\"#9c179e\"],[0.4444444444444444,\"#bd3786\"],[0.5555555555555556,\"#d8576b\"],[0.6666666666666666,\"#ed7953\"],[0.7777777777777778,\"#fb9f3a\"],[0.8888888888888888,\"#fdca26\"],[1.0,\"#f0f921\"]]},\"colorway\":[\"#636efa\",\"#EF553B\",\"#00cc96\",\"#ab63fa\",\"#FFA15A\",\"#19d3f3\",\"#FF6692\",\"#B6E880\",\"#FF97FF\",\"#FECB52\"],\"font\":{\"color\":\"#f2f5fa\"},\"geo\":{\"bgcolor\":\"rgb(17,17,17)\",\"lakecolor\":\"rgb(17,17,17)\",\"landcolor\":\"rgb(17,17,17)\",\"showlakes\":true,\"showland\":true,\"subunitcolor\":\"#506784\"},\"hoverlabel\":{\"align\":\"left\"},\"hovermode\":\"closest\",\"mapbox\":{\"style\":\"dark\"},\"paper_bgcolor\":\"rgb(17,17,17)\",\"plot_bgcolor\":\"rgb(17,17,17)\",\"polar\":{\"angularaxis\":{\"gridcolor\":\"#506784\",\"linecolor\":\"#506784\",\"ticks\":\"\"},\"bgcolor\":\"rgb(17,17,17)\",\"radialaxis\":{\"gridcolor\":\"#506784\",\"linecolor\":\"#506784\",\"ticks\":\"\"}},\"scene\":{\"xaxis\":{\"backgroundcolor\":\"rgb(17,17,17)\",\"gridcolor\":\"#506784\",\"gridwidth\":2,\"linecolor\":\"#506784\",\"showbackground\":true,\"ticks\":\"\",\"zerolinecolor\":\"#C8D4E3\"},\"yaxis\":{\"backgroundcolor\":\"rgb(17,17,17)\",\"gridcolor\":\"#506784\",\"gridwidth\":2,\"linecolor\":\"#506784\",\"showbackground\":true,\"ticks\":\"\",\"zerolinecolor\":\"#C8D4E3\"},\"zaxis\":{\"backgroundcolor\":\"rgb(17,17,17)\",\"gridcolor\":\"#506784\",\"gridwidth\":2,\"linecolor\":\"#506784\",\"showbackground\":true,\"ticks\":\"\",\"zerolinecolor\":\"#C8D4E3\"}},\"shapedefaults\":{\"line\":{\"color\":\"#f2f5fa\"}},\"sliderdefaults\":{\"bgcolor\":\"#C8D4E3\",\"bordercolor\":\"rgb(17,17,17)\",\"borderwidth\":1,\"tickwidth\":0},\"ternary\":{\"aaxis\":{\"gridcolor\":\"#506784\",\"linecolor\":\"#506784\",\"ticks\":\"\"},\"baxis\":{\"gridcolor\":\"#506784\",\"linecolor\":\"#506784\",\"ticks\":\"\"},\"bgcolor\":\"rgb(17,17,17)\",\"caxis\":{\"gridcolor\":\"#506784\",\"linecolor\":\"#506784\",\"ticks\":\"\"}},\"title\":{\"x\":0.05},\"updatemenudefaults\":{\"bgcolor\":\"#506784\",\"borderwidth\":0},\"xaxis\":{\"automargin\":true,\"gridcolor\":\"#283442\",\"linecolor\":\"#506784\",\"ticks\":\"\",\"title\":{\"standoff\":15},\"zerolinecolor\":\"#283442\",\"zerolinewidth\":2},\"yaxis\":{\"automargin\":true,\"gridcolor\":\"#283442\",\"linecolor\":\"#506784\",\"ticks\":\"\",\"title\":{\"standoff\":15},\"zerolinecolor\":\"#283442\",\"zerolinewidth\":2}}},\"title\":{\"text\":\"Average user rating per Primary Genre\"},\"xaxis\":{\"tickfont\":{\"size\":15},\"title\":{\"text\":\"Primary Genre\"}},\"yaxis\":{\"range\":[0,5],\"title\":{\"text\":\"Average user rating\"}}},                        {\"responsive\": true}                    ).then(function(){\n",
       "                            \n",
       "var gd = document.getElementById('4688c0f0-659e-49c4-801e-88ae636f02a4');\n",
       "var x = new MutationObserver(function (mutations, observer) {{\n",
       "        var display = window.getComputedStyle(gd).display;\n",
       "        if (!display || display === 'none') {{\n",
       "            console.log([gd, 'removed!']);\n",
       "            Plotly.purge(gd);\n",
       "            observer.disconnect();\n",
       "        }}\n",
       "}});\n",
       "\n",
       "// Listen for the removal of the full notebook cells\n",
       "var notebookContainer = gd.closest('#notebook-container');\n",
       "if (notebookContainer) {{\n",
       "    x.observe(notebookContainer, {childList: true});\n",
       "}}\n",
       "\n",
       "// Listen for the clearing of the current output cell\n",
       "var outputEl = gd.closest('.output');\n",
       "if (outputEl) {{\n",
       "    x.observe(outputEl, {childList: true});\n",
       "}}\n",
       "\n",
       "                        })                };                });            </script>        </div>"
      ]
     },
     "metadata": {},
     "output_type": "display_data"
    }
   ],
   "source": [
    "primary_avg = games.groupby('Primary Genre')[['Average User Rating']].mean().sort_values(by = ['Average User Rating'], ascending = False)\n",
    "\n",
    "fig = go.Figure(data=[\n",
    "    go.Bar(name='Primary', x =primary_avg.index  ,y = primary_avg['Average User Rating'] , text= primary_avg['Average User Rating'], marker_color='darkblue')])\n",
    "fig.update_layout(hoverlabel=dict(font=dict(family='sans-serif', size=25)),barmode='relative', template='plotly_dark', title_text='Average user rating per Primary Genre', font_family=\"Courier New\")\n",
    "fig.update_yaxes(title_text='Average user rating', range=[0,5])\n",
    "fig.update_xaxes(title_text='Primary Genre',tickfont_size=15)\n",
    "fig.show()   "
   ]
  },
  {
   "cell_type": "code",
   "execution_count": 43,
   "id": "b3c6e124",
   "metadata": {
    "execution": {
     "iopub.execute_input": "2021-09-20T01:49:58.288931Z",
     "iopub.status.busy": "2021-09-20T01:49:58.288219Z",
     "iopub.status.idle": "2021-09-20T01:49:58.332499Z",
     "shell.execute_reply": "2021-09-20T01:49:58.331874Z",
     "shell.execute_reply.started": "2021-09-20T01:35:43.936216Z"
    },
    "papermill": {
     "duration": 0.148365,
     "end_time": "2021-09-20T01:49:58.332632",
     "exception": false,
     "start_time": "2021-09-20T01:49:58.184267",
     "status": "completed"
    },
    "tags": []
   },
   "outputs": [
    {
     "data": {
      "text/html": [
       "<div>                            <div id=\"51aa4aed-e3e2-4e5e-879e-7c4d2a4b192e\" class=\"plotly-graph-div\" style=\"height:525px; width:100%;\"></div>            <script type=\"text/javascript\">                require([\"plotly\"], function(Plotly) {                    window.PLOTLYENV=window.PLOTLYENV || {};                                    if (document.getElementById(\"51aa4aed-e3e2-4e5e-879e-7c4d2a4b192e\")) {                    Plotly.newPlot(                        \"51aa4aed-e3e2-4e5e-879e-7c4d2a4b192e\",                        [{\"marker\":{\"color\":\"darkred\"},\"name\":\"secondary\",\"text\":[5.0,4.5,4.5,4.5,4.5,4.5,4.5,4.5,4.5,4.5,4.5,4.464285714285714,4.461538461538462,4.421052631578948,4.409090909090909,4.404689863842663,4.4,4.388925510876731,4.367521367521367,4.353448275862069,4.341772151898734,4.333333333333333,4.331578947368421,4.323529411764706,4.3173076923076925,4.316964285714286,4.3125,4.311781609195402,4.311656441717791,4.309924306139613,4.286131671211531,4.275,4.273946360153257,4.266536964980545,4.241071428571429,4.235294117647059,4.233333333333333,4.207291666666666,4.198675496688741,4.183453237410072,4.125,4.0],\"type\":\"bar\",\"x\":[\" Magazines & Newspapers\",\" Medical\",\" Places & Objects\",\" Animals & Nature\",\" Art\",\" Travel\",\" Stickers\",\" Sports & Activities\",\" Gaming\",\" Photo & Video\",\" Emoji & Expressions\",\" Casino\",\" Health & Fitness\",\" Lifestyle\",\" Music\",\" Casual\",\" Navigation\",\" Puzzle\",\" Education\",\" Word\",\" Sports\",\" News\",\" Family\",\" Reference\",\" Social Networking\",\" Trivia\",\" Finance\",\" Adventure\",\" Action\",\" Strategy\",\" Entertainment\",\" Productivity\",\" Games\",\" Card\",\" Racing\",\" Utilities\",\" Food & Drink\",\" Role Playing\",\" Simulation\",\" Board\",\" Business\",\" Books\"],\"y\":[5.0,4.5,4.5,4.5,4.5,4.5,4.5,4.5,4.5,4.5,4.5,4.464285714285714,4.461538461538462,4.421052631578948,4.409090909090909,4.404689863842663,4.4,4.388925510876731,4.367521367521367,4.353448275862069,4.341772151898734,4.333333333333333,4.331578947368421,4.323529411764706,4.3173076923076925,4.316964285714286,4.3125,4.311781609195402,4.311656441717791,4.309924306139613,4.286131671211531,4.275,4.273946360153257,4.266536964980545,4.241071428571429,4.235294117647059,4.233333333333333,4.207291666666666,4.198675496688741,4.183453237410072,4.125,4.0]}],                        {\"barmode\":\"relative\",\"font\":{\"family\":\"Courier New\"},\"hoverlabel\":{\"font\":{\"family\":\"sans-serif\",\"size\":25}},\"template\":{\"data\":{\"bar\":[{\"error_x\":{\"color\":\"#f2f5fa\"},\"error_y\":{\"color\":\"#f2f5fa\"},\"marker\":{\"line\":{\"color\":\"rgb(17,17,17)\",\"width\":0.5},\"pattern\":{\"fillmode\":\"overlay\",\"size\":10,\"solidity\":0.2}},\"type\":\"bar\"}],\"barpolar\":[{\"marker\":{\"line\":{\"color\":\"rgb(17,17,17)\",\"width\":0.5},\"pattern\":{\"fillmode\":\"overlay\",\"size\":10,\"solidity\":0.2}},\"type\":\"barpolar\"}],\"carpet\":[{\"aaxis\":{\"endlinecolor\":\"#A2B1C6\",\"gridcolor\":\"#506784\",\"linecolor\":\"#506784\",\"minorgridcolor\":\"#506784\",\"startlinecolor\":\"#A2B1C6\"},\"baxis\":{\"endlinecolor\":\"#A2B1C6\",\"gridcolor\":\"#506784\",\"linecolor\":\"#506784\",\"minorgridcolor\":\"#506784\",\"startlinecolor\":\"#A2B1C6\"},\"type\":\"carpet\"}],\"choropleth\":[{\"colorbar\":{\"outlinewidth\":0,\"ticks\":\"\"},\"type\":\"choropleth\"}],\"contour\":[{\"colorbar\":{\"outlinewidth\":0,\"ticks\":\"\"},\"colorscale\":[[0.0,\"#0d0887\"],[0.1111111111111111,\"#46039f\"],[0.2222222222222222,\"#7201a8\"],[0.3333333333333333,\"#9c179e\"],[0.4444444444444444,\"#bd3786\"],[0.5555555555555556,\"#d8576b\"],[0.6666666666666666,\"#ed7953\"],[0.7777777777777778,\"#fb9f3a\"],[0.8888888888888888,\"#fdca26\"],[1.0,\"#f0f921\"]],\"type\":\"contour\"}],\"contourcarpet\":[{\"colorbar\":{\"outlinewidth\":0,\"ticks\":\"\"},\"type\":\"contourcarpet\"}],\"heatmap\":[{\"colorbar\":{\"outlinewidth\":0,\"ticks\":\"\"},\"colorscale\":[[0.0,\"#0d0887\"],[0.1111111111111111,\"#46039f\"],[0.2222222222222222,\"#7201a8\"],[0.3333333333333333,\"#9c179e\"],[0.4444444444444444,\"#bd3786\"],[0.5555555555555556,\"#d8576b\"],[0.6666666666666666,\"#ed7953\"],[0.7777777777777778,\"#fb9f3a\"],[0.8888888888888888,\"#fdca26\"],[1.0,\"#f0f921\"]],\"type\":\"heatmap\"}],\"heatmapgl\":[{\"colorbar\":{\"outlinewidth\":0,\"ticks\":\"\"},\"colorscale\":[[0.0,\"#0d0887\"],[0.1111111111111111,\"#46039f\"],[0.2222222222222222,\"#7201a8\"],[0.3333333333333333,\"#9c179e\"],[0.4444444444444444,\"#bd3786\"],[0.5555555555555556,\"#d8576b\"],[0.6666666666666666,\"#ed7953\"],[0.7777777777777778,\"#fb9f3a\"],[0.8888888888888888,\"#fdca26\"],[1.0,\"#f0f921\"]],\"type\":\"heatmapgl\"}],\"histogram\":[{\"marker\":{\"pattern\":{\"fillmode\":\"overlay\",\"size\":10,\"solidity\":0.2}},\"type\":\"histogram\"}],\"histogram2d\":[{\"colorbar\":{\"outlinewidth\":0,\"ticks\":\"\"},\"colorscale\":[[0.0,\"#0d0887\"],[0.1111111111111111,\"#46039f\"],[0.2222222222222222,\"#7201a8\"],[0.3333333333333333,\"#9c179e\"],[0.4444444444444444,\"#bd3786\"],[0.5555555555555556,\"#d8576b\"],[0.6666666666666666,\"#ed7953\"],[0.7777777777777778,\"#fb9f3a\"],[0.8888888888888888,\"#fdca26\"],[1.0,\"#f0f921\"]],\"type\":\"histogram2d\"}],\"histogram2dcontour\":[{\"colorbar\":{\"outlinewidth\":0,\"ticks\":\"\"},\"colorscale\":[[0.0,\"#0d0887\"],[0.1111111111111111,\"#46039f\"],[0.2222222222222222,\"#7201a8\"],[0.3333333333333333,\"#9c179e\"],[0.4444444444444444,\"#bd3786\"],[0.5555555555555556,\"#d8576b\"],[0.6666666666666666,\"#ed7953\"],[0.7777777777777778,\"#fb9f3a\"],[0.8888888888888888,\"#fdca26\"],[1.0,\"#f0f921\"]],\"type\":\"histogram2dcontour\"}],\"mesh3d\":[{\"colorbar\":{\"outlinewidth\":0,\"ticks\":\"\"},\"type\":\"mesh3d\"}],\"parcoords\":[{\"line\":{\"colorbar\":{\"outlinewidth\":0,\"ticks\":\"\"}},\"type\":\"parcoords\"}],\"pie\":[{\"automargin\":true,\"type\":\"pie\"}],\"scatter\":[{\"marker\":{\"line\":{\"color\":\"#283442\"}},\"type\":\"scatter\"}],\"scatter3d\":[{\"line\":{\"colorbar\":{\"outlinewidth\":0,\"ticks\":\"\"}},\"marker\":{\"colorbar\":{\"outlinewidth\":0,\"ticks\":\"\"}},\"type\":\"scatter3d\"}],\"scattercarpet\":[{\"marker\":{\"colorbar\":{\"outlinewidth\":0,\"ticks\":\"\"}},\"type\":\"scattercarpet\"}],\"scattergeo\":[{\"marker\":{\"colorbar\":{\"outlinewidth\":0,\"ticks\":\"\"}},\"type\":\"scattergeo\"}],\"scattergl\":[{\"marker\":{\"line\":{\"color\":\"#283442\"}},\"type\":\"scattergl\"}],\"scattermapbox\":[{\"marker\":{\"colorbar\":{\"outlinewidth\":0,\"ticks\":\"\"}},\"type\":\"scattermapbox\"}],\"scatterpolar\":[{\"marker\":{\"colorbar\":{\"outlinewidth\":0,\"ticks\":\"\"}},\"type\":\"scatterpolar\"}],\"scatterpolargl\":[{\"marker\":{\"colorbar\":{\"outlinewidth\":0,\"ticks\":\"\"}},\"type\":\"scatterpolargl\"}],\"scatterternary\":[{\"marker\":{\"colorbar\":{\"outlinewidth\":0,\"ticks\":\"\"}},\"type\":\"scatterternary\"}],\"surface\":[{\"colorbar\":{\"outlinewidth\":0,\"ticks\":\"\"},\"colorscale\":[[0.0,\"#0d0887\"],[0.1111111111111111,\"#46039f\"],[0.2222222222222222,\"#7201a8\"],[0.3333333333333333,\"#9c179e\"],[0.4444444444444444,\"#bd3786\"],[0.5555555555555556,\"#d8576b\"],[0.6666666666666666,\"#ed7953\"],[0.7777777777777778,\"#fb9f3a\"],[0.8888888888888888,\"#fdca26\"],[1.0,\"#f0f921\"]],\"type\":\"surface\"}],\"table\":[{\"cells\":{\"fill\":{\"color\":\"#506784\"},\"line\":{\"color\":\"rgb(17,17,17)\"}},\"header\":{\"fill\":{\"color\":\"#2a3f5f\"},\"line\":{\"color\":\"rgb(17,17,17)\"}},\"type\":\"table\"}]},\"layout\":{\"annotationdefaults\":{\"arrowcolor\":\"#f2f5fa\",\"arrowhead\":0,\"arrowwidth\":1},\"autotypenumbers\":\"strict\",\"coloraxis\":{\"colorbar\":{\"outlinewidth\":0,\"ticks\":\"\"}},\"colorscale\":{\"diverging\":[[0,\"#8e0152\"],[0.1,\"#c51b7d\"],[0.2,\"#de77ae\"],[0.3,\"#f1b6da\"],[0.4,\"#fde0ef\"],[0.5,\"#f7f7f7\"],[0.6,\"#e6f5d0\"],[0.7,\"#b8e186\"],[0.8,\"#7fbc41\"],[0.9,\"#4d9221\"],[1,\"#276419\"]],\"sequential\":[[0.0,\"#0d0887\"],[0.1111111111111111,\"#46039f\"],[0.2222222222222222,\"#7201a8\"],[0.3333333333333333,\"#9c179e\"],[0.4444444444444444,\"#bd3786\"],[0.5555555555555556,\"#d8576b\"],[0.6666666666666666,\"#ed7953\"],[0.7777777777777778,\"#fb9f3a\"],[0.8888888888888888,\"#fdca26\"],[1.0,\"#f0f921\"]],\"sequentialminus\":[[0.0,\"#0d0887\"],[0.1111111111111111,\"#46039f\"],[0.2222222222222222,\"#7201a8\"],[0.3333333333333333,\"#9c179e\"],[0.4444444444444444,\"#bd3786\"],[0.5555555555555556,\"#d8576b\"],[0.6666666666666666,\"#ed7953\"],[0.7777777777777778,\"#fb9f3a\"],[0.8888888888888888,\"#fdca26\"],[1.0,\"#f0f921\"]]},\"colorway\":[\"#636efa\",\"#EF553B\",\"#00cc96\",\"#ab63fa\",\"#FFA15A\",\"#19d3f3\",\"#FF6692\",\"#B6E880\",\"#FF97FF\",\"#FECB52\"],\"font\":{\"color\":\"#f2f5fa\"},\"geo\":{\"bgcolor\":\"rgb(17,17,17)\",\"lakecolor\":\"rgb(17,17,17)\",\"landcolor\":\"rgb(17,17,17)\",\"showlakes\":true,\"showland\":true,\"subunitcolor\":\"#506784\"},\"hoverlabel\":{\"align\":\"left\"},\"hovermode\":\"closest\",\"mapbox\":{\"style\":\"dark\"},\"paper_bgcolor\":\"rgb(17,17,17)\",\"plot_bgcolor\":\"rgb(17,17,17)\",\"polar\":{\"angularaxis\":{\"gridcolor\":\"#506784\",\"linecolor\":\"#506784\",\"ticks\":\"\"},\"bgcolor\":\"rgb(17,17,17)\",\"radialaxis\":{\"gridcolor\":\"#506784\",\"linecolor\":\"#506784\",\"ticks\":\"\"}},\"scene\":{\"xaxis\":{\"backgroundcolor\":\"rgb(17,17,17)\",\"gridcolor\":\"#506784\",\"gridwidth\":2,\"linecolor\":\"#506784\",\"showbackground\":true,\"ticks\":\"\",\"zerolinecolor\":\"#C8D4E3\"},\"yaxis\":{\"backgroundcolor\":\"rgb(17,17,17)\",\"gridcolor\":\"#506784\",\"gridwidth\":2,\"linecolor\":\"#506784\",\"showbackground\":true,\"ticks\":\"\",\"zerolinecolor\":\"#C8D4E3\"},\"zaxis\":{\"backgroundcolor\":\"rgb(17,17,17)\",\"gridcolor\":\"#506784\",\"gridwidth\":2,\"linecolor\":\"#506784\",\"showbackground\":true,\"ticks\":\"\",\"zerolinecolor\":\"#C8D4E3\"}},\"shapedefaults\":{\"line\":{\"color\":\"#f2f5fa\"}},\"sliderdefaults\":{\"bgcolor\":\"#C8D4E3\",\"bordercolor\":\"rgb(17,17,17)\",\"borderwidth\":1,\"tickwidth\":0},\"ternary\":{\"aaxis\":{\"gridcolor\":\"#506784\",\"linecolor\":\"#506784\",\"ticks\":\"\"},\"baxis\":{\"gridcolor\":\"#506784\",\"linecolor\":\"#506784\",\"ticks\":\"\"},\"bgcolor\":\"rgb(17,17,17)\",\"caxis\":{\"gridcolor\":\"#506784\",\"linecolor\":\"#506784\",\"ticks\":\"\"}},\"title\":{\"x\":0.05},\"updatemenudefaults\":{\"bgcolor\":\"#506784\",\"borderwidth\":0},\"xaxis\":{\"automargin\":true,\"gridcolor\":\"#283442\",\"linecolor\":\"#506784\",\"ticks\":\"\",\"title\":{\"standoff\":15},\"zerolinecolor\":\"#283442\",\"zerolinewidth\":2},\"yaxis\":{\"automargin\":true,\"gridcolor\":\"#283442\",\"linecolor\":\"#506784\",\"ticks\":\"\",\"title\":{\"standoff\":15},\"zerolinecolor\":\"#283442\",\"zerolinewidth\":2}}},\"title\":{\"text\":\"Average user rating per Secondary Genre\"},\"xaxis\":{\"tickangle\":-45,\"tickfont\":{\"size\":12},\"title\":{\"text\":\"Secondary Genre\"}},\"yaxis\":{\"range\":[0,5],\"title\":{\"text\":\"Average user rating\"}}},                        {\"responsive\": true}                    ).then(function(){\n",
       "                            \n",
       "var gd = document.getElementById('51aa4aed-e3e2-4e5e-879e-7c4d2a4b192e');\n",
       "var x = new MutationObserver(function (mutations, observer) {{\n",
       "        var display = window.getComputedStyle(gd).display;\n",
       "        if (!display || display === 'none') {{\n",
       "            console.log([gd, 'removed!']);\n",
       "            Plotly.purge(gd);\n",
       "            observer.disconnect();\n",
       "        }}\n",
       "}});\n",
       "\n",
       "// Listen for the removal of the full notebook cells\n",
       "var notebookContainer = gd.closest('#notebook-container');\n",
       "if (notebookContainer) {{\n",
       "    x.observe(notebookContainer, {childList: true});\n",
       "}}\n",
       "\n",
       "// Listen for the clearing of the current output cell\n",
       "var outputEl = gd.closest('.output');\n",
       "if (outputEl) {{\n",
       "    x.observe(outputEl, {childList: true});\n",
       "}}\n",
       "\n",
       "                        })                };                });            </script>        </div>"
      ]
     },
     "metadata": {},
     "output_type": "display_data"
    }
   ],
   "source": [
    "secondary_avg = games.groupby('Secondary Genre')[['Average User Rating']].mean().sort_values(by = 'Average User Rating', ascending = False)\n",
    "\n",
    "\n",
    "fig = go.Figure(data=\n",
    "    go.Bar(name='secondary', x =secondary_avg.index  ,y = secondary_avg['Average User Rating'], text= secondary_avg['Average User Rating'], marker_color='darkred'))\n",
    "fig.update_layout(hoverlabel=dict(font=dict(family='sans-serif', size=25)),barmode='relative', template='plotly_dark', title_text='Average user rating per Secondary Genre', font_family=\"Courier New\", xaxis_tickangle=-45)\n",
    "fig.update_yaxes(title_text='Average user rating', range=[0,5])\n",
    "fig.update_xaxes(title_text='Secondary Genre',tickfont_size=12)\n",
    "fig.show()  "
   ]
  },
  {
   "cell_type": "markdown",
   "id": "fb240f39",
   "metadata": {
    "papermill": {
     "duration": 0.093295,
     "end_time": "2021-09-20T01:49:58.520195",
     "exception": false,
     "start_time": "2021-09-20T01:49:58.426900",
     "status": "completed"
    },
    "tags": []
   },
   "source": [
    "Conclusion: The graphs for both Genre categorys show the top rated genres. Food&Drink, News, and Music lead the primary genres, while magazines&newspapers, Medical and Places&Objects lead secondary genres."
   ]
  },
  {
   "cell_type": "markdown",
   "id": "68fd407b",
   "metadata": {
    "papermill": {
     "duration": 0.094624,
     "end_time": "2021-09-20T01:49:58.708330",
     "exception": false,
     "start_time": "2021-09-20T01:49:58.613706",
     "status": "completed"
    },
    "tags": []
   },
   "source": [
    "### Which developers rack the highest/lowest average ratings?"
   ]
  },
  {
   "cell_type": "code",
   "execution_count": 44,
   "id": "60e901d0",
   "metadata": {
    "execution": {
     "iopub.execute_input": "2021-09-20T01:49:58.906393Z",
     "iopub.status.busy": "2021-09-20T01:49:58.899330Z",
     "iopub.status.idle": "2021-09-20T01:49:58.915351Z",
     "shell.execute_reply": "2021-09-20T01:49:58.914696Z",
     "shell.execute_reply.started": "2021-09-20T01:35:43.999908Z"
    },
    "papermill": {
     "duration": 0.112855,
     "end_time": "2021-09-20T01:49:58.915489",
     "exception": false,
     "start_time": "2021-09-20T01:49:58.802634",
     "status": "completed"
    },
    "tags": []
   },
   "outputs": [],
   "source": [
    "more_than_500_reviews = games.loc[(games['User Rating Count'] >= 500)]\n",
    "top_dev_ratings = more_than_500_reviews.groupby('Developer')[['Average User Rating']].mean().sort_values(by = 'Average User Rating', ascending = False).head(15)\n",
    "low_dev_ratings = more_than_500_reviews.groupby('Developer')[['Average User Rating']].mean().sort_values(by = 'Average User Rating', ascending = True).head(15)"
   ]
  },
  {
   "cell_type": "code",
   "execution_count": 45,
   "id": "237d3460",
   "metadata": {
    "execution": {
     "iopub.execute_input": "2021-09-20T01:49:59.114895Z",
     "iopub.status.busy": "2021-09-20T01:49:59.114274Z",
     "iopub.status.idle": "2021-09-20T01:49:59.240876Z",
     "shell.execute_reply": "2021-09-20T01:49:59.240353Z",
     "shell.execute_reply.started": "2021-09-20T01:35:44.021937Z"
    },
    "papermill": {
     "duration": 0.232287,
     "end_time": "2021-09-20T01:49:59.241021",
     "exception": false,
     "start_time": "2021-09-20T01:49:59.008734",
     "status": "completed"
    },
    "tags": []
   },
   "outputs": [
    {
     "data": {
      "text/html": [
       "<div>                            <div id=\"cc966820-6ae0-412d-a494-3b073bcab393\" class=\"plotly-graph-div\" style=\"height:525px; width:100%;\"></div>            <script type=\"text/javascript\">                require([\"plotly\"], function(Plotly) {                    window.PLOTLYENV=window.PLOTLYENV || {};                                    if (document.getElementById(\"cc966820-6ae0-412d-a494-3b073bcab393\")) {                    Plotly.newPlot(                        \"cc966820-6ae0-412d-a494-3b073bcab393\",                        [{\"marker\":{\"color\":\"yellow\"},\"name\":\"Primary\",\"text\":[5.0,5.0,5.0,5.0,5.0,5.0,5.0,5.0,5.0,5.0,5.0,5.0,5.0,5.0,5.0],\"type\":\"bar\",\"x\":[\"Logick LLC\",\"LeanGo Development Inc.\",\"XIA PEI MING\",\"Xiaoyu Ren\",\"Ted Wong\",\"Tapinator, Inc.\",\"Game Hollywood\",\"Tactile Games Limited\",\"Heatherglade Ltd\",\"TOJOY GAME\",\"FlyBird Limited\",\"Monstronauts Inc.\",\"Casual Joy Limited\",\"Spider Solitaire\",\"Altitude Games\"],\"y\":[5.0,5.0,5.0,5.0,5.0,5.0,5.0,5.0,5.0,5.0,5.0,5.0,5.0,5.0,5.0]}],                        {\"barmode\":\"relative\",\"font\":{\"family\":\"Courier New\"},\"hoverlabel\":{\"font\":{\"family\":\"sans-serif\",\"size\":20}},\"template\":{\"data\":{\"bar\":[{\"error_x\":{\"color\":\"rgb(36,36,36)\"},\"error_y\":{\"color\":\"rgb(36,36,36)\"},\"marker\":{\"line\":{\"color\":\"rgb(234,234,242)\",\"width\":0.5},\"pattern\":{\"fillmode\":\"overlay\",\"size\":10,\"solidity\":0.2}},\"type\":\"bar\"}],\"barpolar\":[{\"marker\":{\"line\":{\"color\":\"rgb(234,234,242)\",\"width\":0.5},\"pattern\":{\"fillmode\":\"overlay\",\"size\":10,\"solidity\":0.2}},\"type\":\"barpolar\"}],\"carpet\":[{\"aaxis\":{\"endlinecolor\":\"rgb(36,36,36)\",\"gridcolor\":\"white\",\"linecolor\":\"white\",\"minorgridcolor\":\"white\",\"startlinecolor\":\"rgb(36,36,36)\"},\"baxis\":{\"endlinecolor\":\"rgb(36,36,36)\",\"gridcolor\":\"white\",\"linecolor\":\"white\",\"minorgridcolor\":\"white\",\"startlinecolor\":\"rgb(36,36,36)\"},\"type\":\"carpet\"}],\"choropleth\":[{\"colorbar\":{\"outlinewidth\":0,\"tickcolor\":\"rgb(36,36,36)\",\"ticklen\":8,\"ticks\":\"outside\",\"tickwidth\":2},\"type\":\"choropleth\"}],\"contour\":[{\"colorbar\":{\"outlinewidth\":0,\"tickcolor\":\"rgb(36,36,36)\",\"ticklen\":8,\"ticks\":\"outside\",\"tickwidth\":2},\"colorscale\":[[0.0,\"rgb(2,4,25)\"],[0.06274509803921569,\"rgb(24,15,41)\"],[0.12549019607843137,\"rgb(47,23,57)\"],[0.18823529411764706,\"rgb(71,28,72)\"],[0.25098039215686274,\"rgb(97,30,82)\"],[0.3137254901960784,\"rgb(123,30,89)\"],[0.3764705882352941,\"rgb(150,27,91)\"],[0.4392156862745098,\"rgb(177,22,88)\"],[0.5019607843137255,\"rgb(203,26,79)\"],[0.5647058823529412,\"rgb(223,47,67)\"],[0.6274509803921569,\"rgb(236,76,61)\"],[0.6901960784313725,\"rgb(242,107,73)\"],[0.7529411764705882,\"rgb(244,135,95)\"],[0.8156862745098039,\"rgb(245,162,122)\"],[0.8784313725490196,\"rgb(246,188,153)\"],[0.9411764705882353,\"rgb(247,212,187)\"],[1.0,\"rgb(250,234,220)\"]],\"type\":\"contour\"}],\"contourcarpet\":[{\"colorbar\":{\"outlinewidth\":0,\"tickcolor\":\"rgb(36,36,36)\",\"ticklen\":8,\"ticks\":\"outside\",\"tickwidth\":2},\"type\":\"contourcarpet\"}],\"heatmap\":[{\"colorbar\":{\"outlinewidth\":0,\"tickcolor\":\"rgb(36,36,36)\",\"ticklen\":8,\"ticks\":\"outside\",\"tickwidth\":2},\"colorscale\":[[0.0,\"rgb(2,4,25)\"],[0.06274509803921569,\"rgb(24,15,41)\"],[0.12549019607843137,\"rgb(47,23,57)\"],[0.18823529411764706,\"rgb(71,28,72)\"],[0.25098039215686274,\"rgb(97,30,82)\"],[0.3137254901960784,\"rgb(123,30,89)\"],[0.3764705882352941,\"rgb(150,27,91)\"],[0.4392156862745098,\"rgb(177,22,88)\"],[0.5019607843137255,\"rgb(203,26,79)\"],[0.5647058823529412,\"rgb(223,47,67)\"],[0.6274509803921569,\"rgb(236,76,61)\"],[0.6901960784313725,\"rgb(242,107,73)\"],[0.7529411764705882,\"rgb(244,135,95)\"],[0.8156862745098039,\"rgb(245,162,122)\"],[0.8784313725490196,\"rgb(246,188,153)\"],[0.9411764705882353,\"rgb(247,212,187)\"],[1.0,\"rgb(250,234,220)\"]],\"type\":\"heatmap\"}],\"heatmapgl\":[{\"colorbar\":{\"outlinewidth\":0,\"tickcolor\":\"rgb(36,36,36)\",\"ticklen\":8,\"ticks\":\"outside\",\"tickwidth\":2},\"colorscale\":[[0.0,\"rgb(2,4,25)\"],[0.06274509803921569,\"rgb(24,15,41)\"],[0.12549019607843137,\"rgb(47,23,57)\"],[0.18823529411764706,\"rgb(71,28,72)\"],[0.25098039215686274,\"rgb(97,30,82)\"],[0.3137254901960784,\"rgb(123,30,89)\"],[0.3764705882352941,\"rgb(150,27,91)\"],[0.4392156862745098,\"rgb(177,22,88)\"],[0.5019607843137255,\"rgb(203,26,79)\"],[0.5647058823529412,\"rgb(223,47,67)\"],[0.6274509803921569,\"rgb(236,76,61)\"],[0.6901960784313725,\"rgb(242,107,73)\"],[0.7529411764705882,\"rgb(244,135,95)\"],[0.8156862745098039,\"rgb(245,162,122)\"],[0.8784313725490196,\"rgb(246,188,153)\"],[0.9411764705882353,\"rgb(247,212,187)\"],[1.0,\"rgb(250,234,220)\"]],\"type\":\"heatmapgl\"}],\"histogram\":[{\"marker\":{\"pattern\":{\"fillmode\":\"overlay\",\"size\":10,\"solidity\":0.2}},\"type\":\"histogram\"}],\"histogram2d\":[{\"colorbar\":{\"outlinewidth\":0,\"tickcolor\":\"rgb(36,36,36)\",\"ticklen\":8,\"ticks\":\"outside\",\"tickwidth\":2},\"colorscale\":[[0.0,\"rgb(2,4,25)\"],[0.06274509803921569,\"rgb(24,15,41)\"],[0.12549019607843137,\"rgb(47,23,57)\"],[0.18823529411764706,\"rgb(71,28,72)\"],[0.25098039215686274,\"rgb(97,30,82)\"],[0.3137254901960784,\"rgb(123,30,89)\"],[0.3764705882352941,\"rgb(150,27,91)\"],[0.4392156862745098,\"rgb(177,22,88)\"],[0.5019607843137255,\"rgb(203,26,79)\"],[0.5647058823529412,\"rgb(223,47,67)\"],[0.6274509803921569,\"rgb(236,76,61)\"],[0.6901960784313725,\"rgb(242,107,73)\"],[0.7529411764705882,\"rgb(244,135,95)\"],[0.8156862745098039,\"rgb(245,162,122)\"],[0.8784313725490196,\"rgb(246,188,153)\"],[0.9411764705882353,\"rgb(247,212,187)\"],[1.0,\"rgb(250,234,220)\"]],\"type\":\"histogram2d\"}],\"histogram2dcontour\":[{\"colorbar\":{\"outlinewidth\":0,\"tickcolor\":\"rgb(36,36,36)\",\"ticklen\":8,\"ticks\":\"outside\",\"tickwidth\":2},\"colorscale\":[[0.0,\"rgb(2,4,25)\"],[0.06274509803921569,\"rgb(24,15,41)\"],[0.12549019607843137,\"rgb(47,23,57)\"],[0.18823529411764706,\"rgb(71,28,72)\"],[0.25098039215686274,\"rgb(97,30,82)\"],[0.3137254901960784,\"rgb(123,30,89)\"],[0.3764705882352941,\"rgb(150,27,91)\"],[0.4392156862745098,\"rgb(177,22,88)\"],[0.5019607843137255,\"rgb(203,26,79)\"],[0.5647058823529412,\"rgb(223,47,67)\"],[0.6274509803921569,\"rgb(236,76,61)\"],[0.6901960784313725,\"rgb(242,107,73)\"],[0.7529411764705882,\"rgb(244,135,95)\"],[0.8156862745098039,\"rgb(245,162,122)\"],[0.8784313725490196,\"rgb(246,188,153)\"],[0.9411764705882353,\"rgb(247,212,187)\"],[1.0,\"rgb(250,234,220)\"]],\"type\":\"histogram2dcontour\"}],\"mesh3d\":[{\"colorbar\":{\"outlinewidth\":0,\"tickcolor\":\"rgb(36,36,36)\",\"ticklen\":8,\"ticks\":\"outside\",\"tickwidth\":2},\"type\":\"mesh3d\"}],\"parcoords\":[{\"line\":{\"colorbar\":{\"outlinewidth\":0,\"tickcolor\":\"rgb(36,36,36)\",\"ticklen\":8,\"ticks\":\"outside\",\"tickwidth\":2}},\"type\":\"parcoords\"}],\"pie\":[{\"automargin\":true,\"type\":\"pie\"}],\"scatter\":[{\"marker\":{\"colorbar\":{\"outlinewidth\":0,\"tickcolor\":\"rgb(36,36,36)\",\"ticklen\":8,\"ticks\":\"outside\",\"tickwidth\":2}},\"type\":\"scatter\"}],\"scatter3d\":[{\"line\":{\"colorbar\":{\"outlinewidth\":0,\"tickcolor\":\"rgb(36,36,36)\",\"ticklen\":8,\"ticks\":\"outside\",\"tickwidth\":2}},\"marker\":{\"colorbar\":{\"outlinewidth\":0,\"tickcolor\":\"rgb(36,36,36)\",\"ticklen\":8,\"ticks\":\"outside\",\"tickwidth\":2}},\"type\":\"scatter3d\"}],\"scattercarpet\":[{\"marker\":{\"colorbar\":{\"outlinewidth\":0,\"tickcolor\":\"rgb(36,36,36)\",\"ticklen\":8,\"ticks\":\"outside\",\"tickwidth\":2}},\"type\":\"scattercarpet\"}],\"scattergeo\":[{\"marker\":{\"colorbar\":{\"outlinewidth\":0,\"tickcolor\":\"rgb(36,36,36)\",\"ticklen\":8,\"ticks\":\"outside\",\"tickwidth\":2}},\"type\":\"scattergeo\"}],\"scattergl\":[{\"marker\":{\"colorbar\":{\"outlinewidth\":0,\"tickcolor\":\"rgb(36,36,36)\",\"ticklen\":8,\"ticks\":\"outside\",\"tickwidth\":2}},\"type\":\"scattergl\"}],\"scattermapbox\":[{\"marker\":{\"colorbar\":{\"outlinewidth\":0,\"tickcolor\":\"rgb(36,36,36)\",\"ticklen\":8,\"ticks\":\"outside\",\"tickwidth\":2}},\"type\":\"scattermapbox\"}],\"scatterpolar\":[{\"marker\":{\"colorbar\":{\"outlinewidth\":0,\"tickcolor\":\"rgb(36,36,36)\",\"ticklen\":8,\"ticks\":\"outside\",\"tickwidth\":2}},\"type\":\"scatterpolar\"}],\"scatterpolargl\":[{\"marker\":{\"colorbar\":{\"outlinewidth\":0,\"tickcolor\":\"rgb(36,36,36)\",\"ticklen\":8,\"ticks\":\"outside\",\"tickwidth\":2}},\"type\":\"scatterpolargl\"}],\"scatterternary\":[{\"marker\":{\"colorbar\":{\"outlinewidth\":0,\"tickcolor\":\"rgb(36,36,36)\",\"ticklen\":8,\"ticks\":\"outside\",\"tickwidth\":2}},\"type\":\"scatterternary\"}],\"surface\":[{\"colorbar\":{\"outlinewidth\":0,\"tickcolor\":\"rgb(36,36,36)\",\"ticklen\":8,\"ticks\":\"outside\",\"tickwidth\":2},\"colorscale\":[[0.0,\"rgb(2,4,25)\"],[0.06274509803921569,\"rgb(24,15,41)\"],[0.12549019607843137,\"rgb(47,23,57)\"],[0.18823529411764706,\"rgb(71,28,72)\"],[0.25098039215686274,\"rgb(97,30,82)\"],[0.3137254901960784,\"rgb(123,30,89)\"],[0.3764705882352941,\"rgb(150,27,91)\"],[0.4392156862745098,\"rgb(177,22,88)\"],[0.5019607843137255,\"rgb(203,26,79)\"],[0.5647058823529412,\"rgb(223,47,67)\"],[0.6274509803921569,\"rgb(236,76,61)\"],[0.6901960784313725,\"rgb(242,107,73)\"],[0.7529411764705882,\"rgb(244,135,95)\"],[0.8156862745098039,\"rgb(245,162,122)\"],[0.8784313725490196,\"rgb(246,188,153)\"],[0.9411764705882353,\"rgb(247,212,187)\"],[1.0,\"rgb(250,234,220)\"]],\"type\":\"surface\"}],\"table\":[{\"cells\":{\"fill\":{\"color\":\"rgb(231,231,240)\"},\"line\":{\"color\":\"white\"}},\"header\":{\"fill\":{\"color\":\"rgb(183,183,191)\"},\"line\":{\"color\":\"white\"}},\"type\":\"table\"}]},\"layout\":{\"annotationdefaults\":{\"arrowcolor\":\"rgb(67,103,167)\"},\"autotypenumbers\":\"strict\",\"coloraxis\":{\"colorbar\":{\"outlinewidth\":0,\"tickcolor\":\"rgb(36,36,36)\",\"ticklen\":8,\"ticks\":\"outside\",\"tickwidth\":2}},\"colorscale\":{\"sequential\":[[0.0,\"rgb(2,4,25)\"],[0.06274509803921569,\"rgb(24,15,41)\"],[0.12549019607843137,\"rgb(47,23,57)\"],[0.18823529411764706,\"rgb(71,28,72)\"],[0.25098039215686274,\"rgb(97,30,82)\"],[0.3137254901960784,\"rgb(123,30,89)\"],[0.3764705882352941,\"rgb(150,27,91)\"],[0.4392156862745098,\"rgb(177,22,88)\"],[0.5019607843137255,\"rgb(203,26,79)\"],[0.5647058823529412,\"rgb(223,47,67)\"],[0.6274509803921569,\"rgb(236,76,61)\"],[0.6901960784313725,\"rgb(242,107,73)\"],[0.7529411764705882,\"rgb(244,135,95)\"],[0.8156862745098039,\"rgb(245,162,122)\"],[0.8784313725490196,\"rgb(246,188,153)\"],[0.9411764705882353,\"rgb(247,212,187)\"],[1.0,\"rgb(250,234,220)\"]],\"sequentialminus\":[[0.0,\"rgb(2,4,25)\"],[0.06274509803921569,\"rgb(24,15,41)\"],[0.12549019607843137,\"rgb(47,23,57)\"],[0.18823529411764706,\"rgb(71,28,72)\"],[0.25098039215686274,\"rgb(97,30,82)\"],[0.3137254901960784,\"rgb(123,30,89)\"],[0.3764705882352941,\"rgb(150,27,91)\"],[0.4392156862745098,\"rgb(177,22,88)\"],[0.5019607843137255,\"rgb(203,26,79)\"],[0.5647058823529412,\"rgb(223,47,67)\"],[0.6274509803921569,\"rgb(236,76,61)\"],[0.6901960784313725,\"rgb(242,107,73)\"],[0.7529411764705882,\"rgb(244,135,95)\"],[0.8156862745098039,\"rgb(245,162,122)\"],[0.8784313725490196,\"rgb(246,188,153)\"],[0.9411764705882353,\"rgb(247,212,187)\"],[1.0,\"rgb(250,234,220)\"]]},\"colorway\":[\"rgb(76,114,176)\",\"rgb(221,132,82)\",\"rgb(85,168,104)\",\"rgb(196,78,82)\",\"rgb(129,114,179)\",\"rgb(147,120,96)\",\"rgb(218,139,195)\",\"rgb(140,140,140)\",\"rgb(204,185,116)\",\"rgb(100,181,205)\"],\"font\":{\"color\":\"rgb(36,36,36)\"},\"geo\":{\"bgcolor\":\"white\",\"lakecolor\":\"white\",\"landcolor\":\"rgb(234,234,242)\",\"showlakes\":true,\"showland\":true,\"subunitcolor\":\"white\"},\"hoverlabel\":{\"align\":\"left\"},\"hovermode\":\"closest\",\"paper_bgcolor\":\"white\",\"plot_bgcolor\":\"rgb(234,234,242)\",\"polar\":{\"angularaxis\":{\"gridcolor\":\"white\",\"linecolor\":\"white\",\"showgrid\":true,\"ticks\":\"\"},\"bgcolor\":\"rgb(234,234,242)\",\"radialaxis\":{\"gridcolor\":\"white\",\"linecolor\":\"white\",\"showgrid\":true,\"ticks\":\"\"}},\"scene\":{\"xaxis\":{\"backgroundcolor\":\"rgb(234,234,242)\",\"gridcolor\":\"white\",\"gridwidth\":2,\"linecolor\":\"white\",\"showbackground\":true,\"showgrid\":true,\"ticks\":\"\",\"zerolinecolor\":\"white\"},\"yaxis\":{\"backgroundcolor\":\"rgb(234,234,242)\",\"gridcolor\":\"white\",\"gridwidth\":2,\"linecolor\":\"white\",\"showbackground\":true,\"showgrid\":true,\"ticks\":\"\",\"zerolinecolor\":\"white\"},\"zaxis\":{\"backgroundcolor\":\"rgb(234,234,242)\",\"gridcolor\":\"white\",\"gridwidth\":2,\"linecolor\":\"white\",\"showbackground\":true,\"showgrid\":true,\"ticks\":\"\",\"zerolinecolor\":\"white\"}},\"shapedefaults\":{\"fillcolor\":\"rgb(67,103,167)\",\"line\":{\"width\":0},\"opacity\":0.5},\"ternary\":{\"aaxis\":{\"gridcolor\":\"white\",\"linecolor\":\"white\",\"showgrid\":true,\"ticks\":\"\"},\"baxis\":{\"gridcolor\":\"white\",\"linecolor\":\"white\",\"showgrid\":true,\"ticks\":\"\"},\"bgcolor\":\"rgb(234,234,242)\",\"caxis\":{\"gridcolor\":\"white\",\"linecolor\":\"white\",\"showgrid\":true,\"ticks\":\"\"}},\"xaxis\":{\"automargin\":true,\"gridcolor\":\"white\",\"linecolor\":\"white\",\"showgrid\":true,\"ticks\":\"\",\"title\":{\"standoff\":15},\"zerolinecolor\":\"white\"},\"yaxis\":{\"automargin\":true,\"gridcolor\":\"white\",\"linecolor\":\"white\",\"showgrid\":true,\"ticks\":\"\",\"title\":{\"standoff\":15},\"zerolinecolor\":\"white\"}}},\"title\":{\"text\":\"Average user ratings of the top rated 15 developers(over 500 reviews)\"},\"xaxis\":{\"tickfont\":{\"size\":15},\"title\":{\"text\":\"Developer\"}},\"yaxis\":{\"range\":[0,5],\"title\":{\"text\":\"Average user rating\"}}},                        {\"responsive\": true}                    ).then(function(){\n",
       "                            \n",
       "var gd = document.getElementById('cc966820-6ae0-412d-a494-3b073bcab393');\n",
       "var x = new MutationObserver(function (mutations, observer) {{\n",
       "        var display = window.getComputedStyle(gd).display;\n",
       "        if (!display || display === 'none') {{\n",
       "            console.log([gd, 'removed!']);\n",
       "            Plotly.purge(gd);\n",
       "            observer.disconnect();\n",
       "        }}\n",
       "}});\n",
       "\n",
       "// Listen for the removal of the full notebook cells\n",
       "var notebookContainer = gd.closest('#notebook-container');\n",
       "if (notebookContainer) {{\n",
       "    x.observe(notebookContainer, {childList: true});\n",
       "}}\n",
       "\n",
       "// Listen for the clearing of the current output cell\n",
       "var outputEl = gd.closest('.output');\n",
       "if (outputEl) {{\n",
       "    x.observe(outputEl, {childList: true});\n",
       "}}\n",
       "\n",
       "                        })                };                });            </script>        </div>"
      ]
     },
     "metadata": {},
     "output_type": "display_data"
    }
   ],
   "source": [
    "fig = go.Figure(data=[\n",
    "    go.Bar(name='Primary', x =top_dev_ratings.index  ,y = top_dev_ratings['Average User Rating'], text= top_dev_ratings['Average User Rating'], marker_color='yellow')])\n",
    "fig.update_layout(hoverlabel=dict(font=dict(family='sans-serif', size=20)),barmode='relative', template='seaborn', title_text='Average user ratings of the top rated 15 developers(over 500 reviews)', font_family=\"Courier New\")\n",
    "fig.update_yaxes(title_text='Average user rating', range=[0,5])\n",
    "fig.update_xaxes(title_text='Developer',tickfont_size=15)\n",
    "fig.show()  "
   ]
  },
  {
   "cell_type": "code",
   "execution_count": 46,
   "id": "44528581",
   "metadata": {
    "execution": {
     "iopub.execute_input": "2021-09-20T01:49:59.464646Z",
     "iopub.status.busy": "2021-09-20T01:49:59.459373Z",
     "iopub.status.idle": "2021-09-20T01:49:59.490419Z",
     "shell.execute_reply": "2021-09-20T01:49:59.490918Z",
     "shell.execute_reply.started": "2021-09-20T01:35:44.167947Z"
    },
    "papermill": {
     "duration": 0.155877,
     "end_time": "2021-09-20T01:49:59.491127",
     "exception": false,
     "start_time": "2021-09-20T01:49:59.335250",
     "status": "completed"
    },
    "tags": []
   },
   "outputs": [
    {
     "data": {
      "text/html": [
       "<div>                            <div id=\"7858c905-3d41-4603-acec-cadca3c4359c\" class=\"plotly-graph-div\" style=\"height:525px; width:100%;\"></div>            <script type=\"text/javascript\">                require([\"plotly\"], function(Plotly) {                    window.PLOTLYENV=window.PLOTLYENV || {};                                    if (document.getElementById(\"7858c905-3d41-4603-acec-cadca3c4359c\")) {                    Plotly.newPlot(                        \"7858c905-3d41-4603-acec-cadca3c4359c\",                        [{\"marker\":{\"color\":\"darkgreen\"},\"name\":\"Primary\",\"text\":[1.5,2.0,2.0,2.0,2.0,2.0,2.5,2.5,2.5,2.5,2.5,2.5,2.5,2.5,2.5],\"type\":\"bar\",\"x\":[\"AppLife Ltd\",\"Bata Construction\",\"Belprog Belprog\",\"RESETgame\",\"Danny Aijala\",\"osnine\",\"Yu Feng\",\"Ilium Software, Inc.\",\"Heiko Hambrock\",\"Shengqiang Xia\",\"Solus Games\",\"Aleksejs Voloviks\",\"Aesthetic Interactive\",\"MindJolt\",\"Steve Tranby\"],\"y\":[1.5,2.0,2.0,2.0,2.0,2.0,2.5,2.5,2.5,2.5,2.5,2.5,2.5,2.5,2.5]}],                        {\"barmode\":\"relative\",\"font\":{\"family\":\"Courier New\"},\"hoverlabel\":{\"font\":{\"family\":\"sans-serif\",\"size\":20}},\"template\":{\"data\":{\"bar\":[{\"error_x\":{\"color\":\"rgb(36,36,36)\"},\"error_y\":{\"color\":\"rgb(36,36,36)\"},\"marker\":{\"line\":{\"color\":\"rgb(234,234,242)\",\"width\":0.5},\"pattern\":{\"fillmode\":\"overlay\",\"size\":10,\"solidity\":0.2}},\"type\":\"bar\"}],\"barpolar\":[{\"marker\":{\"line\":{\"color\":\"rgb(234,234,242)\",\"width\":0.5},\"pattern\":{\"fillmode\":\"overlay\",\"size\":10,\"solidity\":0.2}},\"type\":\"barpolar\"}],\"carpet\":[{\"aaxis\":{\"endlinecolor\":\"rgb(36,36,36)\",\"gridcolor\":\"white\",\"linecolor\":\"white\",\"minorgridcolor\":\"white\",\"startlinecolor\":\"rgb(36,36,36)\"},\"baxis\":{\"endlinecolor\":\"rgb(36,36,36)\",\"gridcolor\":\"white\",\"linecolor\":\"white\",\"minorgridcolor\":\"white\",\"startlinecolor\":\"rgb(36,36,36)\"},\"type\":\"carpet\"}],\"choropleth\":[{\"colorbar\":{\"outlinewidth\":0,\"tickcolor\":\"rgb(36,36,36)\",\"ticklen\":8,\"ticks\":\"outside\",\"tickwidth\":2},\"type\":\"choropleth\"}],\"contour\":[{\"colorbar\":{\"outlinewidth\":0,\"tickcolor\":\"rgb(36,36,36)\",\"ticklen\":8,\"ticks\":\"outside\",\"tickwidth\":2},\"colorscale\":[[0.0,\"rgb(2,4,25)\"],[0.06274509803921569,\"rgb(24,15,41)\"],[0.12549019607843137,\"rgb(47,23,57)\"],[0.18823529411764706,\"rgb(71,28,72)\"],[0.25098039215686274,\"rgb(97,30,82)\"],[0.3137254901960784,\"rgb(123,30,89)\"],[0.3764705882352941,\"rgb(150,27,91)\"],[0.4392156862745098,\"rgb(177,22,88)\"],[0.5019607843137255,\"rgb(203,26,79)\"],[0.5647058823529412,\"rgb(223,47,67)\"],[0.6274509803921569,\"rgb(236,76,61)\"],[0.6901960784313725,\"rgb(242,107,73)\"],[0.7529411764705882,\"rgb(244,135,95)\"],[0.8156862745098039,\"rgb(245,162,122)\"],[0.8784313725490196,\"rgb(246,188,153)\"],[0.9411764705882353,\"rgb(247,212,187)\"],[1.0,\"rgb(250,234,220)\"]],\"type\":\"contour\"}],\"contourcarpet\":[{\"colorbar\":{\"outlinewidth\":0,\"tickcolor\":\"rgb(36,36,36)\",\"ticklen\":8,\"ticks\":\"outside\",\"tickwidth\":2},\"type\":\"contourcarpet\"}],\"heatmap\":[{\"colorbar\":{\"outlinewidth\":0,\"tickcolor\":\"rgb(36,36,36)\",\"ticklen\":8,\"ticks\":\"outside\",\"tickwidth\":2},\"colorscale\":[[0.0,\"rgb(2,4,25)\"],[0.06274509803921569,\"rgb(24,15,41)\"],[0.12549019607843137,\"rgb(47,23,57)\"],[0.18823529411764706,\"rgb(71,28,72)\"],[0.25098039215686274,\"rgb(97,30,82)\"],[0.3137254901960784,\"rgb(123,30,89)\"],[0.3764705882352941,\"rgb(150,27,91)\"],[0.4392156862745098,\"rgb(177,22,88)\"],[0.5019607843137255,\"rgb(203,26,79)\"],[0.5647058823529412,\"rgb(223,47,67)\"],[0.6274509803921569,\"rgb(236,76,61)\"],[0.6901960784313725,\"rgb(242,107,73)\"],[0.7529411764705882,\"rgb(244,135,95)\"],[0.8156862745098039,\"rgb(245,162,122)\"],[0.8784313725490196,\"rgb(246,188,153)\"],[0.9411764705882353,\"rgb(247,212,187)\"],[1.0,\"rgb(250,234,220)\"]],\"type\":\"heatmap\"}],\"heatmapgl\":[{\"colorbar\":{\"outlinewidth\":0,\"tickcolor\":\"rgb(36,36,36)\",\"ticklen\":8,\"ticks\":\"outside\",\"tickwidth\":2},\"colorscale\":[[0.0,\"rgb(2,4,25)\"],[0.06274509803921569,\"rgb(24,15,41)\"],[0.12549019607843137,\"rgb(47,23,57)\"],[0.18823529411764706,\"rgb(71,28,72)\"],[0.25098039215686274,\"rgb(97,30,82)\"],[0.3137254901960784,\"rgb(123,30,89)\"],[0.3764705882352941,\"rgb(150,27,91)\"],[0.4392156862745098,\"rgb(177,22,88)\"],[0.5019607843137255,\"rgb(203,26,79)\"],[0.5647058823529412,\"rgb(223,47,67)\"],[0.6274509803921569,\"rgb(236,76,61)\"],[0.6901960784313725,\"rgb(242,107,73)\"],[0.7529411764705882,\"rgb(244,135,95)\"],[0.8156862745098039,\"rgb(245,162,122)\"],[0.8784313725490196,\"rgb(246,188,153)\"],[0.9411764705882353,\"rgb(247,212,187)\"],[1.0,\"rgb(250,234,220)\"]],\"type\":\"heatmapgl\"}],\"histogram\":[{\"marker\":{\"pattern\":{\"fillmode\":\"overlay\",\"size\":10,\"solidity\":0.2}},\"type\":\"histogram\"}],\"histogram2d\":[{\"colorbar\":{\"outlinewidth\":0,\"tickcolor\":\"rgb(36,36,36)\",\"ticklen\":8,\"ticks\":\"outside\",\"tickwidth\":2},\"colorscale\":[[0.0,\"rgb(2,4,25)\"],[0.06274509803921569,\"rgb(24,15,41)\"],[0.12549019607843137,\"rgb(47,23,57)\"],[0.18823529411764706,\"rgb(71,28,72)\"],[0.25098039215686274,\"rgb(97,30,82)\"],[0.3137254901960784,\"rgb(123,30,89)\"],[0.3764705882352941,\"rgb(150,27,91)\"],[0.4392156862745098,\"rgb(177,22,88)\"],[0.5019607843137255,\"rgb(203,26,79)\"],[0.5647058823529412,\"rgb(223,47,67)\"],[0.6274509803921569,\"rgb(236,76,61)\"],[0.6901960784313725,\"rgb(242,107,73)\"],[0.7529411764705882,\"rgb(244,135,95)\"],[0.8156862745098039,\"rgb(245,162,122)\"],[0.8784313725490196,\"rgb(246,188,153)\"],[0.9411764705882353,\"rgb(247,212,187)\"],[1.0,\"rgb(250,234,220)\"]],\"type\":\"histogram2d\"}],\"histogram2dcontour\":[{\"colorbar\":{\"outlinewidth\":0,\"tickcolor\":\"rgb(36,36,36)\",\"ticklen\":8,\"ticks\":\"outside\",\"tickwidth\":2},\"colorscale\":[[0.0,\"rgb(2,4,25)\"],[0.06274509803921569,\"rgb(24,15,41)\"],[0.12549019607843137,\"rgb(47,23,57)\"],[0.18823529411764706,\"rgb(71,28,72)\"],[0.25098039215686274,\"rgb(97,30,82)\"],[0.3137254901960784,\"rgb(123,30,89)\"],[0.3764705882352941,\"rgb(150,27,91)\"],[0.4392156862745098,\"rgb(177,22,88)\"],[0.5019607843137255,\"rgb(203,26,79)\"],[0.5647058823529412,\"rgb(223,47,67)\"],[0.6274509803921569,\"rgb(236,76,61)\"],[0.6901960784313725,\"rgb(242,107,73)\"],[0.7529411764705882,\"rgb(244,135,95)\"],[0.8156862745098039,\"rgb(245,162,122)\"],[0.8784313725490196,\"rgb(246,188,153)\"],[0.9411764705882353,\"rgb(247,212,187)\"],[1.0,\"rgb(250,234,220)\"]],\"type\":\"histogram2dcontour\"}],\"mesh3d\":[{\"colorbar\":{\"outlinewidth\":0,\"tickcolor\":\"rgb(36,36,36)\",\"ticklen\":8,\"ticks\":\"outside\",\"tickwidth\":2},\"type\":\"mesh3d\"}],\"parcoords\":[{\"line\":{\"colorbar\":{\"outlinewidth\":0,\"tickcolor\":\"rgb(36,36,36)\",\"ticklen\":8,\"ticks\":\"outside\",\"tickwidth\":2}},\"type\":\"parcoords\"}],\"pie\":[{\"automargin\":true,\"type\":\"pie\"}],\"scatter\":[{\"marker\":{\"colorbar\":{\"outlinewidth\":0,\"tickcolor\":\"rgb(36,36,36)\",\"ticklen\":8,\"ticks\":\"outside\",\"tickwidth\":2}},\"type\":\"scatter\"}],\"scatter3d\":[{\"line\":{\"colorbar\":{\"outlinewidth\":0,\"tickcolor\":\"rgb(36,36,36)\",\"ticklen\":8,\"ticks\":\"outside\",\"tickwidth\":2}},\"marker\":{\"colorbar\":{\"outlinewidth\":0,\"tickcolor\":\"rgb(36,36,36)\",\"ticklen\":8,\"ticks\":\"outside\",\"tickwidth\":2}},\"type\":\"scatter3d\"}],\"scattercarpet\":[{\"marker\":{\"colorbar\":{\"outlinewidth\":0,\"tickcolor\":\"rgb(36,36,36)\",\"ticklen\":8,\"ticks\":\"outside\",\"tickwidth\":2}},\"type\":\"scattercarpet\"}],\"scattergeo\":[{\"marker\":{\"colorbar\":{\"outlinewidth\":0,\"tickcolor\":\"rgb(36,36,36)\",\"ticklen\":8,\"ticks\":\"outside\",\"tickwidth\":2}},\"type\":\"scattergeo\"}],\"scattergl\":[{\"marker\":{\"colorbar\":{\"outlinewidth\":0,\"tickcolor\":\"rgb(36,36,36)\",\"ticklen\":8,\"ticks\":\"outside\",\"tickwidth\":2}},\"type\":\"scattergl\"}],\"scattermapbox\":[{\"marker\":{\"colorbar\":{\"outlinewidth\":0,\"tickcolor\":\"rgb(36,36,36)\",\"ticklen\":8,\"ticks\":\"outside\",\"tickwidth\":2}},\"type\":\"scattermapbox\"}],\"scatterpolar\":[{\"marker\":{\"colorbar\":{\"outlinewidth\":0,\"tickcolor\":\"rgb(36,36,36)\",\"ticklen\":8,\"ticks\":\"outside\",\"tickwidth\":2}},\"type\":\"scatterpolar\"}],\"scatterpolargl\":[{\"marker\":{\"colorbar\":{\"outlinewidth\":0,\"tickcolor\":\"rgb(36,36,36)\",\"ticklen\":8,\"ticks\":\"outside\",\"tickwidth\":2}},\"type\":\"scatterpolargl\"}],\"scatterternary\":[{\"marker\":{\"colorbar\":{\"outlinewidth\":0,\"tickcolor\":\"rgb(36,36,36)\",\"ticklen\":8,\"ticks\":\"outside\",\"tickwidth\":2}},\"type\":\"scatterternary\"}],\"surface\":[{\"colorbar\":{\"outlinewidth\":0,\"tickcolor\":\"rgb(36,36,36)\",\"ticklen\":8,\"ticks\":\"outside\",\"tickwidth\":2},\"colorscale\":[[0.0,\"rgb(2,4,25)\"],[0.06274509803921569,\"rgb(24,15,41)\"],[0.12549019607843137,\"rgb(47,23,57)\"],[0.18823529411764706,\"rgb(71,28,72)\"],[0.25098039215686274,\"rgb(97,30,82)\"],[0.3137254901960784,\"rgb(123,30,89)\"],[0.3764705882352941,\"rgb(150,27,91)\"],[0.4392156862745098,\"rgb(177,22,88)\"],[0.5019607843137255,\"rgb(203,26,79)\"],[0.5647058823529412,\"rgb(223,47,67)\"],[0.6274509803921569,\"rgb(236,76,61)\"],[0.6901960784313725,\"rgb(242,107,73)\"],[0.7529411764705882,\"rgb(244,135,95)\"],[0.8156862745098039,\"rgb(245,162,122)\"],[0.8784313725490196,\"rgb(246,188,153)\"],[0.9411764705882353,\"rgb(247,212,187)\"],[1.0,\"rgb(250,234,220)\"]],\"type\":\"surface\"}],\"table\":[{\"cells\":{\"fill\":{\"color\":\"rgb(231,231,240)\"},\"line\":{\"color\":\"white\"}},\"header\":{\"fill\":{\"color\":\"rgb(183,183,191)\"},\"line\":{\"color\":\"white\"}},\"type\":\"table\"}]},\"layout\":{\"annotationdefaults\":{\"arrowcolor\":\"rgb(67,103,167)\"},\"autotypenumbers\":\"strict\",\"coloraxis\":{\"colorbar\":{\"outlinewidth\":0,\"tickcolor\":\"rgb(36,36,36)\",\"ticklen\":8,\"ticks\":\"outside\",\"tickwidth\":2}},\"colorscale\":{\"sequential\":[[0.0,\"rgb(2,4,25)\"],[0.06274509803921569,\"rgb(24,15,41)\"],[0.12549019607843137,\"rgb(47,23,57)\"],[0.18823529411764706,\"rgb(71,28,72)\"],[0.25098039215686274,\"rgb(97,30,82)\"],[0.3137254901960784,\"rgb(123,30,89)\"],[0.3764705882352941,\"rgb(150,27,91)\"],[0.4392156862745098,\"rgb(177,22,88)\"],[0.5019607843137255,\"rgb(203,26,79)\"],[0.5647058823529412,\"rgb(223,47,67)\"],[0.6274509803921569,\"rgb(236,76,61)\"],[0.6901960784313725,\"rgb(242,107,73)\"],[0.7529411764705882,\"rgb(244,135,95)\"],[0.8156862745098039,\"rgb(245,162,122)\"],[0.8784313725490196,\"rgb(246,188,153)\"],[0.9411764705882353,\"rgb(247,212,187)\"],[1.0,\"rgb(250,234,220)\"]],\"sequentialminus\":[[0.0,\"rgb(2,4,25)\"],[0.06274509803921569,\"rgb(24,15,41)\"],[0.12549019607843137,\"rgb(47,23,57)\"],[0.18823529411764706,\"rgb(71,28,72)\"],[0.25098039215686274,\"rgb(97,30,82)\"],[0.3137254901960784,\"rgb(123,30,89)\"],[0.3764705882352941,\"rgb(150,27,91)\"],[0.4392156862745098,\"rgb(177,22,88)\"],[0.5019607843137255,\"rgb(203,26,79)\"],[0.5647058823529412,\"rgb(223,47,67)\"],[0.6274509803921569,\"rgb(236,76,61)\"],[0.6901960784313725,\"rgb(242,107,73)\"],[0.7529411764705882,\"rgb(244,135,95)\"],[0.8156862745098039,\"rgb(245,162,122)\"],[0.8784313725490196,\"rgb(246,188,153)\"],[0.9411764705882353,\"rgb(247,212,187)\"],[1.0,\"rgb(250,234,220)\"]]},\"colorway\":[\"rgb(76,114,176)\",\"rgb(221,132,82)\",\"rgb(85,168,104)\",\"rgb(196,78,82)\",\"rgb(129,114,179)\",\"rgb(147,120,96)\",\"rgb(218,139,195)\",\"rgb(140,140,140)\",\"rgb(204,185,116)\",\"rgb(100,181,205)\"],\"font\":{\"color\":\"rgb(36,36,36)\"},\"geo\":{\"bgcolor\":\"white\",\"lakecolor\":\"white\",\"landcolor\":\"rgb(234,234,242)\",\"showlakes\":true,\"showland\":true,\"subunitcolor\":\"white\"},\"hoverlabel\":{\"align\":\"left\"},\"hovermode\":\"closest\",\"paper_bgcolor\":\"white\",\"plot_bgcolor\":\"rgb(234,234,242)\",\"polar\":{\"angularaxis\":{\"gridcolor\":\"white\",\"linecolor\":\"white\",\"showgrid\":true,\"ticks\":\"\"},\"bgcolor\":\"rgb(234,234,242)\",\"radialaxis\":{\"gridcolor\":\"white\",\"linecolor\":\"white\",\"showgrid\":true,\"ticks\":\"\"}},\"scene\":{\"xaxis\":{\"backgroundcolor\":\"rgb(234,234,242)\",\"gridcolor\":\"white\",\"gridwidth\":2,\"linecolor\":\"white\",\"showbackground\":true,\"showgrid\":true,\"ticks\":\"\",\"zerolinecolor\":\"white\"},\"yaxis\":{\"backgroundcolor\":\"rgb(234,234,242)\",\"gridcolor\":\"white\",\"gridwidth\":2,\"linecolor\":\"white\",\"showbackground\":true,\"showgrid\":true,\"ticks\":\"\",\"zerolinecolor\":\"white\"},\"zaxis\":{\"backgroundcolor\":\"rgb(234,234,242)\",\"gridcolor\":\"white\",\"gridwidth\":2,\"linecolor\":\"white\",\"showbackground\":true,\"showgrid\":true,\"ticks\":\"\",\"zerolinecolor\":\"white\"}},\"shapedefaults\":{\"fillcolor\":\"rgb(67,103,167)\",\"line\":{\"width\":0},\"opacity\":0.5},\"ternary\":{\"aaxis\":{\"gridcolor\":\"white\",\"linecolor\":\"white\",\"showgrid\":true,\"ticks\":\"\"},\"baxis\":{\"gridcolor\":\"white\",\"linecolor\":\"white\",\"showgrid\":true,\"ticks\":\"\"},\"bgcolor\":\"rgb(234,234,242)\",\"caxis\":{\"gridcolor\":\"white\",\"linecolor\":\"white\",\"showgrid\":true,\"ticks\":\"\"}},\"xaxis\":{\"automargin\":true,\"gridcolor\":\"white\",\"linecolor\":\"white\",\"showgrid\":true,\"ticks\":\"\",\"title\":{\"standoff\":15},\"zerolinecolor\":\"white\"},\"yaxis\":{\"automargin\":true,\"gridcolor\":\"white\",\"linecolor\":\"white\",\"showgrid\":true,\"ticks\":\"\",\"title\":{\"standoff\":15},\"zerolinecolor\":\"white\"}}},\"title\":{\"text\":\"Average user ratings of the lowest rated 15 developers(over 500 reviews)\"},\"xaxis\":{\"tickfont\":{\"size\":15},\"title\":{\"text\":\"Developer\"}},\"yaxis\":{\"range\":[0,5],\"title\":{\"text\":\"Average user rating\"}}},                        {\"responsive\": true}                    ).then(function(){\n",
       "                            \n",
       "var gd = document.getElementById('7858c905-3d41-4603-acec-cadca3c4359c');\n",
       "var x = new MutationObserver(function (mutations, observer) {{\n",
       "        var display = window.getComputedStyle(gd).display;\n",
       "        if (!display || display === 'none') {{\n",
       "            console.log([gd, 'removed!']);\n",
       "            Plotly.purge(gd);\n",
       "            observer.disconnect();\n",
       "        }}\n",
       "}});\n",
       "\n",
       "// Listen for the removal of the full notebook cells\n",
       "var notebookContainer = gd.closest('#notebook-container');\n",
       "if (notebookContainer) {{\n",
       "    x.observe(notebookContainer, {childList: true});\n",
       "}}\n",
       "\n",
       "// Listen for the clearing of the current output cell\n",
       "var outputEl = gd.closest('.output');\n",
       "if (outputEl) {{\n",
       "    x.observe(outputEl, {childList: true});\n",
       "}}\n",
       "\n",
       "                        })                };                });            </script>        </div>"
      ]
     },
     "metadata": {},
     "output_type": "display_data"
    }
   ],
   "source": [
    "fig = go.Figure(data=[\n",
    "    go.Bar(name='Primary', x =low_dev_ratings.index  ,y =low_dev_ratings['Average User Rating'], text=low_dev_ratings['Average User Rating'], marker_color='darkgreen')])\n",
    "fig.update_layout(hoverlabel=dict(font=dict(family='sans-serif', size=20)),barmode='relative', template='seaborn', title_text='Average user ratings of the lowest rated 15 developers(over 500 reviews)', font_family=\"Courier New\")\n",
    "fig.update_yaxes(title_text='Average user rating', range=[0,5])\n",
    "fig.update_xaxes(title_text='Developer',tickfont_size=15)\n",
    "fig.show()  "
   ]
  },
  {
   "cell_type": "markdown",
   "id": "76fbb61a",
   "metadata": {
    "papermill": {
     "duration": 0.095854,
     "end_time": "2021-09-20T01:49:59.689376",
     "exception": false,
     "start_time": "2021-09-20T01:49:59.593522",
     "status": "completed"
    },
    "tags": []
   },
   "source": [
    "### What are the most common words used in app descriptions?"
   ]
  },
  {
   "cell_type": "code",
   "execution_count": 47,
   "id": "73fc86d2",
   "metadata": {
    "execution": {
     "iopub.execute_input": "2021-09-20T01:49:59.897386Z",
     "iopub.status.busy": "2021-09-20T01:49:59.895593Z",
     "iopub.status.idle": "2021-09-20T01:50:15.547086Z",
     "shell.execute_reply": "2021-09-20T01:50:15.547577Z",
     "shell.execute_reply.started": "2021-09-20T01:35:44.233674Z"
    },
    "papermill": {
     "duration": 15.761481,
     "end_time": "2021-09-20T01:50:15.547744",
     "exception": false,
     "start_time": "2021-09-20T01:49:59.786263",
     "status": "completed"
    },
    "tags": []
   },
   "outputs": [
    {
     "data": {
      "image/png": "[encoded data removed]",
      "text/plain": [
       "<Figure size 1080x576 with 1 Axes>"
      ]
     },
     "metadata": {
      "needs_background": "light"
     },
     "output_type": "display_data"
    }
   ],
   "source": [
    "f,ax= plt.subplots(figsize=(15,8))\n",
    "wordcloud = WordCloud(background_color='white',width=750, height=750).generate(' '.join(descriptions))\n",
    "plt.imshow(wordcloud)\n",
    "plt.axis('off')\n",
    "plt.title('Most common words in app descriptions')\n",
    "plt.show()"
   ]
  },
  {
   "cell_type": "markdown",
   "id": "2e285cf1",
   "metadata": {
    "papermill": {
     "duration": 0.102344,
     "end_time": "2021-09-20T01:50:15.753605",
     "exception": false,
     "start_time": "2021-09-20T01:50:15.651261",
     "status": "completed"
    },
    "tags": []
   },
   "source": [
    "###  Change in Price, Size, and User rating count throughout the years."
   ]
  },
  {
   "cell_type": "code",
   "execution_count": 48,
   "id": "cd27a110",
   "metadata": {
    "execution": {
     "iopub.execute_input": "2021-09-20T01:50:15.961426Z",
     "iopub.status.busy": "2021-09-20T01:50:15.960683Z",
     "iopub.status.idle": "2021-09-20T01:50:16.563737Z",
     "shell.execute_reply": "2021-09-20T01:50:16.564278Z",
     "shell.execute_reply.started": "2021-09-20T01:36:01.961618Z"
    },
    "papermill": {
     "duration": 0.708436,
     "end_time": "2021-09-20T01:50:16.564447",
     "exception": false,
     "start_time": "2021-09-20T01:50:15.856011",
     "status": "completed"
    },
    "tags": []
   },
   "outputs": [
    {
     "data": {
      "image/png": "[encoded data removed]",
      "text/plain": [
       "<Figure size 1872x540 with 3 Axes>"
      ]
     },
     "metadata": {
      "needs_background": "light"
     },
     "output_type": "display_data"
    }
   ],
   "source": [
    "ord_price = games.groupby('Original Release Date')[['Price']].mean()\n",
    "ord_size = games.groupby('Original Release Date')[['Size']].mean()\n",
    "ord_urc = games.groupby('Original Release Date')[['User Rating Count']].mean()\n",
    "\n",
    "fig, ax = plt.subplots(1, 3, figsize=(26, 7.5))\n",
    "\n",
    "sns.lineplot(x='Original Release Date', y='Price', data=ord_price, color = 'darkred', ax=ax[0], marker='o', linewidth = 2)\n",
    "ax[0].set_title('Change in app price though 2008-2019', fontsize = 15)\n",
    "ax[0].tick_params(labelsize=12.6)\n",
    "ax[0].set_xlabel('Year',fontsize = 18)\n",
    "ax[0].set_ylabel('Price',fontsize = 18)\n",
    "\n",
    "sns.lineplot(x='Original Release Date', y='Size', data=ord_size, color = 'darkblue', ax=ax[1], marker='o', linewidth = 2)\n",
    "ax[1].set_title('Change in app size though 2008-2019', fontsize = 15)\n",
    "ax[1].tick_params(labelsize=12.6)\n",
    "ax[1].set_xlabel('Year',fontsize = 18)\n",
    "ax[1].set_ylabel('Size',fontsize = 18)\n",
    "\n",
    "sns.lineplot(x='Original Release Date', y='User Rating Count', data=ord_urc, color = 'darkgreen', ax=ax[2], marker='o', linewidth = 2)\n",
    "ax[2].set_title('Change in user ratings though 2008-2019', fontsize = 15)\n",
    "ax[2].tick_params(labelsize=12.6)\n",
    "ax[2].set_xlabel('Year',fontsize = 18)\n",
    "ax[2].set_ylabel('User Rating Count',fontsize = 18)\n",
    "\n",
    "plt.show()"
   ]
  },
  {
   "cell_type": "markdown",
   "id": "eccc2dd6",
   "metadata": {
    "papermill": {
     "duration": 0.105237,
     "end_time": "2021-09-20T01:50:16.774213",
     "exception": false,
     "start_time": "2021-09-20T01:50:16.668976",
     "status": "completed"
    },
    "tags": []
   },
   "source": [
    "### Top 5 apps with the perfect rating and highest rating count."
   ]
  },
  {
   "cell_type": "code",
   "execution_count": 49,
   "id": "953c9bbb",
   "metadata": {
    "execution": {
     "iopub.execute_input": "2021-09-20T01:50:16.987439Z",
     "iopub.status.busy": "2021-09-20T01:50:16.986715Z",
     "iopub.status.idle": "2021-09-20T01:50:17.002751Z",
     "shell.execute_reply": "2021-09-20T01:50:17.002041Z",
     "shell.execute_reply.started": "2021-09-20T01:36:02.586851Z"
    },
    "papermill": {
     "duration": 0.123815,
     "end_time": "2021-09-20T01:50:17.002889",
     "exception": false,
     "start_time": "2021-09-20T01:50:16.879074",
     "status": "completed"
    },
    "tags": []
   },
   "outputs": [
    {
     "data": {
      "text/html": [
       "<div>\n",
       "<style scoped>\n",
       "    .dataframe tbody tr th:only-of-type {\n",
       "        vertical-align: middle;\n",
       "    }\n",
       "\n",
       "    .dataframe tbody tr th {\n",
       "        vertical-align: top;\n",
       "    }\n",
       "\n",
       "    .dataframe thead th {\n",
       "        text-align: right;\n",
       "    }\n",
       "</style>\n",
       "<table border=\"1\" class=\"dataframe\">\n",
       "  <thead>\n",
       "    <tr style=\"text-align: right;\">\n",
       "      <th></th>\n",
       "      <th>Average User Rating</th>\n",
       "      <th>User Rating Count</th>\n",
       "    </tr>\n",
       "    <tr>\n",
       "      <th>Name</th>\n",
       "      <th></th>\n",
       "      <th></th>\n",
       "    </tr>\n",
       "  </thead>\n",
       "  <tbody>\n",
       "    <tr>\n",
       "      <th>Cash, Inc. Fame &amp; Fortune Game</th>\n",
       "      <td>5.0</td>\n",
       "      <td>374772.0</td>\n",
       "    </tr>\n",
       "    <tr>\n",
       "      <th>Egg, Inc.</th>\n",
       "      <td>5.0</td>\n",
       "      <td>174591.0</td>\n",
       "    </tr>\n",
       "    <tr>\n",
       "      <th>AFK Arena</th>\n",
       "      <td>5.0</td>\n",
       "      <td>156766.0</td>\n",
       "    </tr>\n",
       "    <tr>\n",
       "      <th>South Park: Phone Destroyer\\u2122</th>\n",
       "      <td>5.0</td>\n",
       "      <td>156044.0</td>\n",
       "    </tr>\n",
       "    <tr>\n",
       "      <th>From Zero to Hero: Cityman</th>\n",
       "      <td>5.0</td>\n",
       "      <td>146729.0</td>\n",
       "    </tr>\n",
       "  </tbody>\n",
       "</table>\n",
       "</div>"
      ],
      "text/plain": [
       "                                   Average User Rating  User Rating Count\n",
       "Name                                                                     \n",
       "Cash, Inc. Fame & Fortune Game                     5.0           374772.0\n",
       "Egg, Inc.                                          5.0           174591.0\n",
       "AFK Arena                                          5.0           156766.0\n",
       "South Park: Phone Destroyer\\u2122                  5.0           156044.0\n",
       "From Zero to Hero: Cityman                         5.0           146729.0"
      ]
     },
     "execution_count": 49,
     "metadata": {},
     "output_type": "execute_result"
    }
   ],
   "source": [
    "t5a = games.loc[(games['User Rating Count'] >= 100000)]\n",
    "t5a2 = t5a.loc[(t5a['Average User Rating'] == 5)]\n",
    "t5a3 = t5a2.groupby(['Name']).agg({\"Average User Rating\":\"sum\", \"User Rating Count\":\"sum\"}).sort_values(by = 'User Rating Count', ascending = False).head(5)\n",
    "t5a3"
   ]
  },
  {
   "cell_type": "markdown",
   "id": "a8b87646",
   "metadata": {
    "papermill": {
     "duration": 0.105779,
     "end_time": "2021-09-20T01:50:17.215389",
     "exception": false,
     "start_time": "2021-09-20T01:50:17.109610",
     "status": "completed"
    },
    "tags": []
   },
   "source": [
    "## 7. Model preparation"
   ]
  },
  {
   "cell_type": "markdown",
   "id": "2cfe498c",
   "metadata": {
    "papermill": {
     "duration": 0.105326,
     "end_time": "2021-09-20T01:50:17.426864",
     "exception": false,
     "start_time": "2021-09-20T01:50:17.321538",
     "status": "completed"
    },
    "tags": []
   },
   "source": [
    "- Encode data\n",
    "- Split the data\n",
    "- Scale data"
   ]
  },
  {
   "cell_type": "code",
   "execution_count": 50,
   "id": "aeb77aa8",
   "metadata": {
    "execution": {
     "iopub.execute_input": "2021-09-20T01:50:17.642787Z",
     "iopub.status.busy": "2021-09-20T01:50:17.642116Z",
     "iopub.status.idle": "2021-09-20T01:50:17.647598Z",
     "shell.execute_reply": "2021-09-20T01:50:17.648071Z",
     "shell.execute_reply.started": "2021-09-20T01:36:02.610444Z"
    },
    "papermill": {
     "duration": 0.115623,
     "end_time": "2021-09-20T01:50:17.648241",
     "exception": false,
     "start_time": "2021-09-20T01:50:17.532618",
     "status": "completed"
    },
    "tags": []
   },
   "outputs": [],
   "source": [
    "df = games.copy()\n",
    "df['Average User Rating'] = df['Average User Rating'].astype(int)"
   ]
  },
  {
   "cell_type": "markdown",
   "id": "90ec1703",
   "metadata": {
    "papermill": {
     "duration": 0.106359,
     "end_time": "2021-09-20T01:50:17.861636",
     "exception": false,
     "start_time": "2021-09-20T01:50:17.755277",
     "status": "completed"
    },
    "tags": []
   },
   "source": [
    "*Encode the data*"
   ]
  },
  {
   "cell_type": "code",
   "execution_count": 51,
   "id": "44033468",
   "metadata": {
    "execution": {
     "iopub.execute_input": "2021-09-20T01:50:18.082229Z",
     "iopub.status.busy": "2021-09-20T01:50:18.081549Z",
     "iopub.status.idle": "2021-09-20T01:50:18.155082Z",
     "shell.execute_reply": "2021-09-20T01:50:18.155565Z",
     "shell.execute_reply.started": "2021-09-20T01:36:02.630602Z"
    },
    "papermill": {
     "duration": 0.188022,
     "end_time": "2021-09-20T01:50:18.155745",
     "exception": false,
     "start_time": "2021-09-20T01:50:17.967723",
     "status": "completed"
    },
    "tags": []
   },
   "outputs": [
    {
     "data": {
      "text/html": [
       "<div>\n",
       "<style scoped>\n",
       "    .dataframe tbody tr th:only-of-type {\n",
       "        vertical-align: middle;\n",
       "    }\n",
       "\n",
       "    .dataframe tbody tr th {\n",
       "        vertical-align: top;\n",
       "    }\n",
       "\n",
       "    .dataframe thead th {\n",
       "        text-align: right;\n",
       "    }\n",
       "</style>\n",
       "<table border=\"1\" class=\"dataframe\">\n",
       "  <thead>\n",
       "    <tr style=\"text-align: right;\">\n",
       "      <th></th>\n",
       "      <th>User Rating Count</th>\n",
       "      <th>Price</th>\n",
       "      <th>Size</th>\n",
       "      <th>Developer</th>\n",
       "      <th>Languages</th>\n",
       "      <th>Primary Genre</th>\n",
       "      <th>Secondary Genre</th>\n",
       "      <th>Original Release Date</th>\n",
       "      <th>Current Version Release Date</th>\n",
       "      <th>x0_0</th>\n",
       "      <th>x0_1</th>\n",
       "      <th>x1_0</th>\n",
       "      <th>x1_1</th>\n",
       "      <th>x2_4</th>\n",
       "      <th>x2_9</th>\n",
       "      <th>x2_12</th>\n",
       "      <th>x2_17</th>\n",
       "    </tr>\n",
       "  </thead>\n",
       "  <tbody>\n",
       "    <tr>\n",
       "      <th>0</th>\n",
       "      <td>1192</td>\n",
       "      <td>3</td>\n",
       "      <td>1210</td>\n",
       "      <td>4801</td>\n",
       "      <td>16</td>\n",
       "      <td>6</td>\n",
       "      <td>37</td>\n",
       "      <td>0</td>\n",
       "      <td>9</td>\n",
       "      <td>1.0</td>\n",
       "      <td>0.0</td>\n",
       "      <td>1.0</td>\n",
       "      <td>0.0</td>\n",
       "      <td>1.0</td>\n",
       "      <td>0.0</td>\n",
       "      <td>0.0</td>\n",
       "      <td>0.0</td>\n",
       "    </tr>\n",
       "    <tr>\n",
       "      <th>1</th>\n",
       "      <td>276</td>\n",
       "      <td>2</td>\n",
       "      <td>891</td>\n",
       "      <td>3992</td>\n",
       "      <td>0</td>\n",
       "      <td>6</td>\n",
       "      <td>37</td>\n",
       "      <td>0</td>\n",
       "      <td>10</td>\n",
       "      <td>1.0</td>\n",
       "      <td>0.0</td>\n",
       "      <td>1.0</td>\n",
       "      <td>0.0</td>\n",
       "      <td>1.0</td>\n",
       "      <td>0.0</td>\n",
       "      <td>0.0</td>\n",
       "      <td>0.0</td>\n",
       "    </tr>\n",
       "    <tr>\n",
       "      <th>2</th>\n",
       "      <td>1411</td>\n",
       "      <td>0</td>\n",
       "      <td>20</td>\n",
       "      <td>905</td>\n",
       "      <td>0</td>\n",
       "      <td>6</td>\n",
       "      <td>4</td>\n",
       "      <td>0</td>\n",
       "      <td>9</td>\n",
       "      <td>1.0</td>\n",
       "      <td>0.0</td>\n",
       "      <td>0.0</td>\n",
       "      <td>1.0</td>\n",
       "      <td>1.0</td>\n",
       "      <td>0.0</td>\n",
       "      <td>0.0</td>\n",
       "      <td>0.0</td>\n",
       "    </tr>\n",
       "    <tr>\n",
       "      <th>3</th>\n",
       "      <td>1768</td>\n",
       "      <td>0</td>\n",
       "      <td>1723</td>\n",
       "      <td>4801</td>\n",
       "      <td>16</td>\n",
       "      <td>6</td>\n",
       "      <td>37</td>\n",
       "      <td>0</td>\n",
       "      <td>9</td>\n",
       "      <td>1.0</td>\n",
       "      <td>0.0</td>\n",
       "      <td>0.0</td>\n",
       "      <td>1.0</td>\n",
       "      <td>1.0</td>\n",
       "      <td>0.0</td>\n",
       "      <td>0.0</td>\n",
       "      <td>0.0</td>\n",
       "    </tr>\n",
       "    <tr>\n",
       "      <th>4</th>\n",
       "      <td>23</td>\n",
       "      <td>3</td>\n",
       "      <td>2785</td>\n",
       "      <td>6067</td>\n",
       "      <td>14</td>\n",
       "      <td>6</td>\n",
       "      <td>37</td>\n",
       "      <td>0</td>\n",
       "      <td>10</td>\n",
       "      <td>1.0</td>\n",
       "      <td>0.0</td>\n",
       "      <td>1.0</td>\n",
       "      <td>0.0</td>\n",
       "      <td>1.0</td>\n",
       "      <td>0.0</td>\n",
       "      <td>0.0</td>\n",
       "      <td>0.0</td>\n",
       "    </tr>\n",
       "  </tbody>\n",
       "</table>\n",
       "</div>"
      ],
      "text/plain": [
       "   User Rating Count  Price  Size  Developer  Languages  Primary Genre  \\\n",
       "0               1192      3  1210       4801         16              6   \n",
       "1                276      2   891       3992          0              6   \n",
       "2               1411      0    20        905          0              6   \n",
       "3               1768      0  1723       4801         16              6   \n",
       "4                 23      3  2785       6067         14              6   \n",
       "\n",
       "   Secondary Genre  Original Release Date  Current Version Release Date  x0_0  \\\n",
       "0               37                      0                             9   1.0   \n",
       "1               37                      0                            10   1.0   \n",
       "2                4                      0                             9   1.0   \n",
       "3               37                      0                             9   1.0   \n",
       "4               37                      0                            10   1.0   \n",
       "\n",
       "   x0_1  x1_0  x1_1  x2_4  x2_9  x2_12  x2_17  \n",
       "0   0.0   1.0   0.0   1.0   0.0    0.0    0.0  \n",
       "1   0.0   1.0   0.0   1.0   0.0    0.0    0.0  \n",
       "2   0.0   0.0   1.0   1.0   0.0    0.0    0.0  \n",
       "3   0.0   0.0   1.0   1.0   0.0    0.0    0.0  \n",
       "4   0.0   1.0   0.0   1.0   0.0    0.0    0.0  "
      ]
     },
     "execution_count": 51,
     "metadata": {},
     "output_type": "execute_result"
    }
   ],
   "source": [
    "label_encoded=df[['User Rating Count', 'Price',  'Size', 'Developer', 'Languages','Primary Genre',\n",
    "                     'Secondary Genre', 'Original Release Date', 'Current Version Release Date']]\n",
    "                       \n",
    "onehot_coded = df[['In-app Purchases', 'FreeToPlay', 'Age Rating']]\n",
    "\n",
    "#onehotencoded\n",
    "enc = OneHotEncoder(handle_unknown='ignore')\n",
    "df_oh = pd.DataFrame(enc.fit_transform(onehot_coded).toarray(), columns = enc.get_feature_names()) #df_oh.columns\n",
    "\n",
    "\n",
    "#labelencoder\n",
    "df_le = label_encoded.apply(LabelEncoder().fit_transform)\n",
    "dataframe = df_le.join(df_oh)\n",
    "dataframe.head()"
   ]
  },
  {
   "cell_type": "markdown",
   "id": "a0123f6b",
   "metadata": {
    "papermill": {
     "duration": 0.105383,
     "end_time": "2021-09-20T01:50:18.366843",
     "exception": false,
     "start_time": "2021-09-20T01:50:18.261460",
     "status": "completed"
    },
    "tags": []
   },
   "source": [
    "*Split data*"
   ]
  },
  {
   "cell_type": "code",
   "execution_count": 52,
   "id": "2d44f5ec",
   "metadata": {
    "execution": {
     "iopub.execute_input": "2021-09-20T01:50:18.587369Z",
     "iopub.status.busy": "2021-09-20T01:50:18.586716Z",
     "iopub.status.idle": "2021-09-20T01:50:18.588510Z",
     "shell.execute_reply": "2021-09-20T01:50:18.588996Z",
     "shell.execute_reply.started": "2021-09-20T01:36:02.953842Z"
    },
    "papermill": {
     "duration": 0.114898,
     "end_time": "2021-09-20T01:50:18.589179",
     "exception": false,
     "start_time": "2021-09-20T01:50:18.474281",
     "status": "completed"
    },
    "tags": []
   },
   "outputs": [],
   "source": [
    "Y = pd.DataFrame(df['Average User Rating'])\n",
    "X = dataframe"
   ]
  },
  {
   "cell_type": "code",
   "execution_count": 53,
   "id": "b0bb76da",
   "metadata": {
    "execution": {
     "iopub.execute_input": "2021-09-20T01:50:18.805528Z",
     "iopub.status.busy": "2021-09-20T01:50:18.804803Z",
     "iopub.status.idle": "2021-09-20T01:50:18.816756Z",
     "shell.execute_reply": "2021-09-20T01:50:18.817221Z",
     "shell.execute_reply.started": "2021-09-20T01:36:02.962016Z"
    },
    "papermill": {
     "duration": 0.122292,
     "end_time": "2021-09-20T01:50:18.817414",
     "exception": false,
     "start_time": "2021-09-20T01:50:18.695122",
     "status": "completed"
    },
    "tags": []
   },
   "outputs": [],
   "source": [
    "X_train, X_test, Y_train, Y_test = train_test_split(X, Y, test_size=0.2, random_state=1)\n",
    "\n",
    "X_train, X_val, Y_train, Y_val = train_test_split(X_train, Y_train, test_size=0.25, random_state=1) "
   ]
  },
  {
   "cell_type": "markdown",
   "id": "0a65b207",
   "metadata": {
    "papermill": {
     "duration": 0.106934,
     "end_time": "2021-09-20T01:50:19.030784",
     "exception": false,
     "start_time": "2021-09-20T01:50:18.923850",
     "status": "completed"
    },
    "tags": []
   },
   "source": [
    "*Scale data*"
   ]
  },
  {
   "cell_type": "code",
   "execution_count": 54,
   "id": "f1820662",
   "metadata": {
    "execution": {
     "iopub.execute_input": "2021-09-20T01:50:19.250238Z",
     "iopub.status.busy": "2021-09-20T01:50:19.245896Z",
     "iopub.status.idle": "2021-09-20T01:50:19.260696Z",
     "shell.execute_reply": "2021-09-20T01:50:19.261193Z",
     "shell.execute_reply.started": "2021-09-20T01:36:02.981949Z"
    },
    "papermill": {
     "duration": 0.124794,
     "end_time": "2021-09-20T01:50:19.261372",
     "exception": false,
     "start_time": "2021-09-20T01:50:19.136578",
     "status": "completed"
    },
    "tags": []
   },
   "outputs": [],
   "source": [
    "scaler = MinMaxScaler()\n",
    "\n",
    "X_train = scaler.fit_transform(X_train)\n",
    "X_val = scaler.transform(X_val)\n",
    "X_test = scaler.transform(X_test)"
   ]
  },
  {
   "cell_type": "markdown",
   "id": "f3968e7c",
   "metadata": {
    "papermill": {
     "duration": 0.105046,
     "end_time": "2021-09-20T01:50:19.471777",
     "exception": false,
     "start_time": "2021-09-20T01:50:19.366731",
     "status": "completed"
    },
    "tags": []
   },
   "source": [
    "##### Look at the individual variables"
   ]
  },
  {
   "cell_type": "code",
   "execution_count": 55,
   "id": "b1bd6e6c",
   "metadata": {
    "execution": {
     "iopub.execute_input": "2021-09-20T01:50:19.691821Z",
     "iopub.status.busy": "2021-09-20T01:50:19.691167Z",
     "iopub.status.idle": "2021-09-20T01:50:19.762136Z",
     "shell.execute_reply": "2021-09-20T01:50:19.762921Z",
     "shell.execute_reply.started": "2021-09-20T01:36:03.002011Z"
    },
    "papermill": {
     "duration": 0.182856,
     "end_time": "2021-09-20T01:50:19.763199",
     "exception": false,
     "start_time": "2021-09-20T01:50:19.580343",
     "status": "completed"
    },
    "tags": []
   },
   "outputs": [
    {
     "data": {
      "text/html": [
       "<table class=\"simpletable\">\n",
       "<caption>OLS Regression Results</caption>\n",
       "<tr>\n",
       "  <th>Dep. Variable:</th>            <td>y</td>        <th>  R-squared:         </th> <td>   0.104</td> \n",
       "</tr>\n",
       "<tr>\n",
       "  <th>Model:</th>                   <td>OLS</td>       <th>  Adj. R-squared:    </th> <td>   0.103</td> \n",
       "</tr>\n",
       "<tr>\n",
       "  <th>Method:</th>             <td>Least Squares</td>  <th>  F-statistic:       </th> <td>   140.4</td> \n",
       "</tr>\n",
       "<tr>\n",
       "  <th>Date:</th>             <td>Mon, 20 Sep 2021</td> <th>  Prob (F-statistic):</th>  <td>  0.00</td>  \n",
       "</tr>\n",
       "<tr>\n",
       "  <th>Time:</th>                 <td>01:50:19</td>     <th>  Log-Likelihood:    </th> <td> -12923.</td> \n",
       "</tr>\n",
       "<tr>\n",
       "  <th>No. Observations:</th>      <td> 17007</td>      <th>  AIC:               </th> <td>2.588e+04</td>\n",
       "</tr>\n",
       "<tr>\n",
       "  <th>Df Residuals:</th>          <td> 16992</td>      <th>  BIC:               </th> <td>2.599e+04</td>\n",
       "</tr>\n",
       "<tr>\n",
       "  <th>Df Model:</th>              <td>    14</td>      <th>                     </th>     <td> </td>    \n",
       "</tr>\n",
       "<tr>\n",
       "  <th>Covariance Type:</th>      <td>nonrobust</td>    <th>                     </th>     <td> </td>    \n",
       "</tr>\n",
       "</table>\n",
       "<table class=\"simpletable\">\n",
       "<tr>\n",
       "    <td></td>       <th>coef</th>     <th>std err</th>      <th>t</th>      <th>P>|t|</th>  <th>[0.025</th>    <th>0.975]</th>  \n",
       "</tr>\n",
       "<tr>\n",
       "  <th>const</th> <td>    1.6496</td> <td>    0.012</td> <td>  132.363</td> <td> 0.000</td> <td>    1.625</td> <td>    1.674</td>\n",
       "</tr>\n",
       "<tr>\n",
       "  <th>x1</th>    <td>    0.0002</td> <td>  1.4e-05</td> <td>   14.089</td> <td> 0.000</td> <td>    0.000</td> <td>    0.000</td>\n",
       "</tr>\n",
       "<tr>\n",
       "  <th>x2</th>    <td>    0.0036</td> <td>    0.003</td> <td>    1.356</td> <td> 0.175</td> <td>   -0.002</td> <td>    0.009</td>\n",
       "</tr>\n",
       "<tr>\n",
       "  <th>x3</th>    <td>-1.686e-05</td> <td> 1.54e-06</td> <td>  -10.976</td> <td> 0.000</td> <td>-1.99e-05</td> <td>-1.39e-05</td>\n",
       "</tr>\n",
       "<tr>\n",
       "  <th>x4</th>    <td> 7.427e-07</td> <td> 1.59e-06</td> <td>    0.466</td> <td> 0.641</td> <td>-2.38e-06</td> <td> 3.87e-06</td>\n",
       "</tr>\n",
       "<tr>\n",
       "  <th>x5</th>    <td>   -0.0012</td> <td>    0.001</td> <td>   -1.834</td> <td> 0.067</td> <td>   -0.003</td> <td> 8.55e-05</td>\n",
       "</tr>\n",
       "<tr>\n",
       "  <th>x6</th>    <td>   -0.0077</td> <td>    0.003</td> <td>   -2.848</td> <td> 0.004</td> <td>   -0.013</td> <td>   -0.002</td>\n",
       "</tr>\n",
       "<tr>\n",
       "  <th>x7</th>    <td>   -0.0003</td> <td>    0.000</td> <td>   -1.165</td> <td> 0.244</td> <td>   -0.001</td> <td>    0.000</td>\n",
       "</tr>\n",
       "<tr>\n",
       "  <th>x8</th>    <td>    0.0805</td> <td>    0.002</td> <td>   33.369</td> <td> 0.000</td> <td>    0.076</td> <td>    0.085</td>\n",
       "</tr>\n",
       "<tr>\n",
       "  <th>x9</th>    <td>    0.0042</td> <td>    0.003</td> <td>    1.429</td> <td> 0.153</td> <td>   -0.002</td> <td>    0.010</td>\n",
       "</tr>\n",
       "<tr>\n",
       "  <th>x10</th>   <td>    0.8360</td> <td>    0.010</td> <td>   86.850</td> <td> 0.000</td> <td>    0.817</td> <td>    0.855</td>\n",
       "</tr>\n",
       "<tr>\n",
       "  <th>x11</th>   <td>    0.8136</td> <td>    0.010</td> <td>   82.519</td> <td> 0.000</td> <td>    0.794</td> <td>    0.833</td>\n",
       "</tr>\n",
       "<tr>\n",
       "  <th>x12</th>   <td>    0.8394</td> <td>    0.010</td> <td>   85.578</td> <td> 0.000</td> <td>    0.820</td> <td>    0.859</td>\n",
       "</tr>\n",
       "<tr>\n",
       "  <th>x13</th>   <td>    0.8102</td> <td>    0.010</td> <td>   82.036</td> <td> 0.000</td> <td>    0.791</td> <td>    0.830</td>\n",
       "</tr>\n",
       "<tr>\n",
       "  <th>x14</th>   <td>    0.4754</td> <td>    0.008</td> <td>   63.006</td> <td> 0.000</td> <td>    0.461</td> <td>    0.490</td>\n",
       "</tr>\n",
       "<tr>\n",
       "  <th>x15</th>   <td>    0.4113</td> <td>    0.010</td> <td>   40.743</td> <td> 0.000</td> <td>    0.392</td> <td>    0.431</td>\n",
       "</tr>\n",
       "<tr>\n",
       "  <th>x16</th>   <td>    0.3902</td> <td>    0.011</td> <td>   35.645</td> <td> 0.000</td> <td>    0.369</td> <td>    0.412</td>\n",
       "</tr>\n",
       "<tr>\n",
       "  <th>x17</th>   <td>    0.3727</td> <td>    0.017</td> <td>   22.499</td> <td> 0.000</td> <td>    0.340</td> <td>    0.405</td>\n",
       "</tr>\n",
       "</table>\n",
       "<table class=\"simpletable\">\n",
       "<tr>\n",
       "  <th>Omnibus:</th>       <td>8563.227</td> <th>  Durbin-Watson:     </th> <td>   1.891</td> \n",
       "</tr>\n",
       "<tr>\n",
       "  <th>Prob(Omnibus):</th>  <td> 0.000</td>  <th>  Jarque-Bera (JB):  </th> <td>57341.447</td>\n",
       "</tr>\n",
       "<tr>\n",
       "  <th>Skew:</th>           <td>-2.369</td>  <th>  Prob(JB):          </th> <td>    0.00</td> \n",
       "</tr>\n",
       "<tr>\n",
       "  <th>Kurtosis:</th>       <td>10.646</td>  <th>  Cond. No.          </th> <td>5.90e+19</td> \n",
       "</tr>\n",
       "</table><br/><br/>Notes:<br/>[1] Standard Errors assume that the covariance matrix of the errors is correctly specified.<br/>[2] The smallest eigenvalue is 2.39e-28. This might indicate that there are<br/>strong multicollinearity problems or that the design matrix is singular."
      ],
      "text/plain": [
       "<class 'statsmodels.iolib.summary.Summary'>\n",
       "\"\"\"\n",
       "                            OLS Regression Results                            \n",
       "==============================================================================\n",
       "Dep. Variable:                      y   R-squared:                       0.104\n",
       "Model:                            OLS   Adj. R-squared:                  0.103\n",
       "Method:                 Least Squares   F-statistic:                     140.4\n",
       "Date:                Mon, 20 Sep 2021   Prob (F-statistic):               0.00\n",
       "Time:                        01:50:19   Log-Likelihood:                -12923.\n",
       "No. Observations:               17007   AIC:                         2.588e+04\n",
       "Df Residuals:                   16992   BIC:                         2.599e+04\n",
       "Df Model:                          14                                         \n",
       "Covariance Type:            nonrobust                                         \n",
       "==============================================================================\n",
       "                 coef    std err          t      P>|t|      [0.025      0.975]\n",
       "------------------------------------------------------------------------------\n",
       "const          1.6496      0.012    132.363      0.000       1.625       1.674\n",
       "x1             0.0002    1.4e-05     14.089      0.000       0.000       0.000\n",
       "x2             0.0036      0.003      1.356      0.175      -0.002       0.009\n",
       "x3         -1.686e-05   1.54e-06    -10.976      0.000   -1.99e-05   -1.39e-05\n",
       "x4          7.427e-07   1.59e-06      0.466      0.641   -2.38e-06    3.87e-06\n",
       "x5            -0.0012      0.001     -1.834      0.067      -0.003    8.55e-05\n",
       "x6            -0.0077      0.003     -2.848      0.004      -0.013      -0.002\n",
       "x7            -0.0003      0.000     -1.165      0.244      -0.001       0.000\n",
       "x8             0.0805      0.002     33.369      0.000       0.076       0.085\n",
       "x9             0.0042      0.003      1.429      0.153      -0.002       0.010\n",
       "x10            0.8360      0.010     86.850      0.000       0.817       0.855\n",
       "x11            0.8136      0.010     82.519      0.000       0.794       0.833\n",
       "x12            0.8394      0.010     85.578      0.000       0.820       0.859\n",
       "x13            0.8102      0.010     82.036      0.000       0.791       0.830\n",
       "x14            0.4754      0.008     63.006      0.000       0.461       0.490\n",
       "x15            0.4113      0.010     40.743      0.000       0.392       0.431\n",
       "x16            0.3902      0.011     35.645      0.000       0.369       0.412\n",
       "x17            0.3727      0.017     22.499      0.000       0.340       0.405\n",
       "==============================================================================\n",
       "Omnibus:                     8563.227   Durbin-Watson:                   1.891\n",
       "Prob(Omnibus):                  0.000   Jarque-Bera (JB):            57341.447\n",
       "Skew:                          -2.369   Prob(JB):                         0.00\n",
       "Kurtosis:                      10.646   Cond. No.                     5.90e+19\n",
       "==============================================================================\n",
       "\n",
       "Notes:\n",
       "[1] Standard Errors assume that the covariance matrix of the errors is correctly specified.\n",
       "[2] The smallest eigenvalue is 2.39e-28. This might indicate that there are\n",
       "strong multicollinearity problems or that the design matrix is singular.\n",
       "\"\"\""
      ]
     },
     "execution_count": 55,
     "metadata": {},
     "output_type": "execute_result"
    }
   ],
   "source": [
    "xstats = dataframe.values\n",
    "ystats = games.loc[:,'Average User Rating'].values\n",
    "\n",
    "x1 = sm.add_constant(xstats)\n",
    "results = sm.OLS(ystats,x1).fit()\n",
    "results.summary()"
   ]
  },
  {
   "cell_type": "code",
   "execution_count": 56,
   "id": "4a1bd5cb",
   "metadata": {
    "execution": {
     "iopub.execute_input": "2021-09-20T01:50:20.017761Z",
     "iopub.status.busy": "2021-09-20T01:50:20.017127Z",
     "iopub.status.idle": "2021-09-20T01:50:27.316508Z",
     "shell.execute_reply": "2021-09-20T01:50:27.317026Z",
     "shell.execute_reply.started": "2021-09-20T01:36:03.089428Z"
    },
    "papermill": {
     "duration": 7.412003,
     "end_time": "2021-09-20T01:50:27.317213",
     "exception": false,
     "start_time": "2021-09-20T01:50:19.905210",
     "status": "completed"
    },
    "tags": []
   },
   "outputs": [
    {
     "data": {
      "text/html": [
       "\n",
       "    <style>\n",
       "    table.eli5-weights tr:hover {\n",
       "        filter: brightness(85%);\n",
       "    }\n",
       "</style>\n",
       "\n",
       "\n",
       "\n",
       "    \n",
       "\n",
       "    \n",
       "\n",
       "    \n",
       "\n",
       "    \n",
       "\n",
       "    \n",
       "\n",
       "    \n",
       "\n",
       "\n",
       "    \n",
       "\n",
       "    \n",
       "\n",
       "    \n",
       "\n",
       "    \n",
       "\n",
       "    \n",
       "\n",
       "    \n",
       "\n",
       "\n",
       "    \n",
       "\n",
       "    \n",
       "\n",
       "    \n",
       "\n",
       "    \n",
       "\n",
       "    \n",
       "        <table class=\"eli5-weights eli5-feature-importances\" style=\"border-collapse: collapse; border: none; margin-top: 0em; table-layout: auto;\">\n",
       "    <thead>\n",
       "    <tr style=\"border: none;\">\n",
       "        <th style=\"padding: 0 1em 0 0.5em; text-align: right; border: none;\">Weight</th>\n",
       "        <th style=\"padding: 0 0.5em 0 0.5em; text-align: left; border: none;\">Feature</th>\n",
       "    </tr>\n",
       "    </thead>\n",
       "    <tbody>\n",
       "    \n",
       "        <tr style=\"background-color: hsl(120, 100.00%, 80.00%); border: none;\">\n",
       "            <td style=\"padding: 0 1em 0 0.5em; text-align: right; border: none;\">\n",
       "                0.0383\n",
       "                \n",
       "                    &plusmn; 0.0062\n",
       "                \n",
       "            </td>\n",
       "            <td style=\"padding: 0 0.5em 0 0.5em; text-align: left; border: none;\">\n",
       "                User Rating Count\n",
       "            </td>\n",
       "        </tr>\n",
       "    \n",
       "        <tr style=\"background-color: hsl(120, 100.00%, 91.18%); border: none;\">\n",
       "            <td style=\"padding: 0 1em 0 0.5em; text-align: right; border: none;\">\n",
       "                0.0119\n",
       "                \n",
       "                    &plusmn; 0.0052\n",
       "                \n",
       "            </td>\n",
       "            <td style=\"padding: 0 0.5em 0 0.5em; text-align: left; border: none;\">\n",
       "                Original Release Date\n",
       "            </td>\n",
       "        </tr>\n",
       "    \n",
       "        <tr style=\"background-color: hsl(120, 100.00%, 96.19%); border: none;\">\n",
       "            <td style=\"padding: 0 1em 0 0.5em; text-align: right; border: none;\">\n",
       "                0.0036\n",
       "                \n",
       "                    &plusmn; 0.0014\n",
       "                \n",
       "            </td>\n",
       "            <td style=\"padding: 0 0.5em 0 0.5em; text-align: left; border: none;\">\n",
       "                Current Version Release Date\n",
       "            </td>\n",
       "        </tr>\n",
       "    \n",
       "        <tr style=\"background-color: hsl(120, 100.00%, 96.54%); border: none;\">\n",
       "            <td style=\"padding: 0 1em 0 0.5em; text-align: right; border: none;\">\n",
       "                0.0031\n",
       "                \n",
       "                    &plusmn; 0.0040\n",
       "                \n",
       "            </td>\n",
       "            <td style=\"padding: 0 0.5em 0 0.5em; text-align: left; border: none;\">\n",
       "                Developer\n",
       "            </td>\n",
       "        </tr>\n",
       "    \n",
       "        <tr style=\"background-color: hsl(120, 100.00%, 96.73%); border: none;\">\n",
       "            <td style=\"padding: 0 1em 0 0.5em; text-align: right; border: none;\">\n",
       "                0.0029\n",
       "                \n",
       "                    &plusmn; 0.0025\n",
       "                \n",
       "            </td>\n",
       "            <td style=\"padding: 0 0.5em 0 0.5em; text-align: left; border: none;\">\n",
       "                Size\n",
       "            </td>\n",
       "        </tr>\n",
       "    \n",
       "        <tr style=\"background-color: hsl(120, 100.00%, 98.38%); border: none;\">\n",
       "            <td style=\"padding: 0 1em 0 0.5em; text-align: right; border: none;\">\n",
       "                0.0011\n",
       "                \n",
       "                    &plusmn; 0.0009\n",
       "                \n",
       "            </td>\n",
       "            <td style=\"padding: 0 0.5em 0 0.5em; text-align: left; border: none;\">\n",
       "                Price\n",
       "            </td>\n",
       "        </tr>\n",
       "    \n",
       "        <tr style=\"background-color: hsl(120, 100.00%, 98.38%); border: none;\">\n",
       "            <td style=\"padding: 0 1em 0 0.5em; text-align: right; border: none;\">\n",
       "                0.0011\n",
       "                \n",
       "                    &plusmn; 0.0040\n",
       "                \n",
       "            </td>\n",
       "            <td style=\"padding: 0 0.5em 0 0.5em; text-align: left; border: none;\">\n",
       "                x2_4\n",
       "            </td>\n",
       "        </tr>\n",
       "    \n",
       "        <tr style=\"background-color: hsl(120, 100.00%, 98.85%); border: none;\">\n",
       "            <td style=\"padding: 0 1em 0 0.5em; text-align: right; border: none;\">\n",
       "                0.0006\n",
       "                \n",
       "                    &plusmn; 0.0004\n",
       "                \n",
       "            </td>\n",
       "            <td style=\"padding: 0 0.5em 0 0.5em; text-align: left; border: none;\">\n",
       "                x2_17\n",
       "            </td>\n",
       "        </tr>\n",
       "    \n",
       "        <tr style=\"background-color: hsl(120, 100.00%, 99.25%); border: none;\">\n",
       "            <td style=\"padding: 0 1em 0 0.5em; text-align: right; border: none;\">\n",
       "                0.0004\n",
       "                \n",
       "                    &plusmn; 0.0006\n",
       "                \n",
       "            </td>\n",
       "            <td style=\"padding: 0 0.5em 0 0.5em; text-align: left; border: none;\">\n",
       "                x2_12\n",
       "            </td>\n",
       "        </tr>\n",
       "    \n",
       "        <tr style=\"background-color: hsl(120, 100.00%, 99.65%); border: none;\">\n",
       "            <td style=\"padding: 0 1em 0 0.5em; text-align: right; border: none;\">\n",
       "                0.0001\n",
       "                \n",
       "                    &plusmn; 0.0020\n",
       "                \n",
       "            </td>\n",
       "            <td style=\"padding: 0 0.5em 0 0.5em; text-align: left; border: none;\">\n",
       "                Languages\n",
       "            </td>\n",
       "        </tr>\n",
       "    \n",
       "        <tr style=\"background-color: hsl(120, 100.00%, 100.00%); border: none;\">\n",
       "            <td style=\"padding: 0 1em 0 0.5em; text-align: right; border: none;\">\n",
       "                0.0000\n",
       "                \n",
       "                    &plusmn; 0.0019\n",
       "                \n",
       "            </td>\n",
       "            <td style=\"padding: 0 0.5em 0 0.5em; text-align: left; border: none;\">\n",
       "                Secondary Genre\n",
       "            </td>\n",
       "        </tr>\n",
       "    \n",
       "        <tr style=\"background-color: hsl(0, 100.00%, 99.43%); border: none;\">\n",
       "            <td style=\"padding: 0 1em 0 0.5em; text-align: right; border: none;\">\n",
       "                -0.0002\n",
       "                \n",
       "                    &plusmn; 0.0007\n",
       "                \n",
       "            </td>\n",
       "            <td style=\"padding: 0 0.5em 0 0.5em; text-align: left; border: none;\">\n",
       "                x0_0\n",
       "            </td>\n",
       "        </tr>\n",
       "    \n",
       "        <tr style=\"background-color: hsl(0, 100.00%, 99.25%); border: none;\">\n",
       "            <td style=\"padding: 0 1em 0 0.5em; text-align: right; border: none;\">\n",
       "                -0.0004\n",
       "                \n",
       "                    &plusmn; 0.0006\n",
       "                \n",
       "            </td>\n",
       "            <td style=\"padding: 0 0.5em 0 0.5em; text-align: left; border: none;\">\n",
       "                Primary Genre\n",
       "            </td>\n",
       "        </tr>\n",
       "    \n",
       "        <tr style=\"background-color: hsl(0, 100.00%, 98.92%); border: none;\">\n",
       "            <td style=\"padding: 0 1em 0 0.5em; text-align: right; border: none;\">\n",
       "                -0.0006\n",
       "                \n",
       "                    &plusmn; 0.0004\n",
       "                \n",
       "            </td>\n",
       "            <td style=\"padding: 0 0.5em 0 0.5em; text-align: left; border: none;\">\n",
       "                x2_9\n",
       "            </td>\n",
       "        </tr>\n",
       "    \n",
       "        <tr style=\"background-color: hsl(0, 100.00%, 98.78%); border: none;\">\n",
       "            <td style=\"padding: 0 1em 0 0.5em; text-align: right; border: none;\">\n",
       "                -0.0007\n",
       "                \n",
       "                    &plusmn; 0.0015\n",
       "                \n",
       "            </td>\n",
       "            <td style=\"padding: 0 0.5em 0 0.5em; text-align: left; border: none;\">\n",
       "                x1_1\n",
       "            </td>\n",
       "        </tr>\n",
       "    \n",
       "        <tr style=\"background-color: hsl(0, 100.00%, 98.51%); border: none;\">\n",
       "            <td style=\"padding: 0 1em 0 0.5em; text-align: right; border: none;\">\n",
       "                -0.0009\n",
       "                \n",
       "                    &plusmn; 0.0015\n",
       "                \n",
       "            </td>\n",
       "            <td style=\"padding: 0 0.5em 0 0.5em; text-align: left; border: none;\">\n",
       "                x1_0\n",
       "            </td>\n",
       "        </tr>\n",
       "    \n",
       "        <tr style=\"background-color: hsl(0, 100.00%, 97.52%); border: none;\">\n",
       "            <td style=\"padding: 0 1em 0 0.5em; text-align: right; border: none;\">\n",
       "                -0.0019\n",
       "                \n",
       "                    &plusmn; 0.0033\n",
       "                \n",
       "            </td>\n",
       "            <td style=\"padding: 0 0.5em 0 0.5em; text-align: left; border: none;\">\n",
       "                x0_1\n",
       "            </td>\n",
       "        </tr>\n",
       "    \n",
       "    \n",
       "    </tbody>\n",
       "</table>\n",
       "    \n",
       "\n",
       "    \n",
       "\n",
       "\n",
       "    \n",
       "\n",
       "    \n",
       "\n",
       "    \n",
       "\n",
       "    \n",
       "\n",
       "    \n",
       "\n",
       "    \n",
       "\n",
       "\n",
       "\n"
      ],
      "text/plain": [
       "<IPython.core.display.HTML object>"
      ]
     },
     "execution_count": 56,
     "metadata": {},
     "output_type": "execute_result"
    }
   ],
   "source": [
    "rfc_model = RandomForestClassifier(random_state=0).fit(X_train, Y_train)\n",
    "perm = PermutationImportance(rfc_model, random_state=1).fit(X_test, Y_test)\n",
    "eli5.show_weights(perm, feature_names = X.columns.tolist() )# = xperm_test.columns.tolist()"
   ]
  },
  {
   "cell_type": "markdown",
   "id": "7e8da875",
   "metadata": {
    "papermill": {
     "duration": 0.118357,
     "end_time": "2021-09-20T01:50:27.543302",
     "exception": false,
     "start_time": "2021-09-20T01:50:27.424945",
     "status": "completed"
    },
    "tags": []
   },
   "source": [
    "Most important variable: User rating count."
   ]
  },
  {
   "cell_type": "markdown",
   "id": "ef00ece4",
   "metadata": {
    "papermill": {
     "duration": 0.118552,
     "end_time": "2021-09-20T01:50:27.771088",
     "exception": false,
     "start_time": "2021-09-20T01:50:27.652536",
     "status": "completed"
    },
    "tags": []
   },
   "source": [
    "## 8. Model validation"
   ]
  },
  {
   "cell_type": "markdown",
   "id": "31c4518d",
   "metadata": {
    "papermill": {
     "duration": 0.110034,
     "end_time": "2021-09-20T01:50:28.001822",
     "exception": false,
     "start_time": "2021-09-20T01:50:27.891788",
     "status": "completed"
    },
    "tags": []
   },
   "source": [
    "Accuracy score: Overall model score on training sets.\n",
    "\n",
    "Precision score: Computes the precision of the model.\n",
    "\n",
    "F1 score: Weighted average of precision and recall values."
   ]
  },
  {
   "cell_type": "markdown",
   "id": "410b4a79",
   "metadata": {
    "papermill": {
     "duration": 0.110576,
     "end_time": "2021-09-20T01:50:28.223917",
     "exception": false,
     "start_time": "2021-09-20T01:50:28.113341",
     "status": "completed"
    },
    "tags": []
   },
   "source": [
    "##### X_train, Y_train, X_val, Y_val"
   ]
  },
  {
   "cell_type": "code",
   "execution_count": 57,
   "id": "a609a3d9",
   "metadata": {
    "execution": {
     "iopub.execute_input": "2021-09-20T01:50:28.450714Z",
     "iopub.status.busy": "2021-09-20T01:50:28.446327Z",
     "iopub.status.idle": "2021-09-20T01:50:28.453830Z",
     "shell.execute_reply": "2021-09-20T01:50:28.453188Z",
     "shell.execute_reply.started": "2021-09-20T01:36:10.920351Z"
    },
    "papermill": {
     "duration": 0.119153,
     "end_time": "2021-09-20T01:50:28.453984",
     "exception": false,
     "start_time": "2021-09-20T01:50:28.334831",
     "status": "completed"
    },
    "tags": []
   },
   "outputs": [],
   "source": [
    "def validation_predictor(ml): \n",
    "    model = ml.fit(X_train,Y_train)\n",
    "    print('Model: ',model)\n",
    "    print('\\n')\n",
    "    global y_pred_val\n",
    "    y_pred_val = model.predict(X_val)\n",
    "    cm = confusion_matrix(Y_val, y_pred_val)\n",
    "    \n",
    "    print('Accuracy score on train sets: {}'.format(model.score(X_train,Y_train)))\n",
    "    print('Precision score: {}'.format(precision_score(Y_val, y_pred_val, average='micro')))\n",
    "    print('F1 score: {}'.format(f1_score(Y_val, y_pred_val, average='macro')))"
   ]
  },
  {
   "cell_type": "code",
   "execution_count": 58,
   "id": "5b4259bc",
   "metadata": {
    "execution": {
     "iopub.execute_input": "2021-09-20T01:50:28.679702Z",
     "iopub.status.busy": "2021-09-20T01:50:28.678005Z",
     "iopub.status.idle": "2021-09-20T01:50:30.446170Z",
     "shell.execute_reply": "2021-09-20T01:50:30.445246Z",
     "shell.execute_reply.started": "2021-09-20T01:36:10.930317Z"
    },
    "papermill": {
     "duration": 1.882004,
     "end_time": "2021-09-20T01:50:30.446363",
     "exception": false,
     "start_time": "2021-09-20T01:50:28.564359",
     "status": "completed"
    },
    "tags": []
   },
   "outputs": [
    {
     "name": "stdout",
     "output_type": "stream",
     "text": [
      "Model:  KNeighborsClassifier(n_jobs=-1, n_neighbors=6)\n",
      "\n",
      "\n",
      "Accuracy score on train sets: 0.8411251592668822\n",
      "Precision score: 0.8130511463844797\n",
      "F1 score: 0.22231162594177994\n"
     ]
    }
   ],
   "source": [
    "validation_predictor(KNeighborsClassifier(n_neighbors = 6, weights = 'uniform', n_jobs=-1, p = 2))"
   ]
  },
  {
   "cell_type": "code",
   "execution_count": 59,
   "id": "bb04bea0",
   "metadata": {
    "execution": {
     "iopub.execute_input": "2021-09-20T01:50:30.670686Z",
     "iopub.status.busy": "2021-09-20T01:50:30.668697Z",
     "iopub.status.idle": "2021-09-20T01:50:30.744259Z",
     "shell.execute_reply": "2021-09-20T01:50:30.744725Z",
     "shell.execute_reply.started": "2021-09-20T01:36:13.846682Z"
    },
    "papermill": {
     "duration": 0.189518,
     "end_time": "2021-09-20T01:50:30.744903",
     "exception": false,
     "start_time": "2021-09-20T01:50:30.555385",
     "status": "completed"
    },
    "tags": []
   },
   "outputs": [
    {
     "name": "stdout",
     "output_type": "stream",
     "text": [
      "Model:  DecisionTreeClassifier(ccp_alpha=0.0001, max_depth=25, random_state=10)\n",
      "\n",
      "\n",
      "Accuracy score on train sets: 0.9748113300009801\n",
      "Precision score: 0.7748383303938859\n",
      "F1 score: 0.30019355856584634\n"
     ]
    }
   ],
   "source": [
    "validation_predictor(DecisionTreeClassifier(ccp_alpha=0.0001, criterion = 'gini', max_depth=25, random_state = 10))"
   ]
  },
  {
   "cell_type": "code",
   "execution_count": 60,
   "id": "7953fe14",
   "metadata": {
    "execution": {
     "iopub.execute_input": "2021-09-20T01:50:30.978851Z",
     "iopub.status.busy": "2021-09-20T01:50:30.971421Z",
     "iopub.status.idle": "2021-09-20T01:50:40.637813Z",
     "shell.execute_reply": "2021-09-20T01:50:40.636675Z",
     "shell.execute_reply.started": "2021-09-20T01:39:25.102236Z"
    },
    "papermill": {
     "duration": 9.784574,
     "end_time": "2021-09-20T01:50:40.638072",
     "exception": false,
     "start_time": "2021-09-20T01:50:30.853498",
     "status": "completed"
    },
    "tags": []
   },
   "outputs": [
    {
     "name": "stdout",
     "output_type": "stream",
     "text": [
      "Model:  <catboost.core.CatBoostClassifier object at 0x7f40e1a87b50>\n",
      "\n",
      "\n",
      "Accuracy score on train sets: 0.9928452415956092\n",
      "Precision score: 0.8151087595532039\n",
      "F1 score: 0.30782676655333485\n"
     ]
    }
   ],
   "source": [
    "validation_predictor(CatBoostClassifier(iterations=1550,depth=5, learning_rate=.25, eval_metric='AUC', verbose = 0))"
   ]
  },
  {
   "cell_type": "code",
   "execution_count": 61,
   "id": "6509b73e",
   "metadata": {
    "execution": {
     "iopub.execute_input": "2021-09-20T01:50:40.863729Z",
     "iopub.status.busy": "2021-09-20T01:50:40.862974Z",
     "iopub.status.idle": "2021-09-20T01:50:42.393682Z",
     "shell.execute_reply": "2021-09-20T01:50:42.392773Z",
     "shell.execute_reply.started": "2021-09-20T01:36:26.931311Z"
    },
    "papermill": {
     "duration": 1.646338,
     "end_time": "2021-09-20T01:50:42.393832",
     "exception": false,
     "start_time": "2021-09-20T01:50:40.747494",
     "status": "completed"
    },
    "tags": []
   },
   "outputs": [
    {
     "name": "stdout",
     "output_type": "stream",
     "text": [
      "Model:  RandomForestClassifier(ccp_alpha=0.001, criterion='entropy', max_depth=25,\n",
      "                       n_estimators=50, oob_score=True, random_state=4)\n",
      "\n",
      "\n",
      "Accuracy score on train sets: 0.8471037930020582\n",
      "Precision score: 0.8236331569664903\n",
      "F1 score: 0.22316251825847763\n"
     ]
    }
   ],
   "source": [
    "validation_predictor(RandomForestClassifier(ccp_alpha=0.001,n_estimators=50, max_depth = 25, criterion = 'entropy',\n",
    "                                            oob_score =  True, random_state = 4))"
   ]
  },
  {
   "cell_type": "code",
   "execution_count": 62,
   "id": "d735cb57",
   "metadata": {
    "execution": {
     "iopub.execute_input": "2021-09-20T01:50:42.616647Z",
     "iopub.status.busy": "2021-09-20T01:50:42.615976Z",
     "iopub.status.idle": "2021-09-20T01:51:08.230862Z",
     "shell.execute_reply": "2021-09-20T01:51:08.231466Z",
     "shell.execute_reply.started": "2021-09-20T01:36:28.524799Z"
    },
    "papermill": {
     "duration": 25.728744,
     "end_time": "2021-09-20T01:51:08.231675",
     "exception": false,
     "start_time": "2021-09-20T01:50:42.502931",
     "status": "completed"
    },
    "tags": []
   },
   "outputs": [
    {
     "name": "stdout",
     "output_type": "stream",
     "text": [
      "Model:  XGBClassifier(base_score=0.5, booster='gbtree', colsample_bylevel=1,\n",
      "              colsample_bynode=1, colsample_bytree=1, eval_metric='mlogloss',\n",
      "              gamma=0, gpu_id=-1, importance_type='gain',\n",
      "              interaction_constraints='', learning_rate=0.08, max_delta_step=0,\n",
      "              max_depth=5, min_child_weight=1, missing=nan,\n",
      "              monotone_constraints='()', n_estimators=1000, n_jobs=4,\n",
      "              nthread=-1, num_parallel_tree=1, objective='multi:softprob',\n",
      "              random_state=7, reg_alpha=0, reg_lambda=1, scale_pos_weight=None,\n",
      "              subsample=1, tree_method='exact', validate_parameters=1,\n",
      "              verbosity=None)\n",
      "\n",
      "\n",
      "Accuracy score on train sets: 0.994413407821229\n",
      "Precision score: 0.8203997648442093\n",
      "F1 score: 0.32787914064332124\n"
     ]
    }
   ],
   "source": [
    "validation_predictor(xgb.XGBClassifier(eval_metric='mlogloss',learning_rate=0.08,\n",
    "                                       max_depth=5, n_estimators=1000, random_state =7, nthread = -1))"
   ]
  },
  {
   "cell_type": "code",
   "execution_count": 63,
   "id": "0918c142",
   "metadata": {
    "execution": {
     "iopub.execute_input": "2021-09-20T01:51:08.454183Z",
     "iopub.status.busy": "2021-09-20T01:51:08.453532Z",
     "iopub.status.idle": "2021-09-20T01:51:15.728436Z",
     "shell.execute_reply": "2021-09-20T01:51:15.727116Z",
     "shell.execute_reply.started": "2021-09-20T01:36:57.028215Z"
    },
    "papermill": {
     "duration": 7.388129,
     "end_time": "2021-09-20T01:51:15.728691",
     "exception": false,
     "start_time": "2021-09-20T01:51:08.340562",
     "status": "completed"
    },
    "tags": []
   },
   "outputs": [
    {
     "name": "stdout",
     "output_type": "stream",
     "text": [
      "Model:  LGBMClassifier(learning_rate=0.15, max_bin=55, n_estimators=2300, num_leaves=5,\n",
      "               objective='multiclass')\n",
      "\n",
      "\n",
      "Accuracy score on train sets: 0.9946094285994316\n",
      "Precision score: 0.8095238095238095\n",
      "F1 score: 0.31828004868505716\n"
     ]
    }
   ],
   "source": [
    "validation_predictor(lgb.LGBMClassifier(objective='multiclass',num_leaves=5, max_depth = -1,\n",
    "                              learning_rate=0.15, n_estimators=2300, max_bin = 55))"
   ]
  },
  {
   "cell_type": "markdown",
   "id": "8a749bc3",
   "metadata": {
    "papermill": {
     "duration": 0.11047,
     "end_time": "2021-09-20T01:51:15.950434",
     "exception": false,
     "start_time": "2021-09-20T01:51:15.839964",
     "status": "completed"
    },
    "tags": []
   },
   "source": [
    "## 9. Final model build"
   ]
  },
  {
   "cell_type": "code",
   "execution_count": 64,
   "id": "6618f32d",
   "metadata": {
    "execution": {
     "iopub.execute_input": "2021-09-20T01:51:16.181947Z",
     "iopub.status.busy": "2021-09-20T01:51:16.178007Z",
     "iopub.status.idle": "2021-09-20T01:51:16.184786Z",
     "shell.execute_reply": "2021-09-20T01:51:16.184215Z",
     "shell.execute_reply.started": "2021-09-20T01:37:05.412768Z"
    },
    "papermill": {
     "duration": 0.123209,
     "end_time": "2021-09-20T01:51:16.184931",
     "exception": false,
     "start_time": "2021-09-20T01:51:16.061722",
     "status": "completed"
    },
    "tags": []
   },
   "outputs": [],
   "source": [
    "def predictor(ml): \n",
    "    model = ml.fit(X_train,Y_train)\n",
    "    global y_pred\n",
    "    y_pred = model.predict(X_test)\n",
    "    cm = confusion_matrix(Y_test, y_pred)\n",
    "    \n",
    "    print('Accuracy score on train sets: {}'.format(model.score(X_train,Y_train)))\n",
    "    print('Precision score: {}'.format(precision_score(Y_test, y_pred, average='micro')))"
   ]
  },
  {
   "cell_type": "markdown",
   "id": "53589113",
   "metadata": {
    "papermill": {
     "duration": 0.108844,
     "end_time": "2021-09-20T01:51:16.404618",
     "exception": false,
     "start_time": "2021-09-20T01:51:16.295774",
     "status": "completed"
    },
    "tags": []
   },
   "source": [
    "### K-Neighbors"
   ]
  },
  {
   "cell_type": "code",
   "execution_count": 65,
   "id": "19f1f4a4",
   "metadata": {
    "execution": {
     "iopub.execute_input": "2021-09-20T01:51:16.631336Z",
     "iopub.status.busy": "2021-09-20T01:51:16.629471Z",
     "iopub.status.idle": "2021-09-20T01:51:25.010555Z",
     "shell.execute_reply": "2021-09-20T01:51:25.009795Z",
     "shell.execute_reply.started": "2021-09-20T01:37:05.431837Z"
    },
    "papermill": {
     "duration": 8.495454,
     "end_time": "2021-09-20T01:51:25.010758",
     "exception": false,
     "start_time": "2021-09-20T01:51:16.515304",
     "status": "completed"
    },
    "scrolled": true,
    "tags": []
   },
   "outputs": [
    {
     "name": "stdout",
     "output_type": "stream",
     "text": [
      "Accuracy score on train sets: 0.8571008526903852\n",
      "Precision score: 0.7771898883009994\n"
     ]
    }
   ],
   "source": [
    "predictor(KNeighborsClassifier(n_neighbors = 3, weights = 'uniform', n_jobs=-1, p = 5))\n",
    "\n",
    "KNC = y_pred"
   ]
  },
  {
   "cell_type": "markdown",
   "id": "bc9f78f1",
   "metadata": {
    "papermill": {
     "duration": 0.109993,
     "end_time": "2021-09-20T01:51:25.231500",
     "exception": false,
     "start_time": "2021-09-20T01:51:25.121507",
     "status": "completed"
    },
    "tags": []
   },
   "source": [
    "### Decision Tree"
   ]
  },
  {
   "cell_type": "code",
   "execution_count": 66,
   "id": "afb5cfe9",
   "metadata": {
    "execution": {
     "iopub.execute_input": "2021-09-20T01:51:25.455735Z",
     "iopub.status.busy": "2021-09-20T01:51:25.455029Z",
     "iopub.status.idle": "2021-09-20T01:51:25.527442Z",
     "shell.execute_reply": "2021-09-20T01:51:25.528105Z",
     "shell.execute_reply.started": "2021-09-20T01:37:14.813722Z"
    },
    "papermill": {
     "duration": 0.187196,
     "end_time": "2021-09-20T01:51:25.528276",
     "exception": false,
     "start_time": "2021-09-20T01:51:25.341080",
     "status": "completed"
    },
    "tags": []
   },
   "outputs": [
    {
     "name": "stdout",
     "output_type": "stream",
     "text": [
      "Accuracy score on train sets: 0.9748113300009801\n",
      "Precision score: 0.7921810699588477\n"
     ]
    }
   ],
   "source": [
    "predictor(DecisionTreeClassifier(ccp_alpha=0.0001, criterion = 'gini', max_depth=25, random_state = 10))"
   ]
  },
  {
   "cell_type": "markdown",
   "id": "88a76c7d",
   "metadata": {
    "papermill": {
     "duration": 0.109729,
     "end_time": "2021-09-20T01:51:25.748155",
     "exception": false,
     "start_time": "2021-09-20T01:51:25.638426",
     "status": "completed"
    },
    "tags": []
   },
   "source": [
    "### Catboost"
   ]
  },
  {
   "cell_type": "code",
   "execution_count": 67,
   "id": "993b0ea8",
   "metadata": {
    "execution": {
     "iopub.execute_input": "2021-09-20T01:51:25.978821Z",
     "iopub.status.busy": "2021-09-20T01:51:25.977810Z",
     "iopub.status.idle": "2021-09-20T01:51:35.704739Z",
     "shell.execute_reply": "2021-09-20T01:51:35.705337Z",
     "shell.execute_reply.started": "2021-09-20T01:39:07.153428Z"
    },
    "papermill": {
     "duration": 9.846353,
     "end_time": "2021-09-20T01:51:35.705543",
     "exception": false,
     "start_time": "2021-09-20T01:51:25.859190",
     "status": "completed"
    },
    "tags": []
   },
   "outputs": [
    {
     "name": "stdout",
     "output_type": "stream",
     "text": [
      "Accuracy score on train sets: 0.9928452415956092\n",
      "Precision score: 0.823045267489712\n"
     ]
    }
   ],
   "source": [
    "predictor(CatBoostClassifier(iterations=1550,depth=5, learning_rate=.25, eval_metric='AUC', verbose = 0))"
   ]
  },
  {
   "cell_type": "markdown",
   "id": "0abf13cc",
   "metadata": {
    "papermill": {
     "duration": 0.111665,
     "end_time": "2021-09-20T01:51:35.927903",
     "exception": false,
     "start_time": "2021-09-20T01:51:35.816238",
     "status": "completed"
    },
    "tags": []
   },
   "source": [
    "### Random forest"
   ]
  },
  {
   "cell_type": "code",
   "execution_count": 68,
   "id": "85a2d01f",
   "metadata": {
    "execution": {
     "iopub.execute_input": "2021-09-20T01:51:36.156017Z",
     "iopub.status.busy": "2021-09-20T01:51:36.155377Z",
     "iopub.status.idle": "2021-09-20T01:51:37.674030Z",
     "shell.execute_reply": "2021-09-20T01:51:37.673321Z",
     "shell.execute_reply.started": "2021-09-20T01:37:27.407473Z"
    },
    "papermill": {
     "duration": 1.634715,
     "end_time": "2021-09-20T01:51:37.674188",
     "exception": false,
     "start_time": "2021-09-20T01:51:36.039473",
     "status": "completed"
    },
    "tags": []
   },
   "outputs": [
    {
     "name": "stdout",
     "output_type": "stream",
     "text": [
      "Accuracy score on train sets: 0.8471037930020582\n",
      "Precision score: 0.8242210464432687\n"
     ]
    }
   ],
   "source": [
    "predictor(RandomForestClassifier(ccp_alpha=0.001,n_estimators=50, max_depth = 25, criterion = 'entropy',\n",
    "                                 oob_score =  True, random_state = 4))"
   ]
  },
  {
   "cell_type": "markdown",
   "id": "37b4b3c3",
   "metadata": {
    "papermill": {
     "duration": 0.111075,
     "end_time": "2021-09-20T01:51:37.895416",
     "exception": false,
     "start_time": "2021-09-20T01:51:37.784341",
     "status": "completed"
    },
    "tags": []
   },
   "source": [
    "### XGBoost"
   ]
  },
  {
   "cell_type": "code",
   "execution_count": 69,
   "id": "8f965cf0",
   "metadata": {
    "execution": {
     "iopub.execute_input": "2021-09-20T01:51:38.121089Z",
     "iopub.status.busy": "2021-09-20T01:51:38.120470Z",
     "iopub.status.idle": "2021-09-20T01:52:02.745858Z",
     "shell.execute_reply": "2021-09-20T01:52:02.747153Z",
     "shell.execute_reply.started": "2021-09-20T01:37:28.994547Z"
    },
    "papermill": {
     "duration": 24.741383,
     "end_time": "2021-09-20T01:52:02.747420",
     "exception": false,
     "start_time": "2021-09-20T01:51:38.006037",
     "status": "completed"
    },
    "tags": []
   },
   "outputs": [
    {
     "name": "stdout",
     "output_type": "stream",
     "text": [
      "Accuracy score on train sets: 0.994413407821229\n",
      "Precision score: 0.8245149911816578\n"
     ]
    }
   ],
   "source": [
    "predictor(xgb.XGBClassifier(eval_metric='mlogloss',learning_rate=0.08,\n",
    "                                       max_depth=5, n_estimators=1000, random_state =7, nthread = -1))"
   ]
  },
  {
   "cell_type": "markdown",
   "id": "158976c1",
   "metadata": {
    "papermill": {
     "duration": 0.110314,
     "end_time": "2021-09-20T01:52:02.970985",
     "exception": false,
     "start_time": "2021-09-20T01:52:02.860671",
     "status": "completed"
    },
    "tags": []
   },
   "source": [
    "### LGBM"
   ]
  },
  {
   "cell_type": "code",
   "execution_count": 70,
   "id": "d362cc4e",
   "metadata": {
    "execution": {
     "iopub.execute_input": "2021-09-20T01:52:03.201586Z",
     "iopub.status.busy": "2021-09-20T01:52:03.200581Z",
     "iopub.status.idle": "2021-09-20T01:52:10.572142Z",
     "shell.execute_reply": "2021-09-20T01:52:10.572732Z",
     "shell.execute_reply.started": "2021-09-20T01:37:57.876895Z"
    },
    "papermill": {
     "duration": 7.489027,
     "end_time": "2021-09-20T01:52:10.572938",
     "exception": false,
     "start_time": "2021-09-20T01:52:03.083911",
     "status": "completed"
    },
    "tags": []
   },
   "outputs": [
    {
     "name": "stdout",
     "output_type": "stream",
     "text": [
      "Accuracy score on train sets: 0.9946094285994316\n",
      "Precision score: 0.8171663727219283\n"
     ]
    }
   ],
   "source": [
    "predictor(lgb.LGBMClassifier(objective='multiclass',num_leaves=5, max_depth = -1,\n",
    "                              learning_rate=0.15, n_estimators=2300, max_bin = 55))"
   ]
  },
  {
   "cell_type": "markdown",
   "id": "52e31ce3",
   "metadata": {
    "papermill": {
     "duration": 0.111354,
     "end_time": "2021-09-20T01:52:10.796115",
     "exception": false,
     "start_time": "2021-09-20T01:52:10.684761",
     "status": "completed"
    },
    "tags": []
   },
   "source": [
    "## 10. Conclusion"
   ]
  },
  {
   "cell_type": "markdown",
   "id": "7189d548",
   "metadata": {
    "papermill": {
     "duration": 0.111455,
     "end_time": "2021-09-20T01:52:11.019635",
     "exception": false,
     "start_time": "2021-09-20T01:52:10.908180",
     "status": "completed"
    },
    "tags": []
   },
   "source": [
    "In order to have a solid prediction for an app's appstore rating you must consider the following variables to have a big impact on the final average user rating:\n",
    "\n",
    "-User Rating Count\n",
    "\n",
    "-Original Release Date\n",
    "\n",
    "-Current Version Release Date\n",
    "\n",
    "-Developer\n",
    "\n",
    "-Size\n",
    "\n",
    "The more user ratings an app had the more likely it was to have a higher rating, which is surprising because you'd expect more negative reviews. \n",
    "\n",
    "When predicting future appstore apps, we will use the following classifiers: \n",
    "\n",
    "-Decision Tree\n",
    "\n",
    "-Catboost\n",
    "\n",
    "-XGboost\n",
    "\n",
    "-LGBM\n",
    "\n",
    "All four of these algorithms had the highest overall accuracy and precision. On the otherhand we can blend these four models in one and use the mean to predict future app ratings.\n"
   ]
  }
 ],
 "metadata": {
  "kernelspec": {
   "display_name": "Python 3",
   "language": "python",
   "name": "python3"
  },
  "language_info": {
   "codemirror_mode": {
    "name": "ipython",
    "version": 3
   },
   "file_extension": ".py",
   "mimetype": "text/x-python",
   "name": "python",
   "nbconvert_exporter": "python",
   "pygments_lexer": "ipython3",
   "version": "3.7.10"
  },
  "papermill": {
   "default_parameters": {},
   "duration": 161.012636,
   "end_time": "2021-09-20T01:52:12.872741",
   "environment_variables": {},
   "exception": null,
   "input_path": "__notebook__.ipynb",
   "output_path": "__notebook__.ipynb",
   "parameters": {},
   "start_time": "2021-09-20T01:49:31.860105",
   "version": "2.3.3"
  }
 },
 "nbformat": 4,
 "nbformat_minor": 5
}
